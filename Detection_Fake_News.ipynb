{
 "cells": [
  {
   "cell_type": "markdown",
   "metadata": {},
   "source": [
    "# _Projet Informatique : déterminer l'exactitude de tweets répandant des rumeurs_\n",
    "\n",
    "**Clémentine Abed-Meraim, Mathilde Binet - *1A ENSAE***"
   ]
  },
  {
   "cell_type": "markdown",
   "metadata": {},
   "source": [
    "## Résumé :"
   ]
  },
  {
   "cell_type": "markdown",
   "metadata": {},
   "source": [
    "&emsp; &emsp; Ces dernières années, les médias ont souvent été montrés du doigt à cause de leur possible influence dans les campagnes électorales, les décisions politiques, etc, notamment par le biais de publication de « Fake News ». La détection de ces « Fake News » est alors devenue un enjeu crucial pour garantir des informations précises et véridiques, notamment sur les réseaux sociaux – premier lieu de publication de Fake News. De nombreuses études tentent d’élaborer des modèles et de définir des critères afin de déterminer la véracité de certaines informations. \n",
    "\n",
    "&emsp; &emsp; Afin d’aborder ce problème de manière simplifiée, nous avons décidé de nous pencher sur une forme d’information à la fois concise et  riche en information : les tweets. Deux approches étaient envisageables pour évaluer la véracité d’un tweet sans entrer dans des méthodes trop complexes : le NLP (Natural Language Processing) ou l’apprentissage automatique par Machine Learning. Souhaitant avoir une première découverte du Machine Learning, nous avons donc naturellement choisi cette deuxième approche. Afin d’étudier l’apprentissage supervisé, nous avons procédé en deux temps : d’abord nous avons optimisé les features de notre base de données de tweets, ensuite nous avons considéré différents modèles de Machine Learning qui étaient adaptés à la problématique de classification entre « True News » et « Fake News ». \n",
    "\n",
    "&emsp; &emsp; Notre première difficulté a été de trouver une base de données de tweets contenant les features qui nous intéressaient (nombre de retweets, de favoris, etc). Nous en avons finalement trouvé une sur GitHub, mais qui était de taille restreinte (250 tweets). Les résultats de notre programme sont alors malheureusement peu significatifs et restent difficiles à évaluer. Toutefois, nous étions surtout intéressées par la démarche de recodage des features et par la préparation de la base de données. Cela nous a également permis de porter un regard critique sur notre programme. Dans un premier temps, nous nous sommes ainsi concentrées sur les features, dont l’optimisation et le recodage a déjà été une tâche conséquente. Par la suite, la compréhension de l’usage et de l’optimisation des paramètres des modèles de prédiction que nous avions choisi fût extrêmement fastidieux et a dépassé nos attentes initiales vis-à-vis du projet (c’est-à-dire une introduction aux méthodes de bases du Machine Learning). \n",
    "\n",
    "&emsp; &emsp; Cette première expérience d’implémentation d’un programme complet d’apprentissage supervisé a été extrêmement formatrice pour comprendre les enjeux du Machine Learning et expérimenter la manipulation de bases de données. Nous sommes en effet toutes deux très intéressées par ce champ de l’informatique, nous étions donc très motivées et pleines d'initiatives. Travailler ensemble nous a ainsi permit une aide mutuelle précieuse en partageant nos expériences et réflexions et en apportant un recul critique sur nos travaux. Nous avons pu chacune gagner grandement en autonomie et acquérir de nouvelles compétences en programmation. \n",
    "\n",
    "&emsp; &emsp; Finalement, après avoir réalisé une étude complète sur notre base de donnée, nous nous sommes heurtées à la difficulté d'exploiter les résultats de part le caractère très restreint de la base de test (50 tweets) pour comparer l'efficacité des prédictions des modèles. Nous avons alors décidé de comparer ces résultats et ceux d'une nouvelle base de données d'articles de Facebook, plus grande cette fois ci. Ces deux bases de données contenant des features comparables (nombres de partages, de réactions, respectivement retweets et favoris), il était intéressant de comparer les performances sur ces deux bases, tout en passant moins de temps à \"préparer\" la seconde base (concernant les features), puisque la démarche avait déja été réalisée pour la première.\n",
    "\n",
    "&emsp; &emsp; Pour conclure, toutes ces étapes nous ont permis de compléter la réalisation d'un bout à l'autre d'un projet afin d'explorer les différents procédés liés au Machine Learning : de la recherche et visualisation de la base de données, à la sélection et création de features, au processing de ces données, ainsi qu'à la réalisation de plusieurs essais de modèles avec optimisation (élémentaire) des paramètrages et enfin à l'application et comparaison à une autre base similaire.\n",
    "&emsp;\n",
    "\n"
   ]
  },
  {
   "cell_type": "markdown",
   "metadata": {},
   "source": [
    "# Partie I : Préparation initiale au traitement"
   ]
  },
  {
   "cell_type": "markdown",
   "metadata": {},
   "source": [
    "## I. Chargement et observation du dataset :"
   ]
  },
  {
   "cell_type": "markdown",
   "metadata": {},
   "source": [
    "### I. 1. Chargement du dataset :"
   ]
  },
  {
   "cell_type": "markdown",
   "metadata": {},
   "source": [
    "On le nomme df."
   ]
  },
  {
   "cell_type": "code",
   "execution_count": 51,
   "metadata": {},
   "outputs": [],
   "source": [
    "import pandas as pd \n",
    "import os "
   ]
  },
  {
   "cell_type": "code",
   "execution_count": 52,
   "metadata": {},
   "outputs": [],
   "source": [
    "df = pd.read_csv('Données/FinalDataSet.csv',encoding= 'unicode_escape')"
   ]
  },
  {
   "cell_type": "markdown",
   "metadata": {},
   "source": [
    "### I. 2. Observation du dataset :"
   ]
  },
  {
   "cell_type": "code",
   "execution_count": 53,
   "metadata": {},
   "outputs": [
    {
     "data": {
      "text/html": [
       "<div>\n",
       "<style scoped>\n",
       "    .dataframe tbody tr th:only-of-type {\n",
       "        vertical-align: middle;\n",
       "    }\n",
       "\n",
       "    .dataframe tbody tr th {\n",
       "        vertical-align: top;\n",
       "    }\n",
       "\n",
       "    .dataframe thead th {\n",
       "        text-align: right;\n",
       "    }\n",
       "</style>\n",
       "<table border=\"1\" class=\"dataframe\">\n",
       "  <thead>\n",
       "    <tr style=\"text-align: right;\">\n",
       "      <th></th>\n",
       "      <th>Unique ID</th>\n",
       "      <th>text</th>\n",
       "      <th>created_at</th>\n",
       "      <th>retweet_count</th>\n",
       "      <th>favorite_count</th>\n",
       "      <th>source</th>\n",
       "      <th>length</th>\n",
       "      <th>user_id</th>\n",
       "      <th>user_screen_name</th>\n",
       "      <th>user_name</th>\n",
       "      <th>...</th>\n",
       "      <th>user_followers_count</th>\n",
       "      <th>user_friends_count</th>\n",
       "      <th>user_location</th>\n",
       "      <th>user_statuses_count</th>\n",
       "      <th>user_verified</th>\n",
       "      <th>user_url</th>\n",
       "      <th>statuses/followers_count</th>\n",
       "      <th>friends/followers_count</th>\n",
       "      <th>user_has_url?</th>\n",
       "      <th>Final Label</th>\n",
       "    </tr>\n",
       "  </thead>\n",
       "  <tbody>\n",
       "    <tr>\n",
       "      <th>0</th>\n",
       "      <td>1</td>\n",
       "      <td>Hurricane Katrina - Saints go to the Superbowl...</td>\n",
       "      <td>03-11-2017 17:28</td>\n",
       "      <td>0</td>\n",
       "      <td>1</td>\n",
       "      <td>Twitter for iPhone</td>\n",
       "      <td>90</td>\n",
       "      <td>8.800000e+17</td>\n",
       "      <td>itsabinakelley</td>\n",
       "      <td>Erica Kane</td>\n",
       "      <td>...</td>\n",
       "      <td>299</td>\n",
       "      <td>410</td>\n",
       "      <td>made in japan</td>\n",
       "      <td>3585</td>\n",
       "      <td>False</td>\n",
       "      <td>NaN</td>\n",
       "      <td>11.990000</td>\n",
       "      <td>1.370000</td>\n",
       "      <td>No</td>\n",
       "      <td>REAL</td>\n",
       "    </tr>\n",
       "    <tr>\n",
       "      <th>1</th>\n",
       "      <td>2</td>\n",
       "      <td>Students from Riverview Elementary set a goal ...</td>\n",
       "      <td>03-11-2017 17:28</td>\n",
       "      <td>0</td>\n",
       "      <td>0</td>\n",
       "      <td>SocialNewsDesk</td>\n",
       "      <td>132</td>\n",
       "      <td>1.881336e+07</td>\n",
       "      <td>WAOW</td>\n",
       "      <td>WAOW</td>\n",
       "      <td>...</td>\n",
       "      <td>13095</td>\n",
       "      <td>768</td>\n",
       "      <td>Wausau, Wisconsin</td>\n",
       "      <td>53691</td>\n",
       "      <td>True</td>\n",
       "      <td>http://t.co/Ooqm8p3JBi</td>\n",
       "      <td>4.100000</td>\n",
       "      <td>0.060000</td>\n",
       "      <td>Yes</td>\n",
       "      <td>REAL</td>\n",
       "    </tr>\n",
       "    <tr>\n",
       "      <th>2</th>\n",
       "      <td>3</td>\n",
       "      <td>Harvey caused more than $74M in damage to floo...</td>\n",
       "      <td>03-11-2017 16:37</td>\n",
       "      <td>0</td>\n",
       "      <td>0</td>\n",
       "      <td>Buffer</td>\n",
       "      <td>112</td>\n",
       "      <td>2.722783e+08</td>\n",
       "      <td>HOUmanitarian</td>\n",
       "      <td>HOUmanitarian</td>\n",
       "      <td>...</td>\n",
       "      <td>4261</td>\n",
       "      <td>3956</td>\n",
       "      <td>Houston, Texas, U.S.A.</td>\n",
       "      <td>48019</td>\n",
       "      <td>False</td>\n",
       "      <td>https://t.co/xZ5kENca0d</td>\n",
       "      <td>11.270000</td>\n",
       "      <td>0.930000</td>\n",
       "      <td>Yes</td>\n",
       "      <td>REAL</td>\n",
       "    </tr>\n",
       "    <tr>\n",
       "      <th>3</th>\n",
       "      <td>4</td>\n",
       "      <td>I added a video to a @YouTube playlist https:/...</td>\n",
       "      <td>03-11-2017 17:27</td>\n",
       "      <td>0</td>\n",
       "      <td>0</td>\n",
       "      <td>Google</td>\n",
       "      <td>89</td>\n",
       "      <td>3.360066e+07</td>\n",
       "      <td>gdubb79</td>\n",
       "      <td>Gabriel Woofter</td>\n",
       "      <td>...</td>\n",
       "      <td>220</td>\n",
       "      <td>683</td>\n",
       "      <td>NaN</td>\n",
       "      <td>5649</td>\n",
       "      <td>False</td>\n",
       "      <td>https://t.co/tJVLcw98YK</td>\n",
       "      <td>25.680000</td>\n",
       "      <td>3.100000</td>\n",
       "      <td>Yes</td>\n",
       "      <td>REAL</td>\n",
       "    </tr>\n",
       "    <tr>\n",
       "      <th>4</th>\n",
       "      <td>5</td>\n",
       "      <td>DFW businesses accused of price gouging during...</td>\n",
       "      <td>03-11-2017 17:27</td>\n",
       "      <td>0</td>\n",
       "      <td>0</td>\n",
       "      <td>Twitter Web Client</td>\n",
       "      <td>97</td>\n",
       "      <td>1.844070e+07</td>\n",
       "      <td>TexasAmerica</td>\n",
       "      <td>TexasAmerica</td>\n",
       "      <td>...</td>\n",
       "      <td>1146</td>\n",
       "      <td>5000</td>\n",
       "      <td>Texas</td>\n",
       "      <td>69033</td>\n",
       "      <td>False</td>\n",
       "      <td>NaN</td>\n",
       "      <td>60.240000</td>\n",
       "      <td>4.360000</td>\n",
       "      <td>No</td>\n",
       "      <td>REAL</td>\n",
       "    </tr>\n",
       "    <tr>\n",
       "      <th>...</th>\n",
       "      <td>...</td>\n",
       "      <td>...</td>\n",
       "      <td>...</td>\n",
       "      <td>...</td>\n",
       "      <td>...</td>\n",
       "      <td>...</td>\n",
       "      <td>...</td>\n",
       "      <td>...</td>\n",
       "      <td>...</td>\n",
       "      <td>...</td>\n",
       "      <td>...</td>\n",
       "      <td>...</td>\n",
       "      <td>...</td>\n",
       "      <td>...</td>\n",
       "      <td>...</td>\n",
       "      <td>...</td>\n",
       "      <td>...</td>\n",
       "      <td>...</td>\n",
       "      <td>...</td>\n",
       "      <td>...</td>\n",
       "      <td>...</td>\n",
       "    </tr>\n",
       "    <tr>\n",
       "      <th>245</th>\n",
       "      <td>246</td>\n",
       "      <td>Las Vegas shooting evidence everyone Missed ht...</td>\n",
       "      <td>16-10-2017 22:27</td>\n",
       "      <td>1</td>\n",
       "      <td>0</td>\n",
       "      <td>Twitter for iPhone</td>\n",
       "      <td>139</td>\n",
       "      <td>7.798742e+08</td>\n",
       "      <td>holguinrl33</td>\n",
       "      <td>Ralph Holguin</td>\n",
       "      <td>...</td>\n",
       "      <td>16</td>\n",
       "      <td>77</td>\n",
       "      <td>Las Vegas, NV</td>\n",
       "      <td>34</td>\n",
       "      <td>False</td>\n",
       "      <td>NaN</td>\n",
       "      <td>2.125000</td>\n",
       "      <td>4.812500</td>\n",
       "      <td>No</td>\n",
       "      <td>FAKE</td>\n",
       "    </tr>\n",
       "    <tr>\n",
       "      <th>246</th>\n",
       "      <td>247</td>\n",
       "      <td>Rocky Palermo Las Vegas testimony\\r\\n\\r\\nâTh...</td>\n",
       "      <td>16-10-2017 22:12</td>\n",
       "      <td>0</td>\n",
       "      <td>0</td>\n",
       "      <td>Twitter Web Client</td>\n",
       "      <td>140</td>\n",
       "      <td>4.490722e+08</td>\n",
       "      <td>CaptDax</td>\n",
       "      <td>Dax Dushkewich</td>\n",
       "      <td>...</td>\n",
       "      <td>819</td>\n",
       "      <td>2290</td>\n",
       "      <td>Tampa,FL</td>\n",
       "      <td>14388</td>\n",
       "      <td>False</td>\n",
       "      <td>http://t.co/Q3DKB37S4s</td>\n",
       "      <td>17.567766</td>\n",
       "      <td>2.796093</td>\n",
       "      <td>Yes</td>\n",
       "      <td>FAKE</td>\n",
       "    </tr>\n",
       "    <tr>\n",
       "      <th>247</th>\n",
       "      <td>248</td>\n",
       "      <td>Campos, who is supposed to be part of this Las...</td>\n",
       "      <td>16-10-2017 22:07</td>\n",
       "      <td>0</td>\n",
       "      <td>0</td>\n",
       "      <td>Twitter for Android</td>\n",
       "      <td>139</td>\n",
       "      <td>3.579508e+08</td>\n",
       "      <td>mattyresch</td>\n",
       "      <td>Matthew Alexander</td>\n",
       "      <td>...</td>\n",
       "      <td>284</td>\n",
       "      <td>345</td>\n",
       "      <td>Philadelphia, PA</td>\n",
       "      <td>9040</td>\n",
       "      <td>False</td>\n",
       "      <td>NaN</td>\n",
       "      <td>31.830986</td>\n",
       "      <td>1.214789</td>\n",
       "      <td>No</td>\n",
       "      <td>FAKE</td>\n",
       "    </tr>\n",
       "    <tr>\n",
       "      <th>248</th>\n",
       "      <td>249</td>\n",
       "      <td>Eyewitness to Las Vegas shooting claims multip...</td>\n",
       "      <td>16-10-2017 22:02</td>\n",
       "      <td>0</td>\n",
       "      <td>1</td>\n",
       "      <td>Twitter Lite</td>\n",
       "      <td>126</td>\n",
       "      <td>3.533779e+07</td>\n",
       "      <td>schindeler</td>\n",
       "      <td>R S</td>\n",
       "      <td>...</td>\n",
       "      <td>46</td>\n",
       "      <td>4</td>\n",
       "      <td>NaN</td>\n",
       "      <td>4745</td>\n",
       "      <td>False</td>\n",
       "      <td>NaN</td>\n",
       "      <td>103.152174</td>\n",
       "      <td>0.086957</td>\n",
       "      <td>No</td>\n",
       "      <td>FAKE</td>\n",
       "    </tr>\n",
       "    <tr>\n",
       "      <th>249</th>\n",
       "      <td>250</td>\n",
       "      <td>The Las Vegas shooting wasnât done by a sing...</td>\n",
       "      <td>16-10-2017 22:01</td>\n",
       "      <td>0</td>\n",
       "      <td>0</td>\n",
       "      <td>Twitter for iPhone</td>\n",
       "      <td>57</td>\n",
       "      <td>7.839476e+07</td>\n",
       "      <td>ehayzee</td>\n",
       "      <td>Slim</td>\n",
       "      <td>...</td>\n",
       "      <td>465</td>\n",
       "      <td>202</td>\n",
       "      <td>New Castle, PA</td>\n",
       "      <td>8708</td>\n",
       "      <td>False</td>\n",
       "      <td>NaN</td>\n",
       "      <td>18.726882</td>\n",
       "      <td>0.434409</td>\n",
       "      <td>No</td>\n",
       "      <td>FAKE</td>\n",
       "    </tr>\n",
       "  </tbody>\n",
       "</table>\n",
       "<p>250 rows × 22 columns</p>\n",
       "</div>"
      ],
      "text/plain": [
       "     Unique ID                                               text  \\\n",
       "0            1  Hurricane Katrina - Saints go to the Superbowl...   \n",
       "1            2  Students from Riverview Elementary set a goal ...   \n",
       "2            3  Harvey caused more than $74M in damage to floo...   \n",
       "3            4  I added a video to a @YouTube playlist https:/...   \n",
       "4            5  DFW businesses accused of price gouging during...   \n",
       "..         ...                                                ...   \n",
       "245        246  Las Vegas shooting evidence everyone Missed ht...   \n",
       "246        247  Rocky Palermo Las Vegas testimony\\r\\n\\r\\nâTh...   \n",
       "247        248  Campos, who is supposed to be part of this Las...   \n",
       "248        249  Eyewitness to Las Vegas shooting claims multip...   \n",
       "249        250  The Las Vegas shooting wasnât done by a sing...   \n",
       "\n",
       "           created_at  retweet_count  favorite_count               source  \\\n",
       "0    03-11-2017 17:28              0               1   Twitter for iPhone   \n",
       "1    03-11-2017 17:28              0               0       SocialNewsDesk   \n",
       "2    03-11-2017 16:37              0               0               Buffer   \n",
       "3    03-11-2017 17:27              0               0               Google   \n",
       "4    03-11-2017 17:27              0               0   Twitter Web Client   \n",
       "..                ...            ...             ...                  ...   \n",
       "245  16-10-2017 22:27              1               0   Twitter for iPhone   \n",
       "246  16-10-2017 22:12              0               0   Twitter Web Client   \n",
       "247  16-10-2017 22:07              0               0  Twitter for Android   \n",
       "248  16-10-2017 22:02              0               1         Twitter Lite   \n",
       "249  16-10-2017 22:01              0               0   Twitter for iPhone   \n",
       "\n",
       "     length       user_id user_screen_name          user_name  ...  \\\n",
       "0        90  8.800000e+17   itsabinakelley         Erica Kane  ...   \n",
       "1       132  1.881336e+07             WAOW               WAOW  ...   \n",
       "2       112  2.722783e+08    HOUmanitarian      HOUmanitarian  ...   \n",
       "3        89  3.360066e+07          gdubb79    Gabriel Woofter  ...   \n",
       "4        97  1.844070e+07     TexasAmerica       TexasAmerica  ...   \n",
       "..      ...           ...              ...                ...  ...   \n",
       "245     139  7.798742e+08      holguinrl33      Ralph Holguin  ...   \n",
       "246     140  4.490722e+08          CaptDax     Dax Dushkewich  ...   \n",
       "247     139  3.579508e+08       mattyresch  Matthew Alexander  ...   \n",
       "248     126  3.533779e+07       schindeler                R S  ...   \n",
       "249      57  7.839476e+07          ehayzee               Slim  ...   \n",
       "\n",
       "    user_followers_count user_friends_count           user_location  \\\n",
       "0                    299                410           made in japan   \n",
       "1                  13095                768       Wausau, Wisconsin   \n",
       "2                   4261               3956  Houston, Texas, U.S.A.   \n",
       "3                    220                683                     NaN   \n",
       "4                   1146               5000                   Texas   \n",
       "..                   ...                ...                     ...   \n",
       "245                   16                 77           Las Vegas, NV   \n",
       "246                  819               2290                Tampa,FL   \n",
       "247                  284                345        Philadelphia, PA   \n",
       "248                   46                  4                     NaN   \n",
       "249                  465                202          New Castle, PA   \n",
       "\n",
       "     user_statuses_count user_verified                 user_url  \\\n",
       "0                   3585         False                      NaN   \n",
       "1                  53691          True   http://t.co/Ooqm8p3JBi   \n",
       "2                  48019         False  https://t.co/xZ5kENca0d   \n",
       "3                   5649         False  https://t.co/tJVLcw98YK   \n",
       "4                  69033         False                      NaN   \n",
       "..                   ...           ...                      ...   \n",
       "245                   34         False                      NaN   \n",
       "246                14388         False   http://t.co/Q3DKB37S4s   \n",
       "247                 9040         False                      NaN   \n",
       "248                 4745         False                      NaN   \n",
       "249                 8708         False                      NaN   \n",
       "\n",
       "     statuses/followers_count friends/followers_count  user_has_url?  \\\n",
       "0                   11.990000                1.370000             No   \n",
       "1                    4.100000                0.060000            Yes   \n",
       "2                   11.270000                0.930000            Yes   \n",
       "3                   25.680000                3.100000            Yes   \n",
       "4                   60.240000                4.360000             No   \n",
       "..                        ...                     ...            ...   \n",
       "245                  2.125000                4.812500             No   \n",
       "246                 17.567766                2.796093            Yes   \n",
       "247                 31.830986                1.214789             No   \n",
       "248                103.152174                0.086957             No   \n",
       "249                 18.726882                0.434409             No   \n",
       "\n",
       "     Final Label  \n",
       "0           REAL  \n",
       "1           REAL  \n",
       "2           REAL  \n",
       "3           REAL  \n",
       "4           REAL  \n",
       "..           ...  \n",
       "245         FAKE  \n",
       "246         FAKE  \n",
       "247         FAKE  \n",
       "248         FAKE  \n",
       "249         FAKE  \n",
       "\n",
       "[250 rows x 22 columns]"
      ]
     },
     "execution_count": 53,
     "metadata": {},
     "output_type": "execute_result"
    }
   ],
   "source": [
    "df"
   ]
  },
  {
   "cell_type": "code",
   "execution_count": 54,
   "metadata": {
    "scrolled": true
   },
   "outputs": [
    {
     "name": "stdout",
     "output_type": "stream",
     "text": [
      "(250, 22)\n",
      "['Unique ID', 'text', 'created_at', 'retweet_count', 'favorite_count', 'source', 'length', 'user_id', 'user_screen_name', 'user_name', 'user_created_at', 'user_description', 'user_followers_count', 'user_friends_count', 'user_location', 'user_statuses_count', 'user_verified', 'user_url', 'statuses/followers_count', 'friends/followers_count', 'user_has_url?', 'Final Label']\n"
     ]
    }
   ],
   "source": [
    "print(df.shape)\n",
    "\n",
    "print(list(df.columns))"
   ]
  },
  {
   "cell_type": "markdown",
   "metadata": {},
   "source": [
    "La base de données qu'on utilise contient 250 tweets. Chacun tweet est décrit selon 22 variables.\n",
    "\n",
    "La dernière d'entre elles (**'Final Label'** ) caractérise la véracité du tweet concerné : elle indique s'il relate une \"*Fake News*\" ou une \"*Real News*\".\n"
   ]
  },
  {
   "cell_type": "markdown",
   "metadata": {},
   "source": [
    "### I. 3. Types de ces variables :"
   ]
  },
  {
   "cell_type": "code",
   "execution_count": 55,
   "metadata": {},
   "outputs": [
    {
     "data": {
      "text/plain": [
       "Unique ID                     int64\n",
       "text                         object\n",
       "created_at                   object\n",
       "retweet_count                 int64\n",
       "favorite_count                int64\n",
       "source                       object\n",
       "length                        int64\n",
       "user_id                     float64\n",
       "user_screen_name             object\n",
       "user_name                    object\n",
       "user_created_at              object\n",
       "user_description             object\n",
       "user_followers_count          int64\n",
       "user_friends_count            int64\n",
       "user_location                object\n",
       "user_statuses_count           int64\n",
       "user_verified                  bool\n",
       "user_url                     object\n",
       "statuses/followers_count    float64\n",
       "friends/followers_count     float64\n",
       "user_has_url?                object\n",
       "Final Label                  object\n",
       "dtype: object"
      ]
     },
     "execution_count": 55,
     "metadata": {},
     "output_type": "execute_result"
    }
   ],
   "source": [
    "df.dtypes"
   ]
  },
  {
   "cell_type": "markdown",
   "metadata": {},
   "source": [
    "Le module *scikit-learn* que nous allons utiliser par la suite n'accepte pas les features sous forme de chaîne de caractères (*object*).\n",
    "Dans le premier temps de notre travail, nous allons ainsi recoder les features le permettant en variables numériques (*float64* ou *int64*) ou booléennes (*bool*)."
   ]
  },
  {
   "cell_type": "markdown",
   "metadata": {},
   "source": [
    "## II. Recodage de certaines features"
   ]
  },
  {
   "cell_type": "markdown",
   "metadata": {},
   "source": [
    "### II. 1. Recodage de Final Label :"
   ]
  },
  {
   "cell_type": "markdown",
   "metadata": {},
   "source": [
    "Nous recodons la variable 'Final Label' indiquant la véracité du tweet en une variable booléenne, nommée '**accuracy**'."
   ]
  },
  {
   "cell_type": "code",
   "execution_count": 56,
   "metadata": {},
   "outputs": [],
   "source": [
    "df.rename(columns={'Final Label':'accuracy'}, inplace=True)\n",
    "\n",
    "df.loc[df.accuracy == 'FAKE', 'accuracy'] = False\n",
    "df.loc[df.accuracy == 'REAL', 'accuracy'] = True"
   ]
  },
  {
   "cell_type": "code",
   "execution_count": 57,
   "metadata": {},
   "outputs": [
    {
     "data": {
      "text/plain": [
       "dtype('O')"
      ]
     },
     "execution_count": 57,
     "metadata": {},
     "output_type": "execute_result"
    }
   ],
   "source": [
    "df.dtypes['accuracy']"
   ]
  },
  {
   "cell_type": "markdown",
   "metadata": {},
   "source": [
    "Le type de la colonne 'accuracy' est *object*. Pandas ne gère donc pas cette variable comme on le souhaiterait (ie est comme un *booléen*). Nous allons donc convertir le type de la colonne."
   ]
  },
  {
   "cell_type": "code",
   "execution_count": 58,
   "metadata": {},
   "outputs": [],
   "source": [
    "df['accuracy'] = df['accuracy'].astype('bool')"
   ]
  },
  {
   "cell_type": "code",
   "execution_count": 59,
   "metadata": {},
   "outputs": [
    {
     "data": {
      "text/plain": [
       "dtype('bool')"
      ]
     },
     "execution_count": 59,
     "metadata": {},
     "output_type": "execute_result"
    }
   ],
   "source": [
    "df.dtypes['accuracy']"
   ]
  },
  {
   "cell_type": "markdown",
   "metadata": {},
   "source": [
    "On voit qu'à présent, la colonne 'accuracy' a bien un type '*bool*'.\n",
    "\n",
    "Avoir une variable de type booléen permet quand même à Python de faire des calculs dessus (moyenne par exemple). Pour cela, Python considérera que True = 1 et False = 0."
   ]
  },
  {
   "cell_type": "markdown",
   "metadata": {},
   "source": [
    "### II. 2. Recodage de la date de publication du tweet :"
   ]
  },
  {
   "cell_type": "code",
   "execution_count": 60,
   "metadata": {
    "scrolled": true
   },
   "outputs": [
    {
     "data": {
      "text/plain": [
       "0      03-11-2017 17:28\n",
       "1      03-11-2017 17:28\n",
       "2      03-11-2017 16:37\n",
       "3      03-11-2017 17:27\n",
       "4      03-11-2017 17:27\n",
       "             ...       \n",
       "245    16-10-2017 22:27\n",
       "246    16-10-2017 22:12\n",
       "247    16-10-2017 22:07\n",
       "248    16-10-2017 22:02\n",
       "249    16-10-2017 22:01\n",
       "Name: created_at, Length: 250, dtype: object"
      ]
     },
     "execution_count": 60,
     "metadata": {},
     "output_type": "execute_result"
    }
   ],
   "source": [
    "df['created_at']"
   ]
  },
  {
   "cell_type": "markdown",
   "metadata": {},
   "source": [
    "La date de publication d'un tweet est sous un format qui nous permet de la recoder en variable numérique. Nous établirons ainsi que la date est le nombre de minutes séparant la publication d'un moment donné. \n",
    "\n",
    "Les tweets sont classés par date de publication décroissante. Ainsi les tweets ont été publiés entre le 16 octobre 2017 à 22h01 et le 3 novembre 2017 à 17h28. Le moment de référence pour le calcul de la date sera alors le *16 octobre 2017 à 22h01*, le moment de publication du premier tweet de la base. \n",
    "\n",
    "Bien sûr ce choix est tout à fait arbitraire, il s'agit ici seulement de recoder la date en un format numérique qui est \"comparable\" entre les différents tweets, et nous informe de leur chronologie. Par exemple, si le nombre de minutes spéarant le tweet de la date initiale est plus important que pour un second tweet, on sait que celui-ci a donc été posté plus tard, et on même peut calculer le temps de publication entre les deux. Ainsi cette variable relative permet d'obtenir des informations absolues (combien de temps séparent les publications).\n",
    "\n",
    "Ce choix est de plus complétement dépendant de la base de données choisie ici, et ne peut s'appliquer à une autre."
   ]
  },
  {
   "cell_type": "code",
   "execution_count": 61,
   "metadata": {},
   "outputs": [
    {
     "data": {
      "text/plain": [
       "(0, 25647)"
      ]
     },
     "execution_count": 61,
     "metadata": {},
     "output_type": "execute_result"
    }
   ],
   "source": [
    "from datetime import date\n",
    "\n",
    "def decompte(created) : #Retourne le nombre de minutes entre le tweet et le premier tweet \n",
    "    \n",
    "    #Décompte entre la publication du tweet et le 16 octobre 2017 à 00h00. \n",
    "    creat = str.split(created)\n",
    "    jour = creat[0]\n",
    "    heure = creat[-1]\n",
    "    \n",
    "    #on observe deux séparateurs dans la date : \"-\" ou \"/\"\n",
    "    \n",
    "    day1 = jour.split(\"-\") # cas \" - \" : DD/MM/YYYY\n",
    "    if len(day1) == 3 : \n",
    "        day, month, year = day1[0], day1[1], day1[2]\n",
    "    if len(day1) == 1 :  #cas \" / \" : il y a une imprécision sur le format de la date \n",
    "        day1 = day1[0].split(\"/\")\n",
    "        \n",
    "        if len(day1) != 3 : \n",
    "            return \"Erreur sur la date\" #une date est mal incodée : saisie manuelle \n",
    "        \n",
    "        if day1[1] in ('10','11') : #DD/MM/YYYY\n",
    "            day, month, year = day1[0], day1[1], day1[2]\n",
    "        else :    #MM/DD/YYYY\n",
    "            month, day, year = day1[0],day1[1],day1[2]\n",
    "    hour, minute = heure.split(\":\")\n",
    "    deltaday = date(int(year),int(month),int(day)) - date(2017,10,16)\n",
    "    N = int(minute) + 60 * int(hour) + 24 * 60 * deltaday.days #Nombre de minutes séparant la publication du 16 octobre minuit.\n",
    "    \n",
    "    #Nombre de minutes séparant le premier tweet du 16 octobre minuit.\n",
    "    Nbis = 22 * 60 + 1\n",
    "    \n",
    "    #Par comparaison entre les deux décomptes : \n",
    "    return N - Nbis \n",
    "\n",
    "datedebut = '16-10-2017 22:01'\n",
    "datefin = '3/11/2017 17:28'\n",
    "decompte(datedebut), decompte(datefin)"
   ]
  },
  {
   "cell_type": "code",
   "execution_count": 62,
   "metadata": {
    "scrolled": true
   },
   "outputs": [
    {
     "data": {
      "text/plain": [
       "0      25647\n",
       "1      25647\n",
       "2      25596\n",
       "3      25646\n",
       "4      25646\n",
       "       ...  \n",
       "245       26\n",
       "246       11\n",
       "247        6\n",
       "248        1\n",
       "249        0\n",
       "Name: Date, Length: 250, dtype: object"
      ]
     },
     "execution_count": 62,
     "metadata": {},
     "output_type": "execute_result"
    }
   ],
   "source": [
    "df['Date'] = [ decompte(str(created)) for created in df['created_at'] ]\n",
    "\n",
    "df['Date']"
   ]
  },
  {
   "cell_type": "markdown",
   "metadata": {},
   "source": [
    "On observe que des tweets sont mal encodés sur la date (retourne \"Erreur sur la date\"). On écrit une fonction retournant les tweets concernés. \n",
    "\n",
    "Il est en effet très important de *nettoyer* la base de données, en enlevant les lignes contenant des \"Nan Values\", puisque la plupart des algorithmes de Machine Learning ne peuvent fonctionner si il y a des attributs manquants."
   ]
  },
  {
   "cell_type": "code",
   "execution_count": 63,
   "metadata": {},
   "outputs": [
    {
     "data": {
      "text/plain": [
       "[212]"
      ]
     },
     "execution_count": 63,
     "metadata": {},
     "output_type": "execute_result"
    }
   ],
   "source": [
    "def IndiceDate() : \n",
    "    BienEncode = []\n",
    "    MalEncode = []\n",
    "    for i in range(len(df)) : \n",
    "        if df['Date'][i] != \"Erreur sur la date\" : \n",
    "            BienEncode.append(i)\n",
    "        else : \n",
    "            MalEncode.append(i)\n",
    "    return BienEncode, MalEncode\n",
    "\n",
    "IndiceDate()[1]"
   ]
  },
  {
   "cell_type": "code",
   "execution_count": 64,
   "metadata": {},
   "outputs": [
    {
     "data": {
      "text/plain": [
       "nan"
      ]
     },
     "execution_count": 64,
     "metadata": {},
     "output_type": "execute_result"
    }
   ],
   "source": [
    "df['created_at'][212]"
   ]
  },
  {
   "cell_type": "markdown",
   "metadata": {},
   "source": [
    "Le tweet 212 est mal encodé sur la date ; elle n'est pas renseignée. A cause de l'absence de date de ce tweet, le type de la colonne 'Date' sera *'Object'* et non *'int64'*. D'où la manipulation suivante :\n",
    "on enlève le tweet 212 et on convertit le type de la colonne."
   ]
  },
  {
   "cell_type": "code",
   "execution_count": 66,
   "metadata": {
    "scrolled": true
   },
   "outputs": [
    {
     "data": {
      "text/plain": [
       "dtype('int64')"
      ]
     },
     "execution_count": 66,
     "metadata": {},
     "output_type": "execute_result"
    }
   ],
   "source": [
    "df = df[pd.notnull(df['created_at'])]\n",
    "\n",
    "df['Date'] = df['Date'].astype('int64')\n",
    "\n",
    "df.dtypes['Date']"
   ]
  },
  {
   "cell_type": "markdown",
   "metadata": {},
   "source": [
    "Le feature 'date' est alors bien numérique."
   ]
  },
  {
   "cell_type": "markdown",
   "metadata": {},
   "source": [
    "### II. 3. Codage d'une nouvelle feature : la durée séparant la création du compte de la publication du tweet "
   ]
  },
  {
   "cell_type": "markdown",
   "metadata": {},
   "source": [
    "Cette feature peut être intéressante et significative, notamment concernant la création de comptes Twitter \"bot\" dédiés à la propagation de \"Fake News\" et dont la durée séparant la création du compte de la publication du tweet est donc parfois très courte. A l'inverse une durée très longue séparant la création du compte de la publication du tweet pourrait signifier qu'il s'agit d'un compte Twitter plus fiable, car existant depuis longtemps. \n",
    "\n",
    "Evidemment, il ne s'agit que d'hypothèses résultant de nos réflexions, afin d'appuyer la possible pertinence de cette feature.\n",
    "\n",
    "Codons la feature '*TimeSeparate*', contenant des informations combinées des features '*created_at*' et '*user_created_at*' :"
   ]
  },
  {
   "cell_type": "code",
   "execution_count": 67,
   "metadata": {},
   "outputs": [],
   "source": [
    "def TimeSeparate(account,tweet) : #date de création du compte, date de post du tweet\n",
    "        \n",
    "    if decompte(account) == \"Erreur sur la date\" or decompte(tweet) == \"Erreur sur la date\" : \n",
    "        return \"Erreur sur la date\"\n",
    "    \n",
    "    return decompte(tweet) - decompte(account) "
   ]
  },
  {
   "cell_type": "code",
   "execution_count": 68,
   "metadata": {},
   "outputs": [
    {
     "data": {
      "text/plain": [
       "4636637"
      ]
     },
     "execution_count": 68,
     "metadata": {},
     "output_type": "execute_result"
    }
   ],
   "source": [
    "def fctauxiliaire(i) : \n",
    "    if i == 212 :  #tweet mal encodé\n",
    "        return 0\n",
    "    account = df['user_created_at'][i] \n",
    "    tweet = df['created_at'][i]\n",
    "    return TimeSeparate(str(account),str(tweet))\n",
    "\n",
    "fctauxiliaire(1)"
   ]
  },
  {
   "cell_type": "code",
   "execution_count": 69,
   "metadata": {},
   "outputs": [
    {
     "data": {
      "text/plain": [
       "0       184011\n",
       "1      4636637\n",
       "2      3476824\n",
       "3      4491329\n",
       "4      4653504\n",
       "        ...   \n",
       "245    2695747\n",
       "246    2705159\n",
       "247    3051597\n",
       "248    3241070\n",
       "249    4458168\n",
       "Name: TimeSeparate, Length: 249, dtype: int64"
      ]
     },
     "execution_count": 69,
     "metadata": {},
     "output_type": "execute_result"
    }
   ],
   "source": [
    "TS = [fctauxiliaire(i) for i in range(len(df))]\n",
    "\n",
    "df['TimeSeparate'] = TS\n",
    "\n",
    "df['TimeSeparate']"
   ]
  },
  {
   "cell_type": "markdown",
   "metadata": {},
   "source": [
    "On vérifie enfin le type de la variable :"
   ]
  },
  {
   "cell_type": "code",
   "execution_count": 70,
   "metadata": {},
   "outputs": [
    {
     "data": {
      "text/plain": [
       "dtype('int64')"
      ]
     },
     "execution_count": 70,
     "metadata": {},
     "output_type": "execute_result"
    }
   ],
   "source": [
    "df['TimeSeparate'] = df['TimeSeparate'].astype('int64')\n",
    "df.dtypes['TimeSeparate']"
   ]
  },
  {
   "cell_type": "markdown",
   "metadata": {},
   "source": [
    "### II. 4. Dataset après recodage :"
   ]
  },
  {
   "cell_type": "code",
   "execution_count": 71,
   "metadata": {
    "scrolled": true
   },
   "outputs": [
    {
     "name": "stdout",
     "output_type": "stream",
     "text": [
      "(249, 24)\n",
      "['Unique ID', 'text', 'created_at', 'retweet_count', 'favorite_count', 'source', 'length', 'user_id', 'user_screen_name', 'user_name', 'user_created_at', 'user_description', 'user_followers_count', 'user_friends_count', 'user_location', 'user_statuses_count', 'user_verified', 'user_url', 'statuses/followers_count', 'friends/followers_count', 'user_has_url?', 'accuracy', 'Date', 'TimeSeparate']\n"
     ]
    }
   ],
   "source": [
    "print(df.shape)\n",
    "print(list(df.columns))\n"
   ]
  },
  {
   "cell_type": "markdown",
   "metadata": {},
   "source": [
    "## III. Préparation de la base de donnée "
   ]
  },
  {
   "cell_type": "markdown",
   "metadata": {},
   "source": [
    "### III. 1. Séparation en base d'apprentissage et base de test :"
   ]
  },
  {
   "cell_type": "markdown",
   "metadata": {},
   "source": [
    "\n",
    "On sépare le dataset en deux : 20% servira de test, 80% de train. \n",
    "\n",
    "Le set de train servira donc à entraîner notre algorithme et le set de test à le tester après entraînement, afin d'observer sa précision."
   ]
  },
  {
   "cell_type": "code",
   "execution_count": 72,
   "metadata": {},
   "outputs": [
    {
     "name": "stdout",
     "output_type": "stream",
     "text": [
      "199 train + 50 test\n"
     ]
    }
   ],
   "source": [
    "import numpy as np\n",
    "from sklearn.model_selection import train_test_split\n",
    "\n",
    "train_set, test_set = train_test_split(df, test_size=0.2, random_state=10, stratify = df['accuracy'])\n",
    "print(len(train_set), \"train +\", len(test_set), \"test\")"
   ]
  },
  {
   "cell_type": "markdown",
   "metadata": {},
   "source": [
    "On travaille alors dans un premier temps avec la base d'apprentissage. "
   ]
  },
  {
   "cell_type": "markdown",
   "metadata": {},
   "source": [
    "### III. 2 Normalisation de la base de données :"
   ]
  },
  {
   "cell_type": "markdown",
   "metadata": {},
   "source": [
    "A première vue, l'échelle des différentes features numériques est très différente. La normalisation est l'une des transformations les plus importantes à généralement appliquer aux données, car très souvent les algorithmes d'apprentissage automatique ne fonctionnent pas bien lorsque les attributs numériques ont des échelles très différentes.\n",
    "\n",
    "On va donc mettre ces features numériques à la même échelle en les standardisant (on enlève la moyenne et on divise par la variance) mais seulement dans la base de train, sans toucher à la base de test."
   ]
  },
  {
   "cell_type": "code",
   "execution_count": 73,
   "metadata": {},
   "outputs": [
    {
     "data": {
      "text/html": [
       "<div>\n",
       "<style scoped>\n",
       "    .dataframe tbody tr th:only-of-type {\n",
       "        vertical-align: middle;\n",
       "    }\n",
       "\n",
       "    .dataframe tbody tr th {\n",
       "        vertical-align: top;\n",
       "    }\n",
       "\n",
       "    .dataframe thead th {\n",
       "        text-align: right;\n",
       "    }\n",
       "</style>\n",
       "<table border=\"1\" class=\"dataframe\">\n",
       "  <thead>\n",
       "    <tr style=\"text-align: right;\">\n",
       "      <th></th>\n",
       "      <th>retweet_count</th>\n",
       "      <th>favorite_count</th>\n",
       "      <th>length</th>\n",
       "      <th>user_followers_count</th>\n",
       "      <th>user_friends_count</th>\n",
       "      <th>user_statuses_count</th>\n",
       "      <th>statuses/followers_count</th>\n",
       "      <th>friends/followers_count</th>\n",
       "      <th>Date</th>\n",
       "      <th>TimeSeparate</th>\n",
       "    </tr>\n",
       "  </thead>\n",
       "  <tbody>\n",
       "    <tr>\n",
       "      <th>216</th>\n",
       "      <td>-0.348787</td>\n",
       "      <td>-0.028846</td>\n",
       "      <td>1.090879</td>\n",
       "      <td>-0.297475</td>\n",
       "      <td>-0.133008</td>\n",
       "      <td>-0.246554</td>\n",
       "      <td>0.231200</td>\n",
       "      <td>0.665272</td>\n",
       "      <td>-0.976755</td>\n",
       "      <td>-1.860592</td>\n",
       "    </tr>\n",
       "    <tr>\n",
       "      <th>140</th>\n",
       "      <td>-0.348787</td>\n",
       "      <td>-0.208235</td>\n",
       "      <td>1.090879</td>\n",
       "      <td>-0.281053</td>\n",
       "      <td>-0.161167</td>\n",
       "      <td>-0.343253</td>\n",
       "      <td>-0.295821</td>\n",
       "      <td>-0.045320</td>\n",
       "      <td>-0.971379</td>\n",
       "      <td>-1.669334</td>\n",
       "    </tr>\n",
       "    <tr>\n",
       "      <th>218</th>\n",
       "      <td>0.293885</td>\n",
       "      <td>-0.208235</td>\n",
       "      <td>-0.442798</td>\n",
       "      <td>0.143047</td>\n",
       "      <td>-0.237745</td>\n",
       "      <td>6.573275</td>\n",
       "      <td>0.306058</td>\n",
       "      <td>-0.405480</td>\n",
       "      <td>-0.976755</td>\n",
       "      <td>1.080492</td>\n",
       "    </tr>\n",
       "    <tr>\n",
       "      <th>172</th>\n",
       "      <td>-0.348787</td>\n",
       "      <td>-0.208235</td>\n",
       "      <td>0.114903</td>\n",
       "      <td>-0.241825</td>\n",
       "      <td>-0.143414</td>\n",
       "      <td>-0.335793</td>\n",
       "      <td>-0.377425</td>\n",
       "      <td>-0.214311</td>\n",
       "      <td>-0.973093</td>\n",
       "      <td>1.401370</td>\n",
       "    </tr>\n",
       "    <tr>\n",
       "      <th>152</th>\n",
       "      <td>-0.348787</td>\n",
       "      <td>-0.208235</td>\n",
       "      <td>-1.046973</td>\n",
       "      <td>-0.231425</td>\n",
       "      <td>-0.125846</td>\n",
       "      <td>-0.335479</td>\n",
       "      <td>-0.386629</td>\n",
       "      <td>-0.209182</td>\n",
       "      <td>-0.971768</td>\n",
       "      <td>-0.006011</td>\n",
       "    </tr>\n",
       "    <tr>\n",
       "      <th>...</th>\n",
       "      <td>...</td>\n",
       "      <td>...</td>\n",
       "      <td>...</td>\n",
       "      <td>...</td>\n",
       "      <td>...</td>\n",
       "      <td>...</td>\n",
       "      <td>...</td>\n",
       "      <td>...</td>\n",
       "      <td>...</td>\n",
       "      <td>...</td>\n",
       "    </tr>\n",
       "    <tr>\n",
       "      <th>116</th>\n",
       "      <td>-0.348787</td>\n",
       "      <td>-0.208235</td>\n",
       "      <td>-0.582223</td>\n",
       "      <td>-0.309994</td>\n",
       "      <td>-0.223727</td>\n",
       "      <td>-0.360363</td>\n",
       "      <td>2.582474</td>\n",
       "      <td>1.452525</td>\n",
       "      <td>1.029743</td>\n",
       "      <td>-0.428820</td>\n",
       "    </tr>\n",
       "    <tr>\n",
       "      <th>159</th>\n",
       "      <td>-0.348787</td>\n",
       "      <td>-0.208235</td>\n",
       "      <td>0.951454</td>\n",
       "      <td>-0.299343</td>\n",
       "      <td>-0.223972</td>\n",
       "      <td>-0.410976</td>\n",
       "      <td>-0.338156</td>\n",
       "      <td>-0.213369</td>\n",
       "      <td>-0.972158</td>\n",
       "      <td>-1.335758</td>\n",
       "    </tr>\n",
       "    <tr>\n",
       "      <th>173</th>\n",
       "      <td>-0.348787</td>\n",
       "      <td>-0.208235</td>\n",
       "      <td>1.090879</td>\n",
       "      <td>-0.255960</td>\n",
       "      <td>-0.170226</td>\n",
       "      <td>-0.269428</td>\n",
       "      <td>-0.300217</td>\n",
       "      <td>-0.231642</td>\n",
       "      <td>-0.973171</td>\n",
       "      <td>-0.034357</td>\n",
       "    </tr>\n",
       "    <tr>\n",
       "      <th>110</th>\n",
       "      <td>-0.348787</td>\n",
       "      <td>-0.208235</td>\n",
       "      <td>1.090879</td>\n",
       "      <td>-0.310775</td>\n",
       "      <td>-0.240072</td>\n",
       "      <td>-0.436337</td>\n",
       "      <td>-0.271287</td>\n",
       "      <td>-0.210869</td>\n",
       "      <td>1.031457</td>\n",
       "      <td>-1.347812</td>\n",
       "    </tr>\n",
       "    <tr>\n",
       "      <th>228</th>\n",
       "      <td>-0.348787</td>\n",
       "      <td>0.150542</td>\n",
       "      <td>-0.163947</td>\n",
       "      <td>1.302486</td>\n",
       "      <td>2.175376</td>\n",
       "      <td>0.481686</td>\n",
       "      <td>-0.421644</td>\n",
       "      <td>-0.201261</td>\n",
       "      <td>-0.978314</td>\n",
       "      <td>-0.106939</td>\n",
       "    </tr>\n",
       "  </tbody>\n",
       "</table>\n",
       "<p>199 rows × 10 columns</p>\n",
       "</div>"
      ],
      "text/plain": [
       "     retweet_count  favorite_count    length  user_followers_count  \\\n",
       "216      -0.348787       -0.028846  1.090879             -0.297475   \n",
       "140      -0.348787       -0.208235  1.090879             -0.281053   \n",
       "218       0.293885       -0.208235 -0.442798              0.143047   \n",
       "172      -0.348787       -0.208235  0.114903             -0.241825   \n",
       "152      -0.348787       -0.208235 -1.046973             -0.231425   \n",
       "..             ...             ...       ...                   ...   \n",
       "116      -0.348787       -0.208235 -0.582223             -0.309994   \n",
       "159      -0.348787       -0.208235  0.951454             -0.299343   \n",
       "173      -0.348787       -0.208235  1.090879             -0.255960   \n",
       "110      -0.348787       -0.208235  1.090879             -0.310775   \n",
       "228      -0.348787        0.150542 -0.163947              1.302486   \n",
       "\n",
       "     user_friends_count  user_statuses_count  statuses/followers_count  \\\n",
       "216           -0.133008            -0.246554                  0.231200   \n",
       "140           -0.161167            -0.343253                 -0.295821   \n",
       "218           -0.237745             6.573275                  0.306058   \n",
       "172           -0.143414            -0.335793                 -0.377425   \n",
       "152           -0.125846            -0.335479                 -0.386629   \n",
       "..                  ...                  ...                       ...   \n",
       "116           -0.223727            -0.360363                  2.582474   \n",
       "159           -0.223972            -0.410976                 -0.338156   \n",
       "173           -0.170226            -0.269428                 -0.300217   \n",
       "110           -0.240072            -0.436337                 -0.271287   \n",
       "228            2.175376             0.481686                 -0.421644   \n",
       "\n",
       "     friends/followers_count      Date  TimeSeparate  \n",
       "216                 0.665272 -0.976755     -1.860592  \n",
       "140                -0.045320 -0.971379     -1.669334  \n",
       "218                -0.405480 -0.976755      1.080492  \n",
       "172                -0.214311 -0.973093      1.401370  \n",
       "152                -0.209182 -0.971768     -0.006011  \n",
       "..                       ...       ...           ...  \n",
       "116                 1.452525  1.029743     -0.428820  \n",
       "159                -0.213369 -0.972158     -1.335758  \n",
       "173                -0.231642 -0.973171     -0.034357  \n",
       "110                -0.210869  1.031457     -1.347812  \n",
       "228                -0.201261 -0.978314     -0.106939  \n",
       "\n",
       "[199 rows x 10 columns]"
      ]
     },
     "execution_count": 73,
     "metadata": {},
     "output_type": "execute_result"
    }
   ],
   "source": [
    "df1 = train_set.copy()\n",
    "\n",
    "# On sélectionne les features numériques seulement :\n",
    "df1_num = df1[[\"retweet_count\", \"favorite_count\", \"length\", \"user_followers_count\", \n",
    "           \"user_friends_count\", \"user_statuses_count\", \"statuses/followers_count\",\n",
    "           \"friends/followers_count\", \"Date\", \"TimeSeparate\"]]\n",
    "\n",
    "normalized_df1= (df1_num - df1_num.mean())/df1_num.std()\n",
    "\n",
    "normalized_df1"
   ]
  },
  {
   "cell_type": "markdown",
   "metadata": {},
   "source": [
    "### III. 3. Sélection des features utiles :"
   ]
  },
  {
   "cell_type": "code",
   "execution_count": 74,
   "metadata": {},
   "outputs": [
    {
     "name": "stdout",
     "output_type": "stream",
     "text": [
      "['Unique ID', 'text', 'created_at', 'retweet_count', 'favorite_count', 'source', 'length', 'user_id', 'user_screen_name', 'user_name', 'user_created_at', 'user_description', 'user_followers_count', 'user_friends_count', 'user_location', 'user_statuses_count', 'user_verified', 'user_url', 'statuses/followers_count', 'friends/followers_count', 'user_has_url?', 'accuracy', 'Date', 'TimeSeparate']\n"
     ]
    }
   ],
   "source": [
    "print(list(train_set.columns))"
   ]
  },
  {
   "cell_type": "markdown",
   "metadata": {},
   "source": [
    "Sélectionnons parmi les features celles susceptibles d'être les plus pertinentes. On concatène la base de features numériques normalisée et les features non numériques qui peuvent être utiles, à la fois pour la base de train et celle de test."
   ]
  },
  {
   "cell_type": "code",
   "execution_count": 75,
   "metadata": {},
   "outputs": [
    {
     "data": {
      "text/html": [
       "<div>\n",
       "<style scoped>\n",
       "    .dataframe tbody tr th:only-of-type {\n",
       "        vertical-align: middle;\n",
       "    }\n",
       "\n",
       "    .dataframe tbody tr th {\n",
       "        vertical-align: top;\n",
       "    }\n",
       "\n",
       "    .dataframe thead th {\n",
       "        text-align: right;\n",
       "    }\n",
       "</style>\n",
       "<table border=\"1\" class=\"dataframe\">\n",
       "  <thead>\n",
       "    <tr style=\"text-align: right;\">\n",
       "      <th></th>\n",
       "      <th>user_verified</th>\n",
       "      <th>accuracy</th>\n",
       "      <th>retweet_count</th>\n",
       "      <th>favorite_count</th>\n",
       "      <th>length</th>\n",
       "      <th>user_followers_count</th>\n",
       "      <th>user_friends_count</th>\n",
       "      <th>user_statuses_count</th>\n",
       "      <th>statuses/followers_count</th>\n",
       "      <th>friends/followers_count</th>\n",
       "      <th>Date</th>\n",
       "      <th>TimeSeparate</th>\n",
       "    </tr>\n",
       "  </thead>\n",
       "  <tbody>\n",
       "    <tr>\n",
       "      <th>216</th>\n",
       "      <td>False</td>\n",
       "      <td>False</td>\n",
       "      <td>-0.348787</td>\n",
       "      <td>-0.028846</td>\n",
       "      <td>1.090879</td>\n",
       "      <td>-0.297475</td>\n",
       "      <td>-0.133008</td>\n",
       "      <td>-0.246554</td>\n",
       "      <td>0.231200</td>\n",
       "      <td>0.665272</td>\n",
       "      <td>-0.976755</td>\n",
       "      <td>-1.860592</td>\n",
       "    </tr>\n",
       "    <tr>\n",
       "      <th>140</th>\n",
       "      <td>False</td>\n",
       "      <td>False</td>\n",
       "      <td>-0.348787</td>\n",
       "      <td>-0.208235</td>\n",
       "      <td>1.090879</td>\n",
       "      <td>-0.281053</td>\n",
       "      <td>-0.161167</td>\n",
       "      <td>-0.343253</td>\n",
       "      <td>-0.295821</td>\n",
       "      <td>-0.045320</td>\n",
       "      <td>-0.971379</td>\n",
       "      <td>-1.669334</td>\n",
       "    </tr>\n",
       "    <tr>\n",
       "      <th>218</th>\n",
       "      <td>False</td>\n",
       "      <td>True</td>\n",
       "      <td>0.293885</td>\n",
       "      <td>-0.208235</td>\n",
       "      <td>-0.442798</td>\n",
       "      <td>0.143047</td>\n",
       "      <td>-0.237745</td>\n",
       "      <td>6.573275</td>\n",
       "      <td>0.306058</td>\n",
       "      <td>-0.405480</td>\n",
       "      <td>-0.976755</td>\n",
       "      <td>1.080492</td>\n",
       "    </tr>\n",
       "    <tr>\n",
       "      <th>172</th>\n",
       "      <td>False</td>\n",
       "      <td>True</td>\n",
       "      <td>-0.348787</td>\n",
       "      <td>-0.208235</td>\n",
       "      <td>0.114903</td>\n",
       "      <td>-0.241825</td>\n",
       "      <td>-0.143414</td>\n",
       "      <td>-0.335793</td>\n",
       "      <td>-0.377425</td>\n",
       "      <td>-0.214311</td>\n",
       "      <td>-0.973093</td>\n",
       "      <td>1.401370</td>\n",
       "    </tr>\n",
       "    <tr>\n",
       "      <th>152</th>\n",
       "      <td>False</td>\n",
       "      <td>True</td>\n",
       "      <td>-0.348787</td>\n",
       "      <td>-0.208235</td>\n",
       "      <td>-1.046973</td>\n",
       "      <td>-0.231425</td>\n",
       "      <td>-0.125846</td>\n",
       "      <td>-0.335479</td>\n",
       "      <td>-0.386629</td>\n",
       "      <td>-0.209182</td>\n",
       "      <td>-0.971768</td>\n",
       "      <td>-0.006011</td>\n",
       "    </tr>\n",
       "    <tr>\n",
       "      <th>...</th>\n",
       "      <td>...</td>\n",
       "      <td>...</td>\n",
       "      <td>...</td>\n",
       "      <td>...</td>\n",
       "      <td>...</td>\n",
       "      <td>...</td>\n",
       "      <td>...</td>\n",
       "      <td>...</td>\n",
       "      <td>...</td>\n",
       "      <td>...</td>\n",
       "      <td>...</td>\n",
       "      <td>...</td>\n",
       "    </tr>\n",
       "    <tr>\n",
       "      <th>116</th>\n",
       "      <td>False</td>\n",
       "      <td>True</td>\n",
       "      <td>-0.348787</td>\n",
       "      <td>-0.208235</td>\n",
       "      <td>-0.582223</td>\n",
       "      <td>-0.309994</td>\n",
       "      <td>-0.223727</td>\n",
       "      <td>-0.360363</td>\n",
       "      <td>2.582474</td>\n",
       "      <td>1.452525</td>\n",
       "      <td>1.029743</td>\n",
       "      <td>-0.428820</td>\n",
       "    </tr>\n",
       "    <tr>\n",
       "      <th>159</th>\n",
       "      <td>False</td>\n",
       "      <td>True</td>\n",
       "      <td>-0.348787</td>\n",
       "      <td>-0.208235</td>\n",
       "      <td>0.951454</td>\n",
       "      <td>-0.299343</td>\n",
       "      <td>-0.223972</td>\n",
       "      <td>-0.410976</td>\n",
       "      <td>-0.338156</td>\n",
       "      <td>-0.213369</td>\n",
       "      <td>-0.972158</td>\n",
       "      <td>-1.335758</td>\n",
       "    </tr>\n",
       "    <tr>\n",
       "      <th>173</th>\n",
       "      <td>False</td>\n",
       "      <td>True</td>\n",
       "      <td>-0.348787</td>\n",
       "      <td>-0.208235</td>\n",
       "      <td>1.090879</td>\n",
       "      <td>-0.255960</td>\n",
       "      <td>-0.170226</td>\n",
       "      <td>-0.269428</td>\n",
       "      <td>-0.300217</td>\n",
       "      <td>-0.231642</td>\n",
       "      <td>-0.973171</td>\n",
       "      <td>-0.034357</td>\n",
       "    </tr>\n",
       "    <tr>\n",
       "      <th>110</th>\n",
       "      <td>False</td>\n",
       "      <td>True</td>\n",
       "      <td>-0.348787</td>\n",
       "      <td>-0.208235</td>\n",
       "      <td>1.090879</td>\n",
       "      <td>-0.310775</td>\n",
       "      <td>-0.240072</td>\n",
       "      <td>-0.436337</td>\n",
       "      <td>-0.271287</td>\n",
       "      <td>-0.210869</td>\n",
       "      <td>1.031457</td>\n",
       "      <td>-1.347812</td>\n",
       "    </tr>\n",
       "    <tr>\n",
       "      <th>228</th>\n",
       "      <td>False</td>\n",
       "      <td>True</td>\n",
       "      <td>-0.348787</td>\n",
       "      <td>0.150542</td>\n",
       "      <td>-0.163947</td>\n",
       "      <td>1.302486</td>\n",
       "      <td>2.175376</td>\n",
       "      <td>0.481686</td>\n",
       "      <td>-0.421644</td>\n",
       "      <td>-0.201261</td>\n",
       "      <td>-0.978314</td>\n",
       "      <td>-0.106939</td>\n",
       "    </tr>\n",
       "  </tbody>\n",
       "</table>\n",
       "<p>199 rows × 12 columns</p>\n",
       "</div>"
      ],
      "text/plain": [
       "     user_verified  accuracy  retweet_count  favorite_count    length  \\\n",
       "216          False     False      -0.348787       -0.028846  1.090879   \n",
       "140          False     False      -0.348787       -0.208235  1.090879   \n",
       "218          False      True       0.293885       -0.208235 -0.442798   \n",
       "172          False      True      -0.348787       -0.208235  0.114903   \n",
       "152          False      True      -0.348787       -0.208235 -1.046973   \n",
       "..             ...       ...            ...             ...       ...   \n",
       "116          False      True      -0.348787       -0.208235 -0.582223   \n",
       "159          False      True      -0.348787       -0.208235  0.951454   \n",
       "173          False      True      -0.348787       -0.208235  1.090879   \n",
       "110          False      True      -0.348787       -0.208235  1.090879   \n",
       "228          False      True      -0.348787        0.150542 -0.163947   \n",
       "\n",
       "     user_followers_count  user_friends_count  user_statuses_count  \\\n",
       "216             -0.297475           -0.133008            -0.246554   \n",
       "140             -0.281053           -0.161167            -0.343253   \n",
       "218              0.143047           -0.237745             6.573275   \n",
       "172             -0.241825           -0.143414            -0.335793   \n",
       "152             -0.231425           -0.125846            -0.335479   \n",
       "..                    ...                 ...                  ...   \n",
       "116             -0.309994           -0.223727            -0.360363   \n",
       "159             -0.299343           -0.223972            -0.410976   \n",
       "173             -0.255960           -0.170226            -0.269428   \n",
       "110             -0.310775           -0.240072            -0.436337   \n",
       "228              1.302486            2.175376             0.481686   \n",
       "\n",
       "     statuses/followers_count  friends/followers_count      Date  TimeSeparate  \n",
       "216                  0.231200                 0.665272 -0.976755     -1.860592  \n",
       "140                 -0.295821                -0.045320 -0.971379     -1.669334  \n",
       "218                  0.306058                -0.405480 -0.976755      1.080492  \n",
       "172                 -0.377425                -0.214311 -0.973093      1.401370  \n",
       "152                 -0.386629                -0.209182 -0.971768     -0.006011  \n",
       "..                        ...                      ...       ...           ...  \n",
       "116                  2.582474                 1.452525  1.029743     -0.428820  \n",
       "159                 -0.338156                -0.213369 -0.972158     -1.335758  \n",
       "173                 -0.300217                -0.231642 -0.973171     -0.034357  \n",
       "110                 -0.271287                -0.210869  1.031457     -1.347812  \n",
       "228                 -0.421644                -0.201261 -0.978314     -0.106939  \n",
       "\n",
       "[199 rows x 12 columns]"
      ]
     },
     "execution_count": 75,
     "metadata": {},
     "output_type": "execute_result"
    }
   ],
   "source": [
    "Train1 = df1[['user_verified','accuracy']]\n",
    "Train2 = normalized_df1\n",
    "\n",
    "Train = pd.concat([Train1, Train2], axis = 1)\n",
    "\n",
    "\n",
    "Test = test_set.copy()\n",
    "Test = Test[['user_verified','accuracy', \"retweet_count\", \"favorite_count\", \n",
    "            \"length\", \"user_followers_count\", \"user_friends_count\", \"user_statuses_count\", \n",
    "            \"statuses/followers_count\",\"friends/followers_count\",\"Date\",\"TimeSeparate\"]]\n",
    "\n",
    "Train"
   ]
  },
  {
   "cell_type": "markdown",
   "metadata": {},
   "source": [
    "### III. 4. Recodage des bases :"
   ]
  },
  {
   "cell_type": "markdown",
   "metadata": {},
   "source": [
    "On transforme les bases de train et de test en les séparant chacune en deux parties : X et Y.\n",
    "\n",
    "X correspond au dataset sans 'accuracy' et Y contient uniquement le label : 'accuracy'. En effet, c'est à partir des informations contenues dans X que l'on veut pouvoir prédire la valeur du label accuracy.\n",
    "\n",
    "On reshape enfin Y en une ligne de 199 valeurs."
   ]
  },
  {
   "cell_type": "code",
   "execution_count": 76,
   "metadata": {},
   "outputs": [],
   "source": [
    "X_train = Train.drop(['accuracy'], axis = 1).to_numpy()\n",
    "Y_train = Train[['accuracy']].to_numpy()\n",
    "\n",
    "X_test = Test.drop(['accuracy'], axis = 1).to_numpy()\n",
    "Y_test = Test[[\"accuracy\"]].to_numpy()\n",
    "\n",
    "Y_train = Y_train.reshape(Y_train.shape[0])\n",
    "Y_test = Y_test.reshape(Y_test.shape[0])"
   ]
  },
  {
   "cell_type": "markdown",
   "metadata": {},
   "source": [
    "## IV. Observation du dataset"
   ]
  },
  {
   "cell_type": "markdown",
   "metadata": {},
   "source": [
    "Avant d'utiliser (dans la seconde partie) des méthodes de prédiction, nous allons mener une analyse descriptive en observant les données via des graphiques, afin de - peut-être - identifier des valeurs ou comportements propres à une catégorie de tweets (*True* ou *False*). \n",
    "\n",
    "La visualisation des données est essentielle pour mieux les comprendre et pour obtenir des informations sur les possibles influence sur la véracité des tweets. L'enjeu est d'explorer un peu plus en profondeur, en dépassant la simple compréhension générale de notre jeu de données.\n"
   ]
  },
  {
   "cell_type": "markdown",
   "metadata": {},
   "source": [
    "### IV. 1. Observation des moyennes : "
   ]
  },
  {
   "cell_type": "markdown",
   "metadata": {},
   "source": [
    "La fonction groupby appliquée au critère *'accuracy'* nous permet de voir les moyennes des variables numériques normalisées et booléennes du dataset Train - respectivement pour les tweets *False* et les tweets *True*."
   ]
  },
  {
   "cell_type": "code",
   "execution_count": 77,
   "metadata": {},
   "outputs": [
    {
     "data": {
      "text/html": [
       "<div>\n",
       "<style scoped>\n",
       "    .dataframe tbody tr th:only-of-type {\n",
       "        vertical-align: middle;\n",
       "    }\n",
       "\n",
       "    .dataframe tbody tr th {\n",
       "        vertical-align: top;\n",
       "    }\n",
       "\n",
       "    .dataframe thead th {\n",
       "        text-align: right;\n",
       "    }\n",
       "</style>\n",
       "<table border=\"1\" class=\"dataframe\">\n",
       "  <thead>\n",
       "    <tr style=\"text-align: right;\">\n",
       "      <th></th>\n",
       "      <th>user_verified</th>\n",
       "      <th>retweet_count</th>\n",
       "      <th>favorite_count</th>\n",
       "      <th>length</th>\n",
       "      <th>user_followers_count</th>\n",
       "      <th>user_friends_count</th>\n",
       "      <th>user_statuses_count</th>\n",
       "      <th>statuses/followers_count</th>\n",
       "      <th>friends/followers_count</th>\n",
       "      <th>Date</th>\n",
       "      <th>TimeSeparate</th>\n",
       "    </tr>\n",
       "    <tr>\n",
       "      <th>accuracy</th>\n",
       "      <th></th>\n",
       "      <th></th>\n",
       "      <th></th>\n",
       "      <th></th>\n",
       "      <th></th>\n",
       "      <th></th>\n",
       "      <th></th>\n",
       "      <th></th>\n",
       "      <th></th>\n",
       "      <th></th>\n",
       "      <th></th>\n",
       "    </tr>\n",
       "  </thead>\n",
       "  <tbody>\n",
       "    <tr>\n",
       "      <th>False</th>\n",
       "      <td>0.066667</td>\n",
       "      <td>0.002541</td>\n",
       "      <td>0.152934</td>\n",
       "      <td>0.189263</td>\n",
       "      <td>-0.006875</td>\n",
       "      <td>-0.055457</td>\n",
       "      <td>0.021346</td>\n",
       "      <td>-0.024043</td>\n",
       "      <td>-0.046276</td>\n",
       "      <td>-0.128034</td>\n",
       "      <td>-0.088784</td>\n",
       "    </tr>\n",
       "    <tr>\n",
       "      <th>True</th>\n",
       "      <td>0.104839</td>\n",
       "      <td>-0.001537</td>\n",
       "      <td>-0.092500</td>\n",
       "      <td>-0.114474</td>\n",
       "      <td>0.004158</td>\n",
       "      <td>0.033543</td>\n",
       "      <td>-0.012911</td>\n",
       "      <td>0.014542</td>\n",
       "      <td>0.027990</td>\n",
       "      <td>0.077440</td>\n",
       "      <td>0.053700</td>\n",
       "    </tr>\n",
       "  </tbody>\n",
       "</table>\n",
       "</div>"
      ],
      "text/plain": [
       "          user_verified  retweet_count  favorite_count    length  \\\n",
       "accuracy                                                           \n",
       "False          0.066667       0.002541        0.152934  0.189263   \n",
       "True           0.104839      -0.001537       -0.092500 -0.114474   \n",
       "\n",
       "          user_followers_count  user_friends_count  user_statuses_count  \\\n",
       "accuracy                                                                  \n",
       "False                -0.006875           -0.055457             0.021346   \n",
       "True                  0.004158            0.033543            -0.012911   \n",
       "\n",
       "          statuses/followers_count  friends/followers_count      Date  \\\n",
       "accuracy                                                                \n",
       "False                    -0.024043                -0.046276 -0.128034   \n",
       "True                      0.014542                 0.027990  0.077440   \n",
       "\n",
       "          TimeSeparate  \n",
       "accuracy                \n",
       "False        -0.088784  \n",
       "True          0.053700  "
      ]
     },
     "execution_count": 77,
     "metadata": {},
     "output_type": "execute_result"
    }
   ],
   "source": [
    "Train.groupby('accuracy').mean()"
   ]
  },
  {
   "cell_type": "markdown",
   "metadata": {},
   "source": [
    "Certaines features ont des moyennes pour la catégorie *True* et la catégorie *False* éloignées. Cela peut laisser présupposer que les deux catégories ont des comportements relativement à ces variables différents, et donc qu'observer celui-ci permet d'estimer la véracité du tweet.\n",
    "\n",
    "Par exemple, \n",
    "* La variable *'length'* a une moyenne de 0.189263 (resp. -0.114474) pour les tweets *False* (resp. *True*).\n",
    "* La variable 'user verified' (à valeur dans {0,1}) a une moyenne de 0.066667 (resp. 0.104839) pour les tweets *False* (resp. *True*)."
   ]
  },
  {
   "cell_type": "markdown",
   "metadata": {},
   "source": [
    "### IV. 2. Observation à une variable :\n",
    "\n",
    "On peut alors observer comment se répartit la véracité du tweet selon sa longueur."
   ]
  },
  {
   "cell_type": "code",
   "execution_count": 79,
   "metadata": {},
   "outputs": [
    {
     "data": {
      "image/png": "[encoded data removed]",
      "text/plain": [
       "<Figure size 1440x144 with 1 Axes>"
      ]
     },
     "metadata": {
      "needs_background": "light"
     },
     "output_type": "display_data"
    }
   ],
   "source": [
    "import matplotlib.pyplot as plt  \n",
    "\n",
    "fig = plt.figure(1, figsize=(20,2))\n",
    "\n",
    "plt.title('Véracité du tweet en fonction de longueur')\n",
    "plt.scatter(Train['length'],Train['accuracy'])\n",
    "plt.show()"
   ]
  },
  {
   "cell_type": "markdown",
   "metadata": {},
   "source": [
    "Il n'est ainsi pas possible de mettre en avant un lien simple entre la longueur du tweet sa véracité. \n",
    "\n",
    "La variable '*user_verified*' est quant-à-elle booléenne, tout comme la variable '*accuracy*'. Nous allons ainsi effectuer un tri croisé avec ces deux variables."
   ]
  },
  {
   "cell_type": "code",
   "execution_count": 80,
   "metadata": {},
   "outputs": [
    {
     "data": {
      "text/html": [
       "<div>\n",
       "<style scoped>\n",
       "    .dataframe tbody tr th:only-of-type {\n",
       "        vertical-align: middle;\n",
       "    }\n",
       "\n",
       "    .dataframe tbody tr th {\n",
       "        vertical-align: top;\n",
       "    }\n",
       "\n",
       "    .dataframe thead th {\n",
       "        text-align: right;\n",
       "    }\n",
       "</style>\n",
       "<table border=\"1\" class=\"dataframe\">\n",
       "  <thead>\n",
       "    <tr style=\"text-align: right;\">\n",
       "      <th>accuracy</th>\n",
       "      <th>False</th>\n",
       "      <th>True</th>\n",
       "    </tr>\n",
       "    <tr>\n",
       "      <th>user_verified</th>\n",
       "      <th></th>\n",
       "      <th></th>\n",
       "    </tr>\n",
       "  </thead>\n",
       "  <tbody>\n",
       "    <tr>\n",
       "      <th>False</th>\n",
       "      <td>0.386740</td>\n",
       "      <td>0.613260</td>\n",
       "    </tr>\n",
       "    <tr>\n",
       "      <th>True</th>\n",
       "      <td>0.277778</td>\n",
       "      <td>0.722222</td>\n",
       "    </tr>\n",
       "  </tbody>\n",
       "</table>\n",
       "</div>"
      ],
      "text/plain": [
       "accuracy          False     True \n",
       "user_verified                    \n",
       "False          0.386740  0.613260\n",
       "True           0.277778  0.722222"
      ]
     },
     "execution_count": 80,
     "metadata": {},
     "output_type": "execute_result"
    }
   ],
   "source": [
    "#On affiche le pourcentage par ligne (feature 'user_verified') de tweets 'False' et 'True'\n",
    "\n",
    "tableau = pd.crosstab(Train['user_verified'],Train['accuracy'])\n",
    "tableau.astype('float').div(tableau.sum(axis=1), axis=0)"
   ]
  },
  {
   "cell_type": "markdown",
   "metadata": {},
   "source": [
    "Ainsi, à titre d'exemple, 72% des tweets provenant du trainset dont l'auteur a été certifié relatent une *True News*. Néanmoins cela est à prendre avec des pincettes car le nombre de tweets *True* est bien supérieur à celui de tweets *False* (voir ci-dessous). Il est ainsi tout à fait normal que parmi les tweets vérifiant \"*user_verified = True*\" davantage soient *True* que *False*. Il faut ainsi comparer ces pourcentages à ceux de tweets de catégories *False* et *True*."
   ]
  },
  {
   "cell_type": "code",
   "execution_count": 81,
   "metadata": {},
   "outputs": [
    {
     "data": {
      "text/plain": [
       "True     0.623116\n",
       "False    0.376884\n",
       "Name: accuracy, dtype: float64"
      ]
     },
     "execution_count": 81,
     "metadata": {},
     "output_type": "execute_result"
    }
   ],
   "source": [
    "#Tri à plat de la variable 'accuracy'\n",
    "Train[\"accuracy\"].value_counts(normalize = True)"
   ]
  },
  {
   "cell_type": "markdown",
   "metadata": {},
   "source": [
    "62% des tweets de la base Train sont *True*. Ainsi les pourcentages obtenus lors du tri croisé ne sont pas révélateurs d'une quelconque tendance.\n",
    "\n",
    "D'une manière générale, on observe qu'il est impossible de dégager un lien simple entre une feature seulement et la véractié du tweet. "
   ]
  },
  {
   "cell_type": "markdown",
   "metadata": {},
   "source": [
    "### IV. 3. Observation à deux variables :\n",
    "\n",
    "Une étude d'une variable unique ne permet pas d'établir la véracité d'un tweet. Néanmoins, en conjuguant deux variables, peut-être pourrons nous mettre en avant des associations de variables permettant de déterminer *graphiquement* la véracité d'un tweet.\n",
    "\n",
    "Nous donnons ici, *à titre d'exemple*, la représentation de la longueur du tweet selon la valeur de la variable TimeSeparate (mesurant la différence temporelle entre la création du compte Tweeter et la publication du tweet) pour les catégories *True* et *False*."
   ]
  },
  {
   "cell_type": "code",
   "execution_count": 82,
   "metadata": {},
   "outputs": [
    {
     "data": {
      "image/png": "[encoded data removed]",
      "text/plain": [
       "<Figure size 432x288 with 1 Axes>"
      ]
     },
     "metadata": {
      "needs_background": "light"
     },
     "output_type": "display_data"
    }
   ],
   "source": [
    "groups = Train.groupby('accuracy')\n",
    "\n",
    "fig, ax = plt.subplots()\n",
    "\n",
    "for veracite, group in groups:\n",
    "    ax.plot(group['TimeSeparate'], group['length'], marker='o', linestyle='', ms=2, label=veracite)\n",
    "ax.legend()\n",
    "plt.title('Longueur du tweet en fonction de la variable TimeSeparate')\n",
    "plt.show()"
   ]
  },
  {
   "cell_type": "markdown",
   "metadata": {},
   "source": [
    "Cette étude graphique ne permet pas non plus de mettre en avant aucun combinement de deux variables permettant de préjauger de la véracité d'un tweet. \n",
    "\n",
    "\n",
    "**Qu'en tirer ?** \n",
    "Nous avons en fait ici essayé de mettre en avant un lien entre *une* feature et la véracité du tweet, puis entre *deux* features et la véracité. Jusqu'en dimension 2, nous pouvions utiliser une *approche graphique*. Néanmoins celle-ci est bien insuffisante pour notre problème. \n",
    "\n",
    "La suite de notre étude constitue en l'*augmentation du nombre de features pris en compte* afin de mettre en avant une articulation complexe entre les valeurs prises par ces dernières et la véracité du tweet. Nous utiliserons pour cela dans la partie 2 des modèles dédiés."
   ]
  },
  {
   "cell_type": "markdown",
   "metadata": {},
   "source": [
    "# Partie 2 : Prédiction de la véracité des tweets selon plusieurs modèles\n",
    "\n"
   ]
  },
  {
   "cell_type": "markdown",
   "metadata": {},
   "source": [
    "Nous avons sélectionné trois modèles adapté à notre problème qui est celui d'une classification entre deux catégories (ainsi un modèle de Régression Linéaire serait par exemple absurde) :\n",
    "\n",
    "- **SGDC Classifier**\n",
    "\n",
    "\n",
    "- **Decision Tree Classifier**\n",
    "\n",
    "\n",
    "- **Random Forest Regression**\n"
   ]
  },
  {
   "cell_type": "markdown",
   "metadata": {},
   "source": [
    "## I. Modèle 1 : SGDC Classifier"
   ]
  },
  {
   "cell_type": "markdown",
   "metadata": {},
   "source": [
    "On utilise un module de classification proposé par *skicitlearn* : la **Descente de Gradient Stochastique**. Il s'agit d'un modèle linéaire simple qui ne devrait pas permettre d'obtenir d'excellents résultats, cependant il ne risque pas d'overfitter."
   ]
  },
  {
   "cell_type": "markdown",
   "metadata": {},
   "source": [
    "### I. 1. Entraînement  :"
   ]
  },
  {
   "cell_type": "code",
   "execution_count": 83,
   "metadata": {},
   "outputs": [],
   "source": [
    "from sklearn.metrics import mean_squared_error, classification_report"
   ]
  },
  {
   "cell_type": "code",
   "execution_count": 84,
   "metadata": {},
   "outputs": [],
   "source": [
    "from sklearn.linear_model import SGDClassifier\n",
    "\n",
    "sgd_twt = SGDClassifier(loss = 'log')\n",
    "sgd_twt = sgd_twt.fit(X_train,Y_train)\n",
    "\n",
    "predict_train_sgd = sgd_twt.predict(X_train)\n",
    "predict_test_sgd = sgd_twt.predict(X_test)\n"
   ]
  },
  {
   "cell_type": "markdown",
   "metadata": {},
   "source": [
    "### I. 2. Résultats sur la base train et la base set :"
   ]
  },
  {
   "cell_type": "markdown",
   "metadata": {},
   "source": [
    "***Résultats sur la base train :***"
   ]
  },
  {
   "cell_type": "code",
   "execution_count": 85,
   "metadata": {},
   "outputs": [],
   "source": [
    "from sklearn.metrics import confusion_matrix\n",
    "from sklearn.metrics import accuracy_score\n"
   ]
  },
  {
   "cell_type": "code",
   "execution_count": 86,
   "metadata": {},
   "outputs": [
    {
     "name": "stdout",
     "output_type": "stream",
     "text": [
      "[[33 42]\n",
      " [40 84]]\n",
      "précision : 0.5879396984924623\n",
      "erreur : 0.4120603015075377\n"
     ]
    }
   ],
   "source": [
    "print(confusion_matrix(Y_train, predict_train_sgd))\n",
    "print('précision :', accuracy_score(Y_train, predict_train_sgd))\n",
    "erreur = 1 - accuracy_score(Y_train, predict_train_sgd)\n",
    "print('erreur :', erreur)"
   ]
  },
  {
   "cell_type": "markdown",
   "metadata": {},
   "source": [
    "La **matrice de confusion** mesure la qualité d'un système de classification. Les lignes correspondent aux classes réelles (*True* ou *False*, données par la base Train), et les colonnes aux classes estimées par l'algorithme. Dans notre cas, la première ligne et la première colonne (respectivement deuxième) représentent la classe *False* (respectivement la classe *True*). Par exemple : la cellule ligne 2-colonne 2 contient le nombre de tweets *True* et reconnus comme tels par l'algorithme.\n",
    "\n",
    "La *Précision* donne la proportion de tweets dont la classe a été reconnue par l'algorithme. Il s'agit des tweets figurant sur la diagonale de la matrice de confusion. \n",
    "L'*Erreur* indique quant-à-elle la proportion de tweets pour lesquels l'algorithme choisi s'est trompé de classe. Il s'agit donc de la proportion de tweets qui ne sont pas sur la diagonale de la matrice de confusion. Ces deux indicateurs sont liés par la relation $Précision + Erreur = 1 $.\n",
    "\n"
   ]
  },
  {
   "cell_type": "markdown",
   "metadata": {},
   "source": [
    "***Résultats sur la base test :***"
   ]
  },
  {
   "cell_type": "code",
   "execution_count": 87,
   "metadata": {},
   "outputs": [
    {
     "name": "stdout",
     "output_type": "stream",
     "text": [
      "[[ 0 19]\n",
      " [ 0 31]]\n",
      "précision : 0.62\n",
      "erreur : 0.38\n",
      "prediction_test : [ True  True  True  True  True  True  True  True  True  True  True  True\n",
      "  True  True  True  True  True  True  True  True  True  True  True  True\n",
      "  True  True  True  True  True  True  True  True  True  True  True  True\n",
      "  True  True  True  True  True  True  True  True  True  True  True  True\n",
      "  True  True]\n"
     ]
    }
   ],
   "source": [
    "print(confusion_matrix(Y_test, predict_test_sgd))\n",
    "print('précision :', accuracy_score(Y_test, predict_test_sgd))\n",
    "\n",
    "erreur = 1 - accuracy_score(Y_test, predict_test_sgd)\n",
    "print('erreur :', erreur)\n",
    "\n",
    "print('prediction_test :', predict_test_sgd)"
   ]
  },
  {
   "cell_type": "markdown",
   "metadata": {},
   "source": [
    "On remarque que l'erreur sur la base de train et celle sur la base de test sont semblables. Le modèle n'a, comme prévu, pas overfitté. Néanmoins l'erreur est importante. \n",
    "\n",
    "Par lecture de la matrice de confusion, nous savons qu'il y a 19 \"*Fake News*\" et 31 \"*True News*\". Cependant la prédiction a retourné pour l'ensemble des tweets de *cette* base de Test le même résultat : *True*. \n",
    "\n",
    "En exécutant nos programmes à plusieurs reprises (avec des bases Train et Test différentes), nous avons remarqué que le modèle tend à toujours retourner un même résultat pour la *majorité* des tweets de la base Test. \n",
    "Cela concerne une *majorité* des tweets, et non forcèment la totalité : des exceptions peuvent subsister. En outre, le résultat majoritaire peut être aussi bien *True* que *False*, et dépend donc des bases considérées. La prédiction n'est donc pas d'assigner automatiquement le résultat *True*.\n"
   ]
  },
  {
   "cell_type": "code",
   "execution_count": 90,
   "metadata": {},
   "outputs": [
    {
     "name": "stdout",
     "output_type": "stream",
     "text": [
      "Base de train :\n",
      "              precision    recall  f1-score   support\n",
      "\n",
      "       False       0.45      0.44      0.45        75\n",
      "        True       0.67      0.68      0.67       124\n",
      "\n",
      "    accuracy                           0.59       199\n",
      "   macro avg       0.56      0.56      0.56       199\n",
      "weighted avg       0.59      0.59      0.59       199\n",
      "\n",
      "Base de test :\n",
      "              precision    recall  f1-score   support\n",
      "\n",
      "       False       0.00      0.00      0.00        19\n",
      "        True       0.62      1.00      0.77        31\n",
      "\n",
      "    accuracy                           0.62        50\n",
      "   macro avg       0.31      0.50      0.38        50\n",
      "weighted avg       0.38      0.62      0.47        50\n",
      "\n"
     ]
    }
   ],
   "source": [
    "print('Base de train :')\n",
    "print(classification_report(Y_train, predict_train_sgd))\n",
    "print('Base de test :')\n",
    "print(classification_report(Y_test, predict_test_sgd))"
   ]
  },
  {
   "cell_type": "markdown",
   "metadata": {},
   "source": [
    "Le *classification report* des résultats des bases de set et de train nous permet à nouveau d'observer les résultats du test. \n",
    "\n",
    "Bien que la prédiction n'assigne pas automatiquement le résultat *True* aux tweets de la base de Test, ce modèle tend à préférer un résultat et à l'assigner majoritairement.  **La prédiction du modèle est donc mauvaise.**"
   ]
  },
  {
   "cell_type": "markdown",
   "metadata": {},
   "source": [
    "## II. Modèle 2 : Arbre de décision"
   ]
  },
  {
   "cell_type": "markdown",
   "metadata": {},
   "source": [
    "Ce deuxième modèle - de **l'Arbre de décision** - est bien plus complexe que le premier. Il peut apporter de bien meilleurs résultats, à la condition qu'il n'overfit pas. "
   ]
  },
  {
   "cell_type": "markdown",
   "metadata": {},
   "source": [
    "### II. 1. Entraînement :"
   ]
  },
  {
   "cell_type": "code",
   "execution_count": 91,
   "metadata": {},
   "outputs": [],
   "source": [
    "from sklearn.tree import DecisionTreeClassifier\n",
    "\n",
    "tree_twt = DecisionTreeClassifier()\n",
    "tree_twt = tree_twt.fit(X_train, Y_train)\n",
    "\n",
    "predict_train_tree = tree_twt.predict(X_train)\n",
    "predict_test_tree = tree_twt.predict(X_test)\n"
   ]
  },
  {
   "cell_type": "markdown",
   "metadata": {},
   "source": [
    "### II. 2. Résultats pour les base de train et test :\n"
   ]
  },
  {
   "cell_type": "markdown",
   "metadata": {},
   "source": [
    "***Résultats pour la base train :***"
   ]
  },
  {
   "cell_type": "code",
   "execution_count": 92,
   "metadata": {},
   "outputs": [
    {
     "name": "stdout",
     "output_type": "stream",
     "text": [
      "[[ 75   0]\n",
      " [  0 124]]\n",
      "précision : 1.0\n",
      "erreur : 0.0\n"
     ]
    }
   ],
   "source": [
    "print(confusion_matrix(Y_train, predict_train_tree))\n",
    "print('précision :', accuracy_score(Y_train, predict_train_tree))\n",
    "erreur = 1 - accuracy_score(Y_train, predict_train_tree)\n",
    "print('erreur :', erreur)"
   ]
  },
  {
   "cell_type": "markdown",
   "metadata": {},
   "source": [
    "***Résultats pour la base test :***"
   ]
  },
  {
   "cell_type": "code",
   "execution_count": 93,
   "metadata": {},
   "outputs": [
    {
     "name": "stdout",
     "output_type": "stream",
     "text": [
      "[[ 0 19]\n",
      " [ 0 31]]\n",
      "précision : 0.62\n",
      "erreur : 0.38\n",
      "prediction_test : [ True  True  True  True  True  True  True  True  True  True  True  True\n",
      "  True  True  True  True  True  True  True  True  True  True  True  True\n",
      "  True  True  True  True  True  True  True  True  True  True  True  True\n",
      "  True  True  True  True  True  True  True  True  True  True  True  True\n",
      "  True  True]\n"
     ]
    }
   ],
   "source": [
    "print(confusion_matrix(Y_test, predict_test_sgd))\n",
    "print('précision :', accuracy_score(Y_test, predict_test_sgd))\n",
    "\n",
    "erreur = 1 - accuracy_score(Y_test, predict_test_sgd)\n",
    "print('erreur :', erreur)\n",
    "\n",
    "print('prediction_test :', predict_test_sgd)"
   ]
  },
  {
   "cell_type": "markdown",
   "metadata": {},
   "source": [
    "L'erreur pour la base de Train est nulle, tandis que celle de la base de Test est bien plus grande. Le modèle a donc *overfitté*. On remarque de plus que la prédiction pour la base de Test est constituée majoritairement de *True*.\n",
    "\n",
    "Nous allons donc chercher à optimiser les paramètres de l'arbre. "
   ]
  },
  {
   "cell_type": "markdown",
   "metadata": {},
   "source": [
    "### II. 3. Optimisation des paramètres :"
   ]
  },
  {
   "cell_type": "markdown",
   "metadata": {},
   "source": [
    "***Optimisation***"
   ]
  },
  {
   "cell_type": "markdown",
   "metadata": {},
   "source": [
    "On va utiliser la technique de *Cross Validation* pour faire varier différents paramètres du modèle, de manière a obtenir le modèle le plus performant possible.\n",
    "\n",
    "On peut faire jouer avec les hyperparamètres non manuellement en utilisant GrikSearchCV car en lui donnant\n",
    "les paramètres et les valeurs à essayer, il évaluera tous les combinaisons possibles jusqu'à trouver la meilleure. \n",
    "\n",
    "La compréhension de l'articulation et l'influence de tout les paramètres de ces différents modèles étant extrêmement fastidieuse, nous avons simplement décider de modifier certains paramètres usuels, sans trop rentrer dans les détails de cette optimisation."
   ]
  },
  {
   "cell_type": "code",
   "execution_count": 94,
   "metadata": {},
   "outputs": [],
   "source": [
    "from sklearn.model_selection import GridSearchCV"
   ]
  },
  {
   "cell_type": "code",
   "execution_count": 95,
   "metadata": {},
   "outputs": [
    {
     "name": "stdout",
     "output_type": "stream",
     "text": [
      "Fitting 10 folds for each of 29640 candidates, totalling 296400 fits\n"
     ]
    },
    {
     "name": "stderr",
     "output_type": "stream",
     "text": [
      "[Parallel(n_jobs=-1)]: Using backend LokyBackend with 4 concurrent workers.\n",
      "[Parallel(n_jobs=-1)]: Done  56 tasks      | elapsed:    4.5s\n",
      "[Parallel(n_jobs=-1)]: Done 8208 tasks      | elapsed:   12.2s\n",
      "[Parallel(n_jobs=-1)]: Done 24208 tasks      | elapsed:   26.6s\n",
      "[Parallel(n_jobs=-1)]: Done 46608 tasks      | elapsed:   45.4s\n",
      "[Parallel(n_jobs=-1)]: Done 75408 tasks      | elapsed:  1.2min\n",
      "[Parallel(n_jobs=-1)]: Done 110608 tasks      | elapsed:  1.6min\n",
      "[Parallel(n_jobs=-1)]: Done 152208 tasks      | elapsed:  2.2min\n",
      "[Parallel(n_jobs=-1)]: Done 200208 tasks      | elapsed:  2.9min\n",
      "[Parallel(n_jobs=-1)]: Done 254608 tasks      | elapsed:  3.7min\n",
      "[Parallel(n_jobs=-1)]: Done 296400 out of 296400 | elapsed:  4.3min finished\n"
     ]
    },
    {
     "data": {
      "text/plain": [
       "GridSearchCV(cv=10, error_score=nan,\n",
       "             estimator=DecisionTreeClassifier(ccp_alpha=0.0, class_weight=None,\n",
       "                                              criterion='gini', max_depth=None,\n",
       "                                              max_features=None,\n",
       "                                              max_leaf_nodes=None,\n",
       "                                              min_impurity_decrease=0.0,\n",
       "                                              min_impurity_split=None,\n",
       "                                              min_samples_leaf=1,\n",
       "                                              min_samples_split=2,\n",
       "                                              min_weight_fraction_leaf=0.0,\n",
       "                                              presort='deprecated',\n",
       "                                              random_state=None,\n",
       "                                              splitter='best'),\n",
       "             iid='deprecated', n_jobs=-1,\n",
       "             param_grid={'max_depth': range(1, 20),\n",
       "                         'min_samples_leaf': range(1, 40),\n",
       "                         'min_samples_split': range(0, 40)},\n",
       "             pre_dispatch='2*n_jobs', refit=True, return_train_score=False,\n",
       "             scoring=None, verbose=1)"
      ]
     },
     "execution_count": 95,
     "metadata": {},
     "output_type": "execute_result"
    }
   ],
   "source": [
    "parameters = {'max_depth':range(1,20), 'min_samples_leaf':range(1,40), 'min_samples_split':range(0,40)}\n",
    "tree_twt = DecisionTreeClassifier()\n",
    "tree_search_twt = GridSearchCV(tree_twt, parameters, cv=10, n_jobs=-1, verbose=1)\n",
    "tree_search_twt.fit(X_train, Y_train)\n"
   ]
  },
  {
   "cell_type": "code",
   "execution_count": 96,
   "metadata": {},
   "outputs": [],
   "source": [
    "tree_search_twt = tree_search_twt.best_estimator_\n",
    "predict_train_tree_search  = tree_search_twt.predict(X_train)\n",
    "predict_test_tree_search  = tree_search_twt.predict(X_test)"
   ]
  },
  {
   "cell_type": "markdown",
   "metadata": {},
   "source": [
    "***Résultats pour la base train :***"
   ]
  },
  {
   "cell_type": "code",
   "execution_count": 97,
   "metadata": {},
   "outputs": [
    {
     "name": "stdout",
     "output_type": "stream",
     "text": [
      "[[ 37  38]\n",
      " [ 22 102]]\n",
      "précision : 0.6984924623115578\n",
      "erreur : 0.3015075376884422\n"
     ]
    }
   ],
   "source": [
    "print(confusion_matrix(Y_train, predict_train_tree_search))\n",
    "print('précision :', accuracy_score(Y_train, predict_train_tree_search))\n",
    "erreur = 1 - accuracy_score(Y_train, predict_train_tree_search)\n",
    "print('erreur :', erreur)\n"
   ]
  },
  {
   "cell_type": "markdown",
   "metadata": {},
   "source": [
    "***Résultats pour la base test :***"
   ]
  },
  {
   "cell_type": "code",
   "execution_count": 98,
   "metadata": {},
   "outputs": [
    {
     "name": "stdout",
     "output_type": "stream",
     "text": [
      "[[14  5]\n",
      " [22  9]]\n",
      "précision : 0.46\n",
      "erreur : 0.54\n",
      "prediction_test : [False False False  True False False False False  True  True  True  True\n",
      " False False  True False False False False False False False False False\n",
      "  True False False  True  True False  True False False False False False\n",
      " False  True  True False False False False False False False False  True\n",
      " False  True]\n"
     ]
    }
   ],
   "source": [
    "print(confusion_matrix(Y_test, predict_test_tree_search))\n",
    "print('précision :', accuracy_score(Y_test, predict_test_tree_search))\n",
    "\n",
    "erreur = 1 - accuracy_score(Y_test, predict_test_tree_search)\n",
    "print('erreur :', erreur)\n",
    "\n",
    "print('prediction_test :', predict_test_tree_search)"
   ]
  },
  {
   "cell_type": "markdown",
   "metadata": {},
   "source": [
    "***Observation :***\n",
    "\n",
    "Il n'y a plus de phénomène d'overfit. L'erreur sur la base de Train est maintenant non nulle. L'erreur sur la base de Test est néanmoins plus élevé que pour l'arbre précédent. Le modèle de prédiction donne cependant des résultats plus \"variées\" entre *True* et *False* pour la base de Test, ce qui rend les résultats meilleurs."
   ]
  },
  {
   "cell_type": "code",
   "execution_count": 99,
   "metadata": {},
   "outputs": [
    {
     "name": "stdout",
     "output_type": "stream",
     "text": [
      "Base de train :\n",
      "              precision    recall  f1-score   support\n",
      "\n",
      "       False       0.63      0.49      0.55        75\n",
      "        True       0.73      0.82      0.77       124\n",
      "\n",
      "    accuracy                           0.70       199\n",
      "   macro avg       0.68      0.66      0.66       199\n",
      "weighted avg       0.69      0.70      0.69       199\n",
      "\n",
      "Base de test :\n",
      "              precision    recall  f1-score   support\n",
      "\n",
      "       False       0.39      0.74      0.51        19\n",
      "        True       0.64      0.29      0.40        31\n",
      "\n",
      "    accuracy                           0.46        50\n",
      "   macro avg       0.52      0.51      0.45        50\n",
      "weighted avg       0.55      0.46      0.44        50\n",
      "\n"
     ]
    }
   ],
   "source": [
    "print('Base de train :')\n",
    "print(classification_report(Y_train, predict_train_tree_search))\n",
    "print('Base de test :')\n",
    "print(classification_report(Y_test, predict_test_tree_search))\n"
   ]
  },
  {
   "cell_type": "markdown",
   "metadata": {},
   "source": [
    "En comparaison avec le premier modèle (SCGD Classifier), **les résultats de l'arbre de décision sont meilleurs**. Pour la base de Train, l'erreur est plus faible. Et pour la base de Test, la prédiction est maintenant variée entre *True* et *False*."
   ]
  },
  {
   "cell_type": "markdown",
   "metadata": {},
   "source": [
    "## III. Modèle 3 : Random Forest"
   ]
  },
  {
   "cell_type": "markdown",
   "metadata": {},
   "source": [
    "Ce troisième modèle - **Random Forest** - combine de nombreux arbres de décision. Cela le rend plus efficace qu'un arbre de décision seul."
   ]
  },
  {
   "cell_type": "markdown",
   "metadata": {},
   "source": [
    "### III. 1. Entraînement :"
   ]
  },
  {
   "cell_type": "code",
   "execution_count": 106,
   "metadata": {},
   "outputs": [],
   "source": [
    "from sklearn.ensemble import RandomForestClassifier\n",
    "rfc_twt = RandomForestClassifier()\n",
    "rfc_twt = rfc_twt.fit(X_train, Y_train)\n",
    " \n",
    "predict_train_rfc = rfc_twt.predict(X_train)\n",
    "predict_test_rfc = rfc_twt.predict(X_test)\n"
   ]
  },
  {
   "cell_type": "markdown",
   "metadata": {},
   "source": [
    "### III. 2. Résultats pour les bases de train et test :"
   ]
  },
  {
   "cell_type": "markdown",
   "metadata": {},
   "source": [
    "***Résultats pour la base de train :***"
   ]
  },
  {
   "cell_type": "code",
   "execution_count": 107,
   "metadata": {},
   "outputs": [
    {
     "name": "stdout",
     "output_type": "stream",
     "text": [
      "[[ 75   0]\n",
      " [  0 124]]\n",
      "précision : 1.0\n",
      "erreur : 0.0\n"
     ]
    }
   ],
   "source": [
    "print(confusion_matrix(Y_train, predict_train_rfc))\n",
    "print('précision :', accuracy_score(Y_train, predict_train_rfc))\n",
    "erreur = 1 - accuracy_score(Y_train, predict_train_rfc)\n",
    "print('erreur :', erreur)"
   ]
  },
  {
   "cell_type": "markdown",
   "metadata": {},
   "source": [
    "***Résultats pour la base de test :***"
   ]
  },
  {
   "cell_type": "code",
   "execution_count": 108,
   "metadata": {},
   "outputs": [
    {
     "name": "stdout",
     "output_type": "stream",
     "text": [
      "[[14  5]\n",
      " [27  4]]\n",
      "précision : 0.36\n",
      "erreur : 0.64\n",
      "prediction_test : [False  True False False False False False  True False False False False\n",
      " False False False  True False False False  True False False False False\n",
      " False False False False False False False  True False False  True False\n",
      "  True False False False False False False False  True  True False False\n",
      " False False]\n"
     ]
    }
   ],
   "source": [
    "print(confusion_matrix(Y_test, predict_test_rfc))\n",
    "print('précision :', accuracy_score(Y_test, predict_test_rfc))\n",
    "\n",
    "erreur = 1 - accuracy_score(Y_test, predict_test_rfc)\n",
    "print('erreur :', erreur)\n",
    "\n",
    "print('prediction_test :', predict_test_rfc)"
   ]
  },
  {
   "cell_type": "markdown",
   "metadata": {},
   "source": [
    "Comme pour le modèle précedent, le modèle a overfitté puisqu'on a une erreur nulle pour la base de train, et une erreur bien plus grande pour celle de test. De même les résultats de la prédiction semblent comme précédemment se répartir en majorité soit exclusivement dans la catégorie *False*, soit *True* selon les tentatives.\n",
    "\n",
    "Il faut donc optimiser les paramètres de l'arbre."
   ]
  },
  {
   "cell_type": "markdown",
   "metadata": {},
   "source": [
    "### III. 3. Optimisation des paramètres :"
   ]
  },
  {
   "cell_type": "code",
   "execution_count": 109,
   "metadata": {},
   "outputs": [
    {
     "name": "stdout",
     "output_type": "stream",
     "text": [
      "Fitting 10 folds for each of 9604 candidates, totalling 96040 fits\n"
     ]
    },
    {
     "name": "stderr",
     "output_type": "stream",
     "text": [
      "[Parallel(n_jobs=-1)]: Using backend LokyBackend with 4 concurrent workers.\n",
      "[Parallel(n_jobs=-1)]: Done  76 tasks      | elapsed:    2.6s\n",
      "[Parallel(n_jobs=-1)]: Done 376 tasks      | elapsed:   12.1s\n",
      "[Parallel(n_jobs=-1)]: Done 876 tasks      | elapsed:   29.8s\n",
      "[Parallel(n_jobs=-1)]: Done 1576 tasks      | elapsed:   52.2s\n",
      "[Parallel(n_jobs=-1)]: Done 2476 tasks      | elapsed:  1.4min\n",
      "[Parallel(n_jobs=-1)]: Done 3576 tasks      | elapsed:  2.0min\n",
      "[Parallel(n_jobs=-1)]: Done 4876 tasks      | elapsed:  2.7min\n",
      "[Parallel(n_jobs=-1)]: Done 6376 tasks      | elapsed:  3.5min\n",
      "[Parallel(n_jobs=-1)]: Done 8076 tasks      | elapsed:  4.5min\n",
      "[Parallel(n_jobs=-1)]: Done 9976 tasks      | elapsed:  5.7min\n",
      "[Parallel(n_jobs=-1)]: Done 12076 tasks      | elapsed:  6.9min\n",
      "[Parallel(n_jobs=-1)]: Done 14376 tasks      | elapsed:  8.6min\n",
      "[Parallel(n_jobs=-1)]: Done 16876 tasks      | elapsed: 10.3min\n",
      "[Parallel(n_jobs=-1)]: Done 19576 tasks      | elapsed: 12.1min\n",
      "[Parallel(n_jobs=-1)]: Done 22476 tasks      | elapsed: 13.8min\n",
      "[Parallel(n_jobs=-1)]: Done 25576 tasks      | elapsed: 15.5min\n",
      "[Parallel(n_jobs=-1)]: Done 28876 tasks      | elapsed: 17.3min\n",
      "[Parallel(n_jobs=-1)]: Done 32376 tasks      | elapsed: 19.2min\n",
      "[Parallel(n_jobs=-1)]: Done 36076 tasks      | elapsed: 21.2min\n",
      "[Parallel(n_jobs=-1)]: Done 39976 tasks      | elapsed: 23.4min\n",
      "[Parallel(n_jobs=-1)]: Done 44076 tasks      | elapsed: 25.6min\n",
      "[Parallel(n_jobs=-1)]: Done 48376 tasks      | elapsed: 28.0min\n",
      "[Parallel(n_jobs=-1)]: Done 52876 tasks      | elapsed: 30.4min\n",
      "[Parallel(n_jobs=-1)]: Done 57576 tasks      | elapsed: 33.0min\n",
      "[Parallel(n_jobs=-1)]: Done 62476 tasks      | elapsed: 35.7min\n",
      "[Parallel(n_jobs=-1)]: Done 67576 tasks      | elapsed: 38.5min\n",
      "[Parallel(n_jobs=-1)]: Done 72876 tasks      | elapsed: 41.6min\n",
      "[Parallel(n_jobs=-1)]: Done 78376 tasks      | elapsed: 44.7min\n",
      "[Parallel(n_jobs=-1)]: Done 84076 tasks      | elapsed: 48.6min\n",
      "[Parallel(n_jobs=-1)]: Done 89976 tasks      | elapsed: 52.3min\n",
      "[Parallel(n_jobs=-1)]: Done 96040 out of 96040 | elapsed: 56.1min finished\n"
     ]
    },
    {
     "data": {
      "text/plain": [
       "RandomForestClassifier(bootstrap=True, ccp_alpha=0.0, class_weight=None,\n",
       "                       criterion='gini', max_depth=19, max_features='auto',\n",
       "                       max_leaf_nodes=None, max_samples=None,\n",
       "                       min_impurity_decrease=0.0, min_impurity_split=None,\n",
       "                       min_samples_leaf=11, min_samples_split=2,\n",
       "                       min_weight_fraction_leaf=0.0, n_estimators=20,\n",
       "                       n_jobs=None, oob_score=False, random_state=None,\n",
       "                       verbose=0, warm_start=False)"
      ]
     },
     "execution_count": 109,
     "metadata": {},
     "output_type": "execute_result"
    }
   ],
   "source": [
    "parameters = {'max_depth':range(1,50), 'min_samples_leaf':range(1,50), \n",
    "              'max_features':[\"auto\"], 'n_estimators':[20,30,40,50]}\n",
    "rfc_twt = RandomForestClassifier()\n",
    "rfc_search_twt = GridSearchCV(rfc_twt, parameters, cv=10, n_jobs=-1, verbose=1)\n",
    "rfc_search_twt.fit(X_train, Y_train)\n",
    "rfc_search_twt = rfc_search_twt.best_estimator_ \n",
    "rfc_search_twt"
   ]
  },
  {
   "cell_type": "code",
   "execution_count": 112,
   "metadata": {},
   "outputs": [],
   "source": [
    "predict_train_rfc_search_twt  = rfc_search_twt.predict(X_train)\n",
    "predict_test_rfc_search_twt  = rfc_search_twt.predict(X_test)"
   ]
  },
  {
   "cell_type": "markdown",
   "metadata": {},
   "source": [
    "***Résultats pour la base train :***"
   ]
  },
  {
   "cell_type": "code",
   "execution_count": 114,
   "metadata": {},
   "outputs": [
    {
     "name": "stdout",
     "output_type": "stream",
     "text": [
      "[[ 32  43]\n",
      " [  2 122]]\n",
      "précision : 0.7738693467336684\n",
      "erreur : 0.22613065326633164\n"
     ]
    }
   ],
   "source": [
    "print(confusion_matrix(Y_train, predict_train_rfc_search_twt))\n",
    "print('précision :', accuracy_score(Y_train, predict_train_rfc_search_twt))\n",
    "erreur = 1 - accuracy_score(Y_train, predict_train_rfc_search_twt)\n",
    "print('erreur :', erreur)"
   ]
  },
  {
   "cell_type": "markdown",
   "metadata": {},
   "source": [
    "***Résultats pour la base test :***"
   ]
  },
  {
   "cell_type": "code",
   "execution_count": 115,
   "metadata": {},
   "outputs": [
    {
     "name": "stdout",
     "output_type": "stream",
     "text": [
      "[[ 0 19]\n",
      " [ 0 31]]\n",
      "précision : 0.62\n",
      "erreur : 0.38\n",
      "prediction_test : [ True  True  True  True  True  True  True  True  True  True  True  True\n",
      "  True  True  True  True  True  True  True  True  True  True  True  True\n",
      "  True  True  True  True  True  True  True  True  True  True  True  True\n",
      "  True  True  True  True  True  True  True  True  True  True  True  True\n",
      "  True  True]\n"
     ]
    }
   ],
   "source": [
    "print(confusion_matrix(Y_test, predict_test_rfc_search_twt ))\n",
    "print('précision :', accuracy_score(Y_test, predict_test_rfc_search_twt ))\n",
    "\n",
    "erreur = 1 - accuracy_score(Y_test, predict_test_rfc_search_twt )\n",
    "print('erreur :', erreur)\n",
    "\n",
    "print('prediction_test :', predict_test_rfc_search_twt)"
   ]
  },
  {
   "cell_type": "code",
   "execution_count": 116,
   "metadata": {},
   "outputs": [
    {
     "name": "stdout",
     "output_type": "stream",
     "text": [
      "Base de train :\n",
      "              precision    recall  f1-score   support\n",
      "\n",
      "       False       0.94      0.43      0.59        75\n",
      "        True       0.74      0.98      0.84       124\n",
      "\n",
      "    accuracy                           0.77       199\n",
      "   macro avg       0.84      0.71      0.72       199\n",
      "weighted avg       0.82      0.77      0.75       199\n",
      "\n",
      "Base de test :\n",
      "              precision    recall  f1-score   support\n",
      "\n",
      "       False       0.00      0.00      0.00        19\n",
      "        True       0.62      1.00      0.77        31\n",
      "\n",
      "    accuracy                           0.62        50\n",
      "   macro avg       0.31      0.50      0.38        50\n",
      "weighted avg       0.38      0.62      0.47        50\n",
      "\n"
     ]
    },
    {
     "name": "stderr",
     "output_type": "stream",
     "text": [
      "/Users/clementineabed-meraim/anaconda/lib/python3.6/site-packages/sklearn/metrics/_classification.py:1272: UndefinedMetricWarning: Precision and F-score are ill-defined and being set to 0.0 in labels with no predicted samples. Use `zero_division` parameter to control this behavior.\n",
      "  _warn_prf(average, modifier, msg_start, len(result))\n"
     ]
    }
   ],
   "source": [
    "print('Base de train :')\n",
    "print(classification_report(Y_train, predict_train_rfc_search_twt))\n",
    "print('Base de test :')\n",
    "print(classification_report(Y_test, predict_test_rfc_search_twt ))"
   ]
  },
  {
   "cell_type": "markdown",
   "metadata": {},
   "source": [
    "On remarque que malgré l'optimisation des paramètres la prédiction pour la base de Test est constituée quasi systématiquement de *True*. Dans ce cas très précis, le modèle présentant les meilleurs résultats est donc le second modèle de l'arbre de décision. L'exploitation de ces modèles sur notre base de données n'offre malheureusement pas des résultats très significatifs, puisque nous n'avons pas obtenu de modèle permettant de donner une précision meilleure que celui attribuant automatiquement la valeur \"*True*\" à chaque tweet.\n",
    "\n",
    "Cependant ce problème d'attribution des valeurs *True* est dû à la taille de notre base de données qui ne fournit pas assez de données avec des features significatives pour \"entraîner\" le modèle. Ainsi celui-ci n'arrive pas à prédire et à obtenir une précision meilleure que s'il attribue automatiquement des *True*, puisqu'il y a une majorité de *True* dans la base de données (62% i.e exactement la précision obtenue).\n",
    "\n",
    "\n",
    "Il peut donc être intéressant de comparer l'usage de ces modèles sur une base de données similaire et plus grande.\n",
    "Il est extrêmement difficile de trouver des bases de données importantes de tweets autres que pour du NLP, et donc contenant les informations qui nous intéressent (nombre de retweets, etc.)\n",
    "\n",
    "Ainsi nous nous sommes tournés vers une seconde base, plus grande (2282 posts), cette fois-ci issue d'un second réseau social. Il s'agit d'articles ayant été relayés sur Facebook.\n"
   ]
  },
  {
   "cell_type": "markdown",
   "metadata": {},
   "source": [
    "# Partie 3 : Prédiction de la véracité d'articles relayés sur Facebook avec les mêmes modèles et comparaison avec notre première base"
   ]
  },
  {
   "cell_type": "markdown",
   "metadata": {},
   "source": [
    "## I. Préparation initiale au traitement "
   ]
  },
  {
   "cell_type": "markdown",
   "metadata": {},
   "source": [
    "### I. 1. Chargement et observation du dataset :"
   ]
  },
  {
   "cell_type": "markdown",
   "metadata": {},
   "source": [
    "On commence par charger le dataset :"
   ]
  },
  {
   "cell_type": "code",
   "execution_count": 264,
   "metadata": {},
   "outputs": [
    {
     "data": {
      "text/html": [
       "<div>\n",
       "<style scoped>\n",
       "    .dataframe tbody tr th:only-of-type {\n",
       "        vertical-align: middle;\n",
       "    }\n",
       "\n",
       "    .dataframe tbody tr th {\n",
       "        vertical-align: top;\n",
       "    }\n",
       "\n",
       "    .dataframe thead th {\n",
       "        text-align: right;\n",
       "    }\n",
       "</style>\n",
       "<table border=\"1\" class=\"dataframe\">\n",
       "  <thead>\n",
       "    <tr style=\"text-align: right;\">\n",
       "      <th></th>\n",
       "      <th>account_id</th>\n",
       "      <th>post_id</th>\n",
       "      <th>Category</th>\n",
       "      <th>Page</th>\n",
       "      <th>Post URL</th>\n",
       "      <th>Date Published</th>\n",
       "      <th>Post Type</th>\n",
       "      <th>Rating</th>\n",
       "      <th>Debate</th>\n",
       "      <th>share_count</th>\n",
       "      <th>reaction_count</th>\n",
       "      <th>comment_count</th>\n",
       "    </tr>\n",
       "  </thead>\n",
       "  <tbody>\n",
       "    <tr>\n",
       "      <th>0</th>\n",
       "      <td>184096565021911</td>\n",
       "      <td>1035057923259100</td>\n",
       "      <td>mainstream</td>\n",
       "      <td>ABC News Politics</td>\n",
       "      <td>https://www.facebook.com/ABCNewsPolitics/posts...</td>\n",
       "      <td>2016-09-19</td>\n",
       "      <td>video</td>\n",
       "      <td>no factual content</td>\n",
       "      <td>NaN</td>\n",
       "      <td>NaN</td>\n",
       "      <td>146.0</td>\n",
       "      <td>15.0</td>\n",
       "    </tr>\n",
       "    <tr>\n",
       "      <th>1</th>\n",
       "      <td>184096565021911</td>\n",
       "      <td>1035269309904628</td>\n",
       "      <td>mainstream</td>\n",
       "      <td>ABC News Politics</td>\n",
       "      <td>https://www.facebook.com/ABCNewsPolitics/posts...</td>\n",
       "      <td>2016-09-19</td>\n",
       "      <td>link</td>\n",
       "      <td>mostly true</td>\n",
       "      <td>NaN</td>\n",
       "      <td>1.0</td>\n",
       "      <td>33.0</td>\n",
       "      <td>34.0</td>\n",
       "    </tr>\n",
       "    <tr>\n",
       "      <th>2</th>\n",
       "      <td>184096565021911</td>\n",
       "      <td>1035305953234297</td>\n",
       "      <td>mainstream</td>\n",
       "      <td>ABC News Politics</td>\n",
       "      <td>https://www.facebook.com/ABCNewsPolitics/posts...</td>\n",
       "      <td>2016-09-19</td>\n",
       "      <td>link</td>\n",
       "      <td>mostly true</td>\n",
       "      <td>NaN</td>\n",
       "      <td>34.0</td>\n",
       "      <td>63.0</td>\n",
       "      <td>27.0</td>\n",
       "    </tr>\n",
       "    <tr>\n",
       "      <th>3</th>\n",
       "      <td>184096565021911</td>\n",
       "      <td>1035322636565962</td>\n",
       "      <td>mainstream</td>\n",
       "      <td>ABC News Politics</td>\n",
       "      <td>https://www.facebook.com/ABCNewsPolitics/posts...</td>\n",
       "      <td>2016-09-19</td>\n",
       "      <td>link</td>\n",
       "      <td>mostly true</td>\n",
       "      <td>NaN</td>\n",
       "      <td>35.0</td>\n",
       "      <td>170.0</td>\n",
       "      <td>86.0</td>\n",
       "    </tr>\n",
       "    <tr>\n",
       "      <th>4</th>\n",
       "      <td>184096565021911</td>\n",
       "      <td>1035352946562931</td>\n",
       "      <td>mainstream</td>\n",
       "      <td>ABC News Politics</td>\n",
       "      <td>https://www.facebook.com/ABCNewsPolitics/posts...</td>\n",
       "      <td>2016-09-19</td>\n",
       "      <td>video</td>\n",
       "      <td>mostly true</td>\n",
       "      <td>NaN</td>\n",
       "      <td>568.0</td>\n",
       "      <td>3188.0</td>\n",
       "      <td>2815.0</td>\n",
       "    </tr>\n",
       "  </tbody>\n",
       "</table>\n",
       "</div>"
      ],
      "text/plain": [
       "        account_id           post_id    Category               Page  \\\n",
       "0  184096565021911  1035057923259100  mainstream  ABC News Politics   \n",
       "1  184096565021911  1035269309904628  mainstream  ABC News Politics   \n",
       "2  184096565021911  1035305953234297  mainstream  ABC News Politics   \n",
       "3  184096565021911  1035322636565962  mainstream  ABC News Politics   \n",
       "4  184096565021911  1035352946562931  mainstream  ABC News Politics   \n",
       "\n",
       "                                            Post URL Date Published Post Type  \\\n",
       "0  https://www.facebook.com/ABCNewsPolitics/posts...     2016-09-19     video   \n",
       "1  https://www.facebook.com/ABCNewsPolitics/posts...     2016-09-19      link   \n",
       "2  https://www.facebook.com/ABCNewsPolitics/posts...     2016-09-19      link   \n",
       "3  https://www.facebook.com/ABCNewsPolitics/posts...     2016-09-19      link   \n",
       "4  https://www.facebook.com/ABCNewsPolitics/posts...     2016-09-19     video   \n",
       "\n",
       "               Rating Debate  share_count  reaction_count  comment_count  \n",
       "0  no factual content    NaN          NaN           146.0           15.0  \n",
       "1         mostly true    NaN          1.0            33.0           34.0  \n",
       "2         mostly true    NaN         34.0            63.0           27.0  \n",
       "3         mostly true    NaN         35.0           170.0           86.0  \n",
       "4         mostly true    NaN        568.0          3188.0         2815.0  "
      ]
     },
     "execution_count": 264,
     "metadata": {},
     "output_type": "execute_result"
    }
   ],
   "source": [
    "df = pd.read_csv(\"Données/facebook-fact-check.csv\")\n",
    "df.head()"
   ]
  },
  {
   "cell_type": "markdown",
   "metadata": {},
   "source": [
    "Les features de cette base de données sont comparable à la première car le nombre de retweet, de favoris peuvent être comparés au nombre de partages, de réactions, de commentaires. Nous avons aussi la source et la date.\n",
    "\n",
    "Les bases diffèrent cependant par certaines informations apportées uniquement par la première (nombre de followers, date de création du compte...) et d'autres par la seconde (catégorie au sens de parti pris politique, type de post...)"
   ]
  },
  {
   "cell_type": "markdown",
   "metadata": {},
   "source": [
    "***Visualisation élémentaire de la base de données***\n"
   ]
  },
  {
   "cell_type": "markdown",
   "metadata": {},
   "source": [
    "La spécificité de ce dataset et qu'il ne distingue pas de façon binaire la véracité d'un post : il crée une forme\n",
    "de classification, ou échelle de véracité ('mostly true','no factual content' etc.). \n",
    "\n",
    "Il peut être intéressant de recoder cette échelle numériquement et de regarder la répartition de la précision des informations en fonction de certaines features."
   ]
  },
  {
   "cell_type": "code",
   "execution_count": 265,
   "metadata": {},
   "outputs": [],
   "source": [
    "df1 = df.copy()\n",
    "\n",
    "df1.loc[df1.Rating == 'no factual content', 'Rating'] = 0.2\n",
    "df1.loc[df1.Rating == 'mixture of true and false', 'Rating'] = 0.5\n",
    "df1.loc[df1.Rating == 'mostly true', 'Rating'] = 1\n",
    "df1.loc[df1.Rating == 'mostly false', 'Rating'] = 0"
   ]
  },
  {
   "cell_type": "markdown",
   "metadata": {},
   "source": [
    "On peut par exemple dans un premier temps regarder comment se répartissent les articles selon leur nombre de partages et de réactions."
   ]
  },
  {
   "cell_type": "code",
   "execution_count": 266,
   "metadata": {},
   "outputs": [
    {
     "data": {
      "image/png": "[encoded data removed]",
      "text/plain": [
       "<Figure size 432x288 with 2 Axes>"
      ]
     },
     "metadata": {
      "needs_background": "light"
     },
     "output_type": "display_data"
    }
   ],
   "source": [
    "import matplotlib.pyplot as plt \n",
    "df1['Rating']\n",
    "\n",
    "df1.plot.scatter(x=\"reaction_count\", y=\"share_count\", alpha=0.2, c = df1.Rating, colormap='viridis', colorbar=True)\n",
    "\n",
    "\n",
    "plt.title(\"Répartitions des posts selon le nombre de partages et de réactions\")\n",
    "plt.show()"
   ]
  },
  {
   "cell_type": "markdown",
   "metadata": {},
   "source": [
    "Comme précédemment, avec notre base de données de tweets, cette étude graphique ne permet de mettre en avant aucun motif spécifique caractéristique de la véracité d'un propos à partir de deux variables seulement. \n",
    "\n",
    "Comprendre l'articulation complexe entre les valeurs prises par ces dernières et la véracité d'un article nécessite donc a nouveau l'utilisation de modèles bien plus élaborés. "
   ]
  },
  {
   "cell_type": "markdown",
   "metadata": {},
   "source": [
    "### I. 2. Recodage de certaines features :"
   ]
  },
  {
   "cell_type": "markdown",
   "metadata": {},
   "source": [
    "***Features non numériques***"
   ]
  },
  {
   "cell_type": "markdown",
   "metadata": {},
   "source": [
    "Plus tôt, nous n'avions pas conservé d'attribut de texte  dans notre base de données de tweets finale.\n",
    "Les features contenant du texte ne peuvent pas être gardées intactes, il convient de convertir ces attributs de texte en nombres.\n",
    "Scikit-Learn fournit un transformateur qui créera un attribut binaire par catégorie. Ici par exemple pour l'attribut \n",
    "'Category', cela renverra une matrice dont le nombre de colonnes est égal au nombre de catégories, et qui contient un 1 dans la colonne \"vidéo\" si il s'agit d'une vidéo, et des 0 partout ailleurs (et pareil si il s'agit d'un lien ou d'une photo)."
   ]
  },
  {
   "cell_type": "code",
   "execution_count": 267,
   "metadata": {},
   "outputs": [],
   "source": [
    "from sklearn.preprocessing import LabelBinarizer\n",
    "\n",
    "encoder = LabelBinarizer()\n",
    "df['Category'] = encoder.fit_transform(df['Category'])\n",
    "\n",
    "\n",
    "df['Post Type'] = encoder.fit_transform(df['Post Type'])\n",
    "\n",
    "\n",
    "df['Page'] = encoder.fit_transform(df['Page'])\n",
    "\n",
    "\n"
   ]
  },
  {
   "cell_type": "markdown",
   "metadata": {},
   "source": [
    "On recode ensuite la variable 'Debate' en remplaçant les Nan Values par des 0."
   ]
  },
  {
   "cell_type": "code",
   "execution_count": 268,
   "metadata": {},
   "outputs": [],
   "source": [
    "df.loc[df.Debate != 'yes', 'Debate'] = 0\n",
    "df.loc[df.Debate == 'yes', 'Debate'] = 1"
   ]
  },
  {
   "cell_type": "markdown",
   "metadata": {},
   "source": [
    "***Variables manquantes***"
   ]
  },
  {
   "cell_type": "markdown",
   "metadata": {},
   "source": [
    "On efface enfin toutes les lignes contenant encore des Nan values."
   ]
  },
  {
   "cell_type": "code",
   "execution_count": 269,
   "metadata": {},
   "outputs": [
    {
     "name": "stdout",
     "output_type": "stream",
     "text": [
      "0\n"
     ]
    }
   ],
   "source": [
    "df = df.dropna()\n",
    "print(df.isnull().sum().sum()) #on vérifie qu'on a bien enlevé toutes les lignes avec des Nan Values"
   ]
  },
  {
   "cell_type": "markdown",
   "metadata": {},
   "source": [
    "***Séparation en base d'apprentissage et base de test :***\n",
    "\n",
    "On sépare la base en 20% de base test et 80% de train."
   ]
  },
  {
   "cell_type": "code",
   "execution_count": 270,
   "metadata": {},
   "outputs": [
    {
     "name": "stdout",
     "output_type": "stream",
     "text": [
      "1769 train + 443 test\n"
     ]
    }
   ],
   "source": [
    "import numpy as np\n",
    "from sklearn.model_selection import train_test_split\n",
    "\n",
    "\n",
    "train_set, test_set = train_test_split(df, test_size=0.2, random_state=10, stratify = df['Rating'])\n",
    "print(len(train_set), \"train +\", len(test_set), \"test\")"
   ]
  },
  {
   "cell_type": "markdown",
   "metadata": {},
   "source": [
    "On ne travaille désormais que sur la base de train."
   ]
  },
  {
   "cell_type": "markdown",
   "metadata": {},
   "source": [
    "***Normalisation des features numériques***"
   ]
  },
  {
   "cell_type": "code",
   "execution_count": 271,
   "metadata": {},
   "outputs": [
    {
     "data": {
      "text/html": [
       "<div>\n",
       "<style scoped>\n",
       "    .dataframe tbody tr th:only-of-type {\n",
       "        vertical-align: middle;\n",
       "    }\n",
       "\n",
       "    .dataframe tbody tr th {\n",
       "        vertical-align: top;\n",
       "    }\n",
       "\n",
       "    .dataframe thead th {\n",
       "        text-align: right;\n",
       "    }\n",
       "</style>\n",
       "<table border=\"1\" class=\"dataframe\">\n",
       "  <thead>\n",
       "    <tr style=\"text-align: right;\">\n",
       "      <th></th>\n",
       "      <th>share_count</th>\n",
       "      <th>reaction_count</th>\n",
       "      <th>comment_count</th>\n",
       "    </tr>\n",
       "  </thead>\n",
       "  <tbody>\n",
       "    <tr>\n",
       "      <th>1037</th>\n",
       "      <td>-0.189346</td>\n",
       "      <td>-0.304167</td>\n",
       "      <td>-0.333039</td>\n",
       "    </tr>\n",
       "    <tr>\n",
       "      <th>757</th>\n",
       "      <td>-0.192398</td>\n",
       "      <td>-0.313992</td>\n",
       "      <td>-0.336686</td>\n",
       "    </tr>\n",
       "    <tr>\n",
       "      <th>1909</th>\n",
       "      <td>-0.070585</td>\n",
       "      <td>-0.095277</td>\n",
       "      <td>0.261483</td>\n",
       "    </tr>\n",
       "    <tr>\n",
       "      <th>1071</th>\n",
       "      <td>-0.021808</td>\n",
       "      <td>-0.106739</td>\n",
       "      <td>0.713757</td>\n",
       "    </tr>\n",
       "    <tr>\n",
       "      <th>1478</th>\n",
       "      <td>-0.192088</td>\n",
       "      <td>-0.309489</td>\n",
       "      <td>-0.306778</td>\n",
       "    </tr>\n",
       "    <tr>\n",
       "      <th>...</th>\n",
       "      <td>...</td>\n",
       "      <td>...</td>\n",
       "      <td>...</td>\n",
       "    </tr>\n",
       "    <tr>\n",
       "      <th>524</th>\n",
       "      <td>-0.160690</td>\n",
       "      <td>-0.105160</td>\n",
       "      <td>-0.202463</td>\n",
       "    </tr>\n",
       "    <tr>\n",
       "      <th>568</th>\n",
       "      <td>-0.191726</td>\n",
       "      <td>-0.309548</td>\n",
       "      <td>-0.303860</td>\n",
       "    </tr>\n",
       "    <tr>\n",
       "      <th>1131</th>\n",
       "      <td>-0.120448</td>\n",
       "      <td>-0.070248</td>\n",
       "      <td>-0.278329</td>\n",
       "    </tr>\n",
       "    <tr>\n",
       "      <th>1869</th>\n",
       "      <td>-0.188053</td>\n",
       "      <td>-0.243348</td>\n",
       "      <td>-0.203193</td>\n",
       "    </tr>\n",
       "    <tr>\n",
       "      <th>1040</th>\n",
       "      <td>0.495495</td>\n",
       "      <td>0.239988</td>\n",
       "      <td>0.340995</td>\n",
       "    </tr>\n",
       "  </tbody>\n",
       "</table>\n",
       "<p>1769 rows × 3 columns</p>\n",
       "</div>"
      ],
      "text/plain": [
       "      share_count  reaction_count  comment_count\n",
       "1037    -0.189346       -0.304167      -0.333039\n",
       "757     -0.192398       -0.313992      -0.336686\n",
       "1909    -0.070585       -0.095277       0.261483\n",
       "1071    -0.021808       -0.106739       0.713757\n",
       "1478    -0.192088       -0.309489      -0.306778\n",
       "...           ...             ...            ...\n",
       "524     -0.160690       -0.105160      -0.202463\n",
       "568     -0.191726       -0.309548      -0.303860\n",
       "1131    -0.120448       -0.070248      -0.278329\n",
       "1869    -0.188053       -0.243348      -0.203193\n",
       "1040     0.495495        0.239988       0.340995\n",
       "\n",
       "[1769 rows x 3 columns]"
      ]
     },
     "execution_count": 271,
     "metadata": {},
     "output_type": "execute_result"
    }
   ],
   "source": [
    "df2 = train_set.copy()\n",
    "\n",
    "# On sélectionne les features numériques seulement :\n",
    "df2_num = df2[[\"share_count\", \"reaction_count\", \"comment_count\"]]\n",
    "\n",
    "normalized_df2= (df2_num - df2_num.mean())/df2_num.std()\n",
    "\n",
    "normalized_df2\n"
   ]
  },
  {
   "cell_type": "markdown",
   "metadata": {},
   "source": [
    "### I. 3. Préparation de la base de donnée "
   ]
  },
  {
   "cell_type": "code",
   "execution_count": 333,
   "metadata": {},
   "outputs": [
    {
     "name": "stdout",
     "output_type": "stream",
     "text": [
      "0\n"
     ]
    },
    {
     "data": {
      "text/html": [
       "<div>\n",
       "<style scoped>\n",
       "    .dataframe tbody tr th:only-of-type {\n",
       "        vertical-align: middle;\n",
       "    }\n",
       "\n",
       "    .dataframe tbody tr th {\n",
       "        vertical-align: top;\n",
       "    }\n",
       "\n",
       "    .dataframe thead th {\n",
       "        text-align: right;\n",
       "    }\n",
       "</style>\n",
       "<table border=\"1\" class=\"dataframe\">\n",
       "  <thead>\n",
       "    <tr style=\"text-align: right;\">\n",
       "      <th></th>\n",
       "      <th>Category</th>\n",
       "      <th>Post Type</th>\n",
       "      <th>Rating</th>\n",
       "      <th>Debate</th>\n",
       "      <th>Page</th>\n",
       "      <th>share_count</th>\n",
       "      <th>reaction_count</th>\n",
       "      <th>comment_count</th>\n",
       "    </tr>\n",
       "  </thead>\n",
       "  <tbody>\n",
       "    <tr>\n",
       "      <th>1037</th>\n",
       "      <td>0</td>\n",
       "      <td>1</td>\n",
       "      <td>mostly true</td>\n",
       "      <td>0</td>\n",
       "      <td>0</td>\n",
       "      <td>-0.189346</td>\n",
       "      <td>-0.304167</td>\n",
       "      <td>-0.333039</td>\n",
       "    </tr>\n",
       "    <tr>\n",
       "      <th>757</th>\n",
       "      <td>0</td>\n",
       "      <td>1</td>\n",
       "      <td>no factual content</td>\n",
       "      <td>0</td>\n",
       "      <td>0</td>\n",
       "      <td>-0.192398</td>\n",
       "      <td>-0.313992</td>\n",
       "      <td>-0.336686</td>\n",
       "    </tr>\n",
       "    <tr>\n",
       "      <th>1909</th>\n",
       "      <td>0</td>\n",
       "      <td>1</td>\n",
       "      <td>mixture of true and false</td>\n",
       "      <td>0</td>\n",
       "      <td>0</td>\n",
       "      <td>-0.070585</td>\n",
       "      <td>-0.095277</td>\n",
       "      <td>0.261483</td>\n",
       "    </tr>\n",
       "    <tr>\n",
       "      <th>1071</th>\n",
       "      <td>0</td>\n",
       "      <td>1</td>\n",
       "      <td>mostly true</td>\n",
       "      <td>0</td>\n",
       "      <td>0</td>\n",
       "      <td>-0.021808</td>\n",
       "      <td>-0.106739</td>\n",
       "      <td>0.713757</td>\n",
       "    </tr>\n",
       "    <tr>\n",
       "      <th>1478</th>\n",
       "      <td>0</td>\n",
       "      <td>1</td>\n",
       "      <td>mostly true</td>\n",
       "      <td>0</td>\n",
       "      <td>0</td>\n",
       "      <td>-0.192088</td>\n",
       "      <td>-0.309489</td>\n",
       "      <td>-0.306778</td>\n",
       "    </tr>\n",
       "    <tr>\n",
       "      <th>...</th>\n",
       "      <td>...</td>\n",
       "      <td>...</td>\n",
       "      <td>...</td>\n",
       "      <td>...</td>\n",
       "      <td>...</td>\n",
       "      <td>...</td>\n",
       "      <td>...</td>\n",
       "      <td>...</td>\n",
       "    </tr>\n",
       "    <tr>\n",
       "      <th>524</th>\n",
       "      <td>0</td>\n",
       "      <td>1</td>\n",
       "      <td>mostly true</td>\n",
       "      <td>0</td>\n",
       "      <td>0</td>\n",
       "      <td>-0.160690</td>\n",
       "      <td>-0.105160</td>\n",
       "      <td>-0.202463</td>\n",
       "    </tr>\n",
       "    <tr>\n",
       "      <th>568</th>\n",
       "      <td>0</td>\n",
       "      <td>1</td>\n",
       "      <td>mostly true</td>\n",
       "      <td>0</td>\n",
       "      <td>0</td>\n",
       "      <td>-0.191726</td>\n",
       "      <td>-0.309548</td>\n",
       "      <td>-0.303860</td>\n",
       "    </tr>\n",
       "    <tr>\n",
       "      <th>1131</th>\n",
       "      <td>0</td>\n",
       "      <td>1</td>\n",
       "      <td>mostly true</td>\n",
       "      <td>1</td>\n",
       "      <td>0</td>\n",
       "      <td>-0.120448</td>\n",
       "      <td>-0.070248</td>\n",
       "      <td>-0.278329</td>\n",
       "    </tr>\n",
       "    <tr>\n",
       "      <th>1869</th>\n",
       "      <td>0</td>\n",
       "      <td>1</td>\n",
       "      <td>mostly true</td>\n",
       "      <td>0</td>\n",
       "      <td>0</td>\n",
       "      <td>-0.188053</td>\n",
       "      <td>-0.243348</td>\n",
       "      <td>-0.203193</td>\n",
       "    </tr>\n",
       "    <tr>\n",
       "      <th>1040</th>\n",
       "      <td>0</td>\n",
       "      <td>1</td>\n",
       "      <td>mostly false</td>\n",
       "      <td>0</td>\n",
       "      <td>0</td>\n",
       "      <td>0.495495</td>\n",
       "      <td>0.239988</td>\n",
       "      <td>0.340995</td>\n",
       "    </tr>\n",
       "  </tbody>\n",
       "</table>\n",
       "<p>1769 rows × 8 columns</p>\n",
       "</div>"
      ],
      "text/plain": [
       "      Category  Post Type                     Rating Debate  Page  \\\n",
       "1037         0          1                mostly true      0     0   \n",
       "757          0          1         no factual content      0     0   \n",
       "1909         0          1  mixture of true and false      0     0   \n",
       "1071         0          1                mostly true      0     0   \n",
       "1478         0          1                mostly true      0     0   \n",
       "...        ...        ...                        ...    ...   ...   \n",
       "524          0          1                mostly true      0     0   \n",
       "568          0          1                mostly true      0     0   \n",
       "1131         0          1                mostly true      1     0   \n",
       "1869         0          1                mostly true      0     0   \n",
       "1040         0          1               mostly false      0     0   \n",
       "\n",
       "      share_count  reaction_count  comment_count  \n",
       "1037    -0.189346       -0.304167      -0.333039  \n",
       "757     -0.192398       -0.313992      -0.336686  \n",
       "1909    -0.070585       -0.095277       0.261483  \n",
       "1071    -0.021808       -0.106739       0.713757  \n",
       "1478    -0.192088       -0.309489      -0.306778  \n",
       "...           ...             ...            ...  \n",
       "524     -0.160690       -0.105160      -0.202463  \n",
       "568     -0.191726       -0.309548      -0.303860  \n",
       "1131    -0.120448       -0.070248      -0.278329  \n",
       "1869    -0.188053       -0.243348      -0.203193  \n",
       "1040     0.495495        0.239988       0.340995  \n",
       "\n",
       "[1769 rows x 8 columns]"
      ]
     },
     "execution_count": 333,
     "metadata": {},
     "output_type": "execute_result"
    }
   ],
   "source": [
    "Train1 = train_set[['Category', 'Post Type', 'Rating', 'Debate', 'Page']]\n",
    "Train2 = normalized_df2\n",
    "\n",
    "Train = pd.concat([Train1, Train2], axis = 1)\n",
    "\n",
    "Test = test_set.copy()\n",
    "Test = Test[['Category', 'Post Type', 'Rating', 'Debate', 'Page', 'share_count', 'reaction_count', 'comment_count']]\n",
    "\n",
    "\n",
    "Train = Train.dropna()\n",
    "print(Train.isnull().sum().sum()) # on vérifie qu'on a bien enlever toutes les lignes avec des Nan Values\n",
    "\n",
    "Train"
   ]
  },
  {
   "cell_type": "code",
   "execution_count": 334,
   "metadata": {},
   "outputs": [],
   "source": [
    "X_train = Train.drop(['Rating'], axis = 1).to_numpy()\n",
    "Y_train = Train[['Rating']].to_numpy()\n",
    "\n",
    "\n",
    "X_test = Test.drop(['Rating'], axis = 1).to_numpy()\n",
    "Y_test = Test[[\"Rating\"]].to_numpy()\n",
    "\n",
    "\n",
    "Y_test = Y_test.reshape(Y_test.shape[0])\n",
    "\n",
    "Y_train = Y_train.reshape(Y_train.shape[0])\n"
   ]
  },
  {
   "cell_type": "markdown",
   "metadata": {},
   "source": [
    "## II. Implémentation des modèles"
   ]
  },
  {
   "cell_type": "markdown",
   "metadata": {},
   "source": [
    "### II. 1.  SGDC Classifier"
   ]
  },
  {
   "cell_type": "code",
   "execution_count": 335,
   "metadata": {},
   "outputs": [],
   "source": [
    "from sklearn.linear_model import SGDClassifier\n",
    "\n",
    "sgd_twt = SGDClassifier(loss = 'log')\n",
    "sgd_twt = sgd_twt.fit(X_train,Y_train)\n",
    "\n",
    "predict_train_sgd = sgd_twt.predict(X_train)\n",
    "predict_test_sgd = sgd_twt.predict(X_test)"
   ]
  },
  {
   "cell_type": "markdown",
   "metadata": {},
   "source": [
    "***Résultats pour la base train :***"
   ]
  },
  {
   "cell_type": "code",
   "execution_count": 336,
   "metadata": {},
   "outputs": [
    {
     "name": "stdout",
     "output_type": "stream",
     "text": [
      "[[   4    0  184    5]\n",
      " [   0    0   75    7]\n",
      " [   6    0 1260   40]\n",
      " [   0    0  119   69]]\n",
      "précision : 0.7535330695308083\n",
      "erreur : 0.24646693046919166\n"
     ]
    }
   ],
   "source": [
    "print(confusion_matrix(Y_train, predict_train_sgd))\n",
    "print('précision :', accuracy_score(Y_train, predict_train_sgd))\n",
    "erreur = 1 - accuracy_score(Y_train, predict_train_sgd)\n",
    "print('erreur :', erreur)"
   ]
  },
  {
   "cell_type": "markdown",
   "metadata": {},
   "source": [
    "***Résultats pour la base test :***"
   ]
  },
  {
   "cell_type": "code",
   "execution_count": 373,
   "metadata": {},
   "outputs": [
    {
     "name": "stdout",
     "output_type": "stream",
     "text": [
      "[[  1   0   1  46]\n",
      " [  0   0   1  20]\n",
      " [ 35  58   3 231]\n",
      " [  3   2   0  42]]\n",
      "précision : 0.1038374717832957\n",
      "erreur : 0.8961625282167043\n"
     ]
    }
   ],
   "source": [
    "print(confusion_matrix(Y_test, predict_test_sgd))\n",
    "print('précision :', accuracy_score(Y_test, predict_test_sgd))\n",
    "\n",
    "erreur = 1 - accuracy_score(Y_test, predict_test_sgd)\n",
    "print('erreur :', erreur)\n"
   ]
  },
  {
   "cell_type": "code",
   "execution_count": 318,
   "metadata": {},
   "outputs": [
    {
     "name": "stdout",
     "output_type": "stream",
     "text": [
      "prediction_test : ['mostly true' 'mostly true' 'mostly true' 'mostly true' 'mostly true'\n",
      " 'mostly true' 'mostly true' 'mostly true' 'mostly true' 'mostly true'\n",
      " 'mostly true' 'mostly true' 'mostly true' 'mostly true' 'mostly true'\n",
      " 'mostly true' 'mostly false' 'mostly true' 'mostly true' 'mostly true'\n",
      " 'mostly true' 'mostly true' 'mostly true' 'mostly true' 'mostly true'\n",
      " 'mostly true' 'mostly true' 'mostly true' 'mostly true' 'mostly true'\n",
      " 'mostly true' 'mostly true' 'mostly true' 'mostly true' 'mostly true'\n",
      " 'mostly true' 'mostly true' 'mostly true' 'mostly true' 'mostly true'\n",
      " 'mostly true' 'mostly true' 'mostly true' 'mostly true' 'mostly true'\n",
      " 'mostly false' 'mostly true' 'mostly true' 'mostly true' 'mostly true'\n",
      " 'mostly true' 'mostly true' 'mostly true' 'mostly true' 'mostly true'\n",
      " 'mostly true' 'mostly true' 'mostly true' 'mostly true' 'mostly false'\n",
      " 'mostly true' 'mostly true' 'mostly true' 'no factual content'\n",
      " 'mostly true' 'mostly true' 'mostly true' 'mostly true' 'mostly true'\n",
      " 'mostly true' 'mostly true' 'mostly true' 'mostly true' 'mostly true'\n",
      " 'mostly true' 'mostly true' 'mostly false' 'mostly true' 'mostly true'\n",
      " 'mostly true' 'mostly true' 'mostly true' 'mostly true' 'mostly true'\n",
      " 'mostly true' 'mostly true' 'mostly true' 'mostly true' 'mostly true'\n",
      " 'mostly true' 'mostly true' 'mostly true' 'mostly true' 'mostly true'\n",
      " 'mostly true' 'mostly true' 'mostly true' 'no factual content'\n",
      " 'mostly true' 'mostly true' 'mostly true' 'mostly true' 'mostly true'\n",
      " 'mostly true' 'mostly true' 'mostly false' 'mostly true' 'mostly true'\n",
      " 'mostly true' 'mostly true' 'mostly true' 'mostly true' 'mostly true'\n",
      " 'mostly true' 'mostly true' 'mostly true' 'mostly true' 'mostly true'\n",
      " 'mostly true' 'mostly true' 'mostly true' 'mostly true' 'mostly true'\n",
      " 'mostly true' 'mostly true' 'mostly true' 'mostly true' 'mostly true'\n",
      " 'mostly true' 'mostly true' 'mostly true' 'mostly true' 'mostly true'\n",
      " 'no factual content' 'mostly true' 'mostly true' 'mostly true'\n",
      " 'mostly true' 'mostly true' 'mostly true' 'mostly true' 'mostly true'\n",
      " 'mostly true' 'mostly true' 'mostly true' 'no factual content'\n",
      " 'mostly true' 'mostly true' 'mixture of true and false' 'mostly true'\n",
      " 'mostly true' 'no factual content' 'mostly true' 'mostly true'\n",
      " 'mostly true' 'mostly true' 'mostly true' 'mostly true' 'mostly true'\n",
      " 'mostly true' 'mostly true' 'mostly true' 'mostly true'\n",
      " 'mixture of true and false' 'mostly true' 'mostly true' 'mostly true'\n",
      " 'no factual content' 'mostly true' 'mostly true' 'mostly true'\n",
      " 'mostly true' 'mostly true' 'mostly true' 'mostly true' 'mostly true'\n",
      " 'mostly true' 'mostly true' 'mostly true' 'mostly true'\n",
      " 'mixture of true and false' 'mostly true' 'mostly true'\n",
      " 'no factual content' 'mostly true' 'mostly true' 'mostly true'\n",
      " 'mostly true' 'mostly true' 'mostly true' 'mostly true' 'mostly true'\n",
      " 'mostly true' 'mostly true' 'mostly true' 'mostly true'\n",
      " 'no factual content' 'mostly true' 'mostly true' 'mostly true'\n",
      " 'mostly true' 'mostly true' 'mostly true' 'mostly true' 'mostly true'\n",
      " 'no factual content' 'mostly true' 'mostly true' 'mostly true'\n",
      " 'mostly true' 'mostly true' 'mostly true' 'mostly true' 'mostly true'\n",
      " 'mostly true' 'mostly true' 'mostly true' 'mostly true' 'mostly true'\n",
      " 'mostly true' 'mostly true' 'mostly true' 'mostly true' 'mostly true'\n",
      " 'mostly true' 'mostly true' 'mostly true' 'mostly true' 'mostly true'\n",
      " 'mostly true' 'mostly true' 'mostly true' 'mostly true' 'mostly true'\n",
      " 'mostly true' 'no factual content' 'mostly true' 'mostly true'\n",
      " 'mostly true' 'mostly true' 'mostly true' 'mixture of true and false'\n",
      " 'mostly true' 'mostly true' 'mostly true' 'mostly true' 'mostly true'\n",
      " 'mostly true' 'mostly true' 'mostly true' 'mostly true' 'mostly true'\n",
      " 'mostly true' 'mostly true' 'mostly true' 'mostly true' 'mostly true'\n",
      " 'mostly true' 'mostly true' 'mostly true' 'mostly true' 'mostly true'\n",
      " 'mostly true' 'mostly true' 'mostly true' 'mostly true' 'mostly true'\n",
      " 'mostly true' 'mostly true' 'mostly true' 'mostly true' 'mostly true'\n",
      " 'mostly true' 'mostly true' 'mostly true' 'mostly true' 'mostly true'\n",
      " 'mostly true' 'mostly true' 'mostly true' 'mostly true' 'mostly true'\n",
      " 'mostly true' 'mostly true' 'mostly true' 'mostly true' 'mostly true'\n",
      " 'mostly true' 'mostly true' 'mostly true' 'mostly true' 'mostly true'\n",
      " 'mostly true' 'mostly true' 'mostly true' 'mostly true' 'mostly true'\n",
      " 'mostly true' 'mostly true' 'mostly true' 'mostly true' 'mostly true'\n",
      " 'mostly true' 'mostly true' 'mostly true' 'mostly true' 'mostly true'\n",
      " 'mostly true' 'mostly true' 'mostly true' 'mostly true' 'mostly true'\n",
      " 'mostly true' 'no factual content' 'mostly true' 'no factual content'\n",
      " 'mostly true' 'mostly true' 'mostly true' 'mostly true' 'mostly true'\n",
      " 'mostly true' 'mostly true' 'mostly true' 'mostly true' 'mostly true'\n",
      " 'mostly true' 'mostly true' 'mostly true' 'mostly true' 'mostly true'\n",
      " 'mostly true' 'no factual content' 'mostly true' 'mostly true'\n",
      " 'mostly true' 'mostly true' 'mostly true' 'mostly true' 'mostly true'\n",
      " 'mostly true' 'mostly true' 'mostly true' 'mostly true' 'mostly true'\n",
      " 'mostly true' 'mostly true' 'mostly true' 'mostly true' 'mostly true'\n",
      " 'mostly true' 'mostly true' 'no factual content' 'mostly true'\n",
      " 'mostly true' 'mostly true' 'mostly true' 'mostly true'\n",
      " 'no factual content' 'mostly true' 'mostly true' 'mostly true'\n",
      " 'mostly true' 'mostly true' 'mostly true' 'mostly true' 'mostly true'\n",
      " 'mostly true' 'mostly true' 'mostly true' 'mostly true' 'mostly true'\n",
      " 'mostly true' 'mostly true' 'mostly true' 'mostly true' 'mostly true'\n",
      " 'mostly true' 'mostly true' 'mostly true' 'mostly true' 'mostly true'\n",
      " 'mostly true' 'mostly true' 'mostly true' 'mostly true' 'mostly true'\n",
      " 'mostly true' 'mostly true' 'mostly true' 'mostly true' 'mostly true'\n",
      " 'mostly true' 'mostly true' 'mostly true' 'mostly true' 'mostly true'\n",
      " 'mostly true' 'mostly true' 'mostly true' 'mostly true' 'mostly true'\n",
      " 'mostly true' 'mostly true' 'mostly true' 'mostly true'\n",
      " 'no factual content' 'no factual content' 'mostly true' 'mostly true'\n",
      " 'mostly true' 'mostly true' 'mostly true' 'mixture of true and false'\n",
      " 'mostly true' 'mostly true' 'mostly true' 'mostly true' 'mostly true'\n",
      " 'mostly true' 'mostly true' 'mostly true' 'mostly true' 'mostly true'\n",
      " 'mostly true' 'mostly true' 'mostly true' 'mostly true' 'mostly true'\n",
      " 'mostly true' 'mostly true' 'mostly true' 'mostly true'\n",
      " 'no factual content' 'mostly true' 'mostly true' 'mostly true'\n",
      " 'mostly true' 'mostly true' 'mostly false' 'mostly true' 'mostly true'\n",
      " 'mostly true' 'mostly true' 'mostly true' 'mostly true' 'mostly true'\n",
      " 'mostly true' 'mostly true' 'mostly true' 'mostly true' 'mostly true'\n",
      " 'mostly true' 'mostly true' 'mostly true' 'mostly true' 'mostly true'\n",
      " 'mostly true' 'mostly true' 'mostly true' 'no factual content'\n",
      " 'mostly true' 'no factual content' 'mostly true' 'mostly true'\n",
      " 'mostly true' 'mostly true' 'mostly true' 'mostly true' 'mostly true'\n",
      " 'mostly true' 'mostly true' 'mostly true' 'mostly true' 'mostly true'\n",
      " 'no factual content' 'no factual content' 'mostly true' 'mostly true'\n",
      " 'mostly true' 'mostly true' 'mostly true' 'mostly true' 'mostly true'\n",
      " 'no factual content' 'mostly true' 'mostly true' 'mostly true'\n",
      " 'mostly true' 'mostly false' 'mostly true' 'mostly true' 'mostly true'\n",
      " 'mostly true' 'mostly true' 'mostly true' 'mostly true' 'mostly true'\n",
      " 'mostly true' 'mostly true' 'mostly true' 'mostly true' 'mostly true'\n",
      " 'mostly true' 'mostly true' 'mostly true' 'mostly true' 'mostly true'\n",
      " 'mostly true' 'mostly true' 'mostly true' 'mostly true' 'mostly true'\n",
      " 'mostly true' 'mostly true' 'mostly true' 'mostly true' 'mostly true'\n",
      " 'mostly true' 'no factual content' 'mostly true' 'mostly true'\n",
      " 'mostly true' 'mostly true' 'mostly true' 'mostly true' 'mostly true'\n",
      " 'mostly true' 'mostly true' 'mostly true' 'mostly true' 'mostly true'\n",
      " 'mostly true' 'mostly true' 'mostly true' 'mostly true' 'mostly true'\n",
      " 'mostly true' 'mostly true' 'mostly true' 'mostly true' 'mostly true'\n",
      " 'mostly true' 'mostly true' 'mostly true' 'mostly true' 'mostly true'\n",
      " 'mostly true' 'mostly true' 'mostly true' 'mostly true' 'mostly true'\n",
      " 'mostly true' 'mostly true' 'mostly true' 'mostly true' 'mostly true'\n",
      " 'mostly true' 'mostly true' 'mostly true' 'mostly true' 'mostly true'\n",
      " 'mostly true' 'mostly true' 'mostly true' 'mostly true' 'mostly true'\n",
      " 'mostly true' 'no factual content' 'mostly true' 'mostly true'\n",
      " 'mostly true' 'mostly true' 'mostly true' 'mostly true' 'mostly true'\n",
      " 'mostly true' 'no factual content' 'mostly true' 'mostly true'\n",
      " 'mostly true' 'mostly true' 'mostly true' 'mostly true' 'mostly true'\n",
      " 'mostly true' 'mostly true' 'mostly true' 'mostly true' 'mostly true'\n",
      " 'mostly true' 'mostly true' 'mostly true' 'mostly true' 'mostly true'\n",
      " 'mostly true' 'mostly true' 'mostly true' 'mostly true' 'mostly true'\n",
      " 'no factual content' 'mostly true' 'mostly true' 'mostly true'\n",
      " 'mostly true' 'mostly true' 'mostly true' 'mostly true' 'mostly true'\n",
      " 'mostly true' 'mostly true' 'mostly true' 'mostly true' 'mostly true'\n",
      " 'no factual content' 'mostly true' 'mostly true' 'mostly true'\n",
      " 'mostly true' 'mostly true' 'mostly true' 'mostly true' 'mostly true'\n",
      " 'mostly true' 'mostly true' 'mostly true' 'mostly true' 'mostly true'\n",
      " 'mostly true' 'mostly true' 'mostly true' 'mostly true' 'mostly true'\n",
      " 'mostly true' 'mostly true' 'mostly true' 'mostly true' 'mostly true'\n",
      " 'mostly true' 'mostly true' 'mostly true' 'mostly true' 'mostly true'\n",
      " 'mostly true' 'mostly true' 'mostly true' 'mostly true' 'mostly true'\n",
      " 'mostly true' 'mostly true' 'mostly true' 'mostly true' 'mostly true'\n",
      " 'mostly true' 'mostly true' 'mostly true' 'mostly true' 'mostly true'\n",
      " 'mostly true' 'mostly true' 'mostly true' 'mostly true' 'mostly true'\n",
      " 'mostly true' 'mostly true' 'mostly true' 'mostly true' 'mostly true'\n",
      " 'mostly true' 'mostly true' 'mostly true' 'mostly true' 'mostly true'\n",
      " 'mostly true' 'mostly true' 'mostly true' 'mostly true' 'mostly true'\n",
      " 'mostly true' 'mostly true' 'mostly true' 'mostly true' 'mostly true'\n",
      " 'mostly true' 'mostly true' 'mostly true' 'mostly true'\n",
      " 'no factual content' 'mostly true' 'no factual content' 'mostly true'\n",
      " 'mostly true' 'mostly true' 'mostly true' 'mostly true' 'mostly true'\n",
      " 'mostly true' 'mostly true' 'mostly true' 'mostly true'\n",
      " 'no factual content' 'mostly true' 'mostly true' 'mostly true'\n",
      " 'mostly true' 'mostly true' 'mostly true' 'mostly true'\n",
      " 'no factual content' 'mostly true' 'mostly true' 'mostly true'\n",
      " 'mostly true' 'mostly true' 'mostly true' 'mostly true' 'mostly true'\n",
      " 'mostly true' 'mostly true' 'mostly true' 'mostly true' 'mostly true'\n",
      " 'mostly true' 'mostly true' 'mostly true' 'mostly true' 'mostly true'\n",
      " 'no factual content' 'mostly true' 'mostly true' 'mostly true'\n",
      " 'mostly true' 'mostly true' 'mostly true' 'mostly true' 'mostly true'\n",
      " 'mostly true' 'mostly true' 'no factual content' 'mostly true'\n",
      " 'mostly true' 'mostly true' 'mostly true' 'mostly true' 'mostly true'\n",
      " 'mostly true' 'mostly true' 'mostly true' 'mostly true' 'mostly true'\n",
      " 'mostly true' 'mostly true' 'mostly true' 'mostly true' 'mostly true'\n",
      " 'mostly true' 'no factual content' 'mostly true' 'mostly true'\n",
      " 'mostly true' 'mostly true' 'no factual content' 'mostly true'\n",
      " 'mostly true' 'mostly true' 'mostly true' 'mostly true' 'mostly true'\n",
      " 'mostly true' 'mostly true' 'mostly true' 'mostly true' 'mostly true'\n",
      " 'mostly true' 'mostly true' 'mostly true' 'mostly true' 'mostly true'\n",
      " 'mostly true' 'mostly true' 'mostly true' 'mostly true' 'mostly true'\n",
      " 'mostly true' 'mostly true' 'mostly true' 'mostly true' 'mostly true'\n",
      " 'mostly true' 'mostly true' 'mostly true' 'mostly true' 'mostly true'\n",
      " 'mostly true' 'mostly true' 'mostly true' 'mostly true' 'mostly true'\n",
      " 'mostly true' 'mostly true' 'mostly true' 'mostly true' 'mostly true'\n",
      " 'mostly true' 'mostly true' 'mostly true' 'mostly true' 'mostly true'\n",
      " 'mostly true' 'mostly true' 'mostly true' 'mostly true' 'mostly true'\n",
      " 'mostly true' 'no factual content' 'mostly true' 'mostly true'\n",
      " 'mostly true' 'mostly true' 'mostly true' 'mostly true' 'mostly true'\n",
      " 'mostly true' 'mostly true' 'mostly true' 'mostly true' 'mostly true'\n",
      " 'mostly true' 'mostly true' 'mostly true' 'mostly true' 'mostly true'\n",
      " 'mostly true' 'mostly true' 'mostly true' 'mostly true' 'mostly true'\n",
      " 'mostly true' 'no factual content' 'mostly true' 'mostly true'\n",
      " 'no factual content' 'mostly true' 'mostly true' 'mostly true'\n",
      " 'mostly true' 'mostly true' 'mostly true' 'mostly true' 'mostly true'\n",
      " 'mostly true' 'mostly true' 'mostly true' 'mostly true' 'mostly true'\n",
      " 'mostly true' 'mostly true' 'mostly true' 'mostly true' 'mostly true'\n",
      " 'mostly true' 'mostly true' 'mostly true' 'mostly true' 'mostly true'\n",
      " 'mostly true' 'mostly true' 'mostly true' 'mostly true' 'mostly true'\n",
      " 'mostly true' 'mostly true' 'mostly true' 'mostly true' 'mostly true'\n",
      " 'mostly true' 'mostly true' 'mostly true' 'mostly true' 'mostly true'\n",
      " 'mostly true' 'mostly true' 'mostly true' 'mostly true' 'mostly true'\n",
      " 'mostly true' 'mostly true' 'mostly true' 'mostly true' 'mostly true'\n",
      " 'mostly true' 'mostly true' 'no factual content' 'mostly true'\n",
      " 'mostly true' 'mostly true' 'mostly true' 'mostly true' 'mostly true'\n",
      " 'mostly true' 'mostly true' 'mostly true' 'mostly true' 'mostly true'\n",
      " 'mostly true' 'mostly true' 'mostly true' 'mostly true' 'mostly true'\n",
      " 'mostly true' 'mostly true' 'mostly true' 'mostly true' 'mostly true'\n",
      " 'mostly true' 'mostly true' 'no factual content' 'mostly true'\n",
      " 'mostly true' 'mostly true' 'mostly true' 'mostly true' 'mostly true'\n",
      " 'mostly true' 'no factual content' 'mostly true' 'mostly true'\n",
      " 'mostly true' 'mostly true' 'mostly true' 'mostly true'\n",
      " 'no factual content' 'mostly true' 'mostly true' 'mostly true'\n",
      " 'mostly true' 'mostly true' 'mostly true' 'mostly true' 'mostly true'\n",
      " 'mostly true' 'mostly true' 'mostly true' 'mostly true' 'mostly true'\n",
      " 'no factual content' 'mostly true' 'mostly true' 'mostly true'\n",
      " 'no factual content' 'mostly true' 'mostly true' 'mostly true'\n",
      " 'mostly true' 'mostly true' 'mostly true' 'mostly true' 'mostly true'\n",
      " 'mostly true' 'mostly true' 'mostly true' 'mostly true' 'mostly true'\n",
      " 'mostly true' 'mostly true' 'mostly true' 'mostly true' 'mostly true'\n",
      " 'mostly true' 'mostly true' 'mostly true' 'mostly true' 'mostly true'\n",
      " 'mostly true' 'mostly true' 'mostly true' 'mostly true' 'mostly true'\n",
      " 'mostly true' 'mostly true' 'mostly true' 'mostly true' 'mostly true'\n",
      " 'mostly true' 'mostly true' 'mostly true' 'mostly true' 'mostly true'\n",
      " 'mostly true' 'mostly true' 'mostly true' 'mostly true' 'mostly true'\n",
      " 'mostly true' 'mostly true' 'mostly true' 'mostly true' 'mostly true'\n",
      " 'mostly true' 'mostly true' 'mostly true' 'mostly true' 'mostly true'\n",
      " 'mostly true' 'mostly true' 'mostly true' 'mostly true' 'mostly true'\n",
      " 'mostly true' 'mostly true' 'mostly true' 'mostly true' 'mostly true'\n",
      " 'mostly true' 'mostly true' 'mostly true' 'mostly true' 'mostly true'\n",
      " 'no factual content' 'mostly true' 'mostly true' 'mostly true'\n",
      " 'mostly true' 'mostly true' 'mostly true' 'mostly true' 'mostly true'\n",
      " 'mostly true' 'mostly true' 'mostly true' 'mostly true' 'mostly true'\n",
      " 'mostly true' 'mostly true' 'mostly true' 'mostly true' 'mostly true'\n",
      " 'mostly true' 'mostly true' 'mostly true' 'mostly true' 'mostly true'\n",
      " 'mostly true' 'mostly true' 'mostly true' 'mostly true' 'mostly true'\n",
      " 'mostly true' 'mostly true' 'mostly true' 'mostly true' 'mostly true'\n",
      " 'mostly true' 'mostly true' 'mostly true' 'mostly true' 'mostly true'\n",
      " 'mostly true' 'mostly true' 'mostly true' 'mostly true' 'mostly true'\n",
      " 'mostly true' 'mostly true' 'no factual content' 'mostly true'\n",
      " 'mostly true' 'mostly true' 'mostly true' 'mostly true' 'mostly true'\n",
      " 'mostly true' 'mostly true' 'mostly true' 'no factual content'\n",
      " 'mostly true' 'mostly true' 'mostly true' 'mostly true' 'mostly true'\n",
      " 'mostly true' 'mostly true' 'mostly true' 'mostly true' 'mostly true'\n",
      " 'mostly true' 'mostly true' 'mostly true' 'mostly true' 'mostly true'\n",
      " 'mostly true' 'mostly true' 'mostly true' 'mostly true' 'mostly true'\n",
      " 'mostly true' 'mostly true' 'mostly true' 'mostly true' 'mostly true'\n",
      " 'mostly true' 'mostly true' 'mostly true' 'mostly true' 'mostly true'\n",
      " 'mixture of true and false' 'mostly true' 'mostly true' 'mostly true'\n",
      " 'mostly true' 'mostly true' 'mostly true' 'mostly true' 'mostly true'\n",
      " 'mostly true' 'mostly true' 'mostly true' 'mostly true' 'mostly true'\n",
      " 'mostly true' 'mostly true' 'mostly true' 'mostly true' 'mostly true'\n",
      " 'no factual content' 'mostly true' 'mostly true' 'mostly true'\n",
      " 'mostly true' 'mostly true' 'mostly true' 'mostly true' 'mostly true'\n",
      " 'mostly true' 'mostly true' 'mostly true' 'mostly true' 'mostly true'\n",
      " 'no factual content' 'mostly true' 'mostly true' 'mostly true'\n",
      " 'mostly true' 'mostly true' 'mostly true' 'mostly true'\n",
      " 'mixture of true and false' 'mostly true' 'mostly true' 'mostly true'\n",
      " 'mostly true' 'mostly true' 'mostly true' 'mostly true' 'mostly true'\n",
      " 'mostly true' 'mostly true' 'mostly true' 'mostly true' 'mostly true'\n",
      " 'mostly true' 'mostly true' 'mostly true' 'mostly true' 'mostly true'\n",
      " 'mostly true' 'mostly true' 'mostly true' 'mostly true' 'mostly true'\n",
      " 'mostly true' 'mostly true' 'mostly true' 'mostly true' 'mostly true'\n",
      " 'mostly true' 'mostly true' 'mostly true' 'mostly true' 'mostly true'\n",
      " 'mostly true' 'mostly true' 'mostly true' 'mostly true' 'mostly true'\n",
      " 'no factual content' 'mostly true' 'mostly true' 'mostly true'\n",
      " 'mostly true' 'mostly true' 'mostly true' 'mostly true' 'mostly true'\n",
      " 'mostly true' 'mostly true' 'mostly true' 'mostly true' 'mostly true'\n",
      " 'mostly true' 'mostly true' 'mostly true' 'mostly true' 'mostly true'\n",
      " 'mostly true' 'mostly true' 'mostly true' 'mostly true' 'mostly true'\n",
      " 'mostly true' 'mostly true' 'mostly true' 'mostly true' 'mostly true'\n",
      " 'mostly true' 'mostly true' 'mostly true' 'mostly true' 'mostly true'\n",
      " 'mostly true' 'mostly true' 'mostly true' 'mostly true' 'mostly true'\n",
      " 'mostly true' 'mostly true' 'mostly true' 'mostly true' 'mostly true'\n",
      " 'mostly true' 'mostly true' 'mostly true' 'mostly true'\n",
      " 'no factual content' 'mostly true' 'mostly true' 'mostly true'\n",
      " 'mostly true' 'mostly true' 'mostly true' 'mostly true' 'mostly true'\n",
      " 'mostly true' 'mostly true' 'mostly true' 'mostly true' 'mostly true'\n",
      " 'mostly true' 'mostly true' 'mostly true' 'mostly true' 'mostly true'\n",
      " 'mostly true' 'mostly true' 'mostly true' 'mostly true' 'mostly true'\n",
      " 'mostly true' 'mostly true' 'mostly true' 'mostly true' 'mostly true'\n",
      " 'mostly true' 'mostly true' 'no factual content' 'mostly true'\n",
      " 'mostly true' 'mostly true' 'mostly true' 'mostly true' 'mostly true'\n",
      " 'mostly true' 'mostly true' 'mostly true' 'mostly true' 'mostly true'\n",
      " 'mostly true' 'mostly true' 'mostly true' 'mostly true' 'mostly true'\n",
      " 'mostly true' 'mostly true' 'mostly true' 'mostly true' 'mostly true'\n",
      " 'mostly true' 'mostly true' 'mostly true' 'mostly true' 'mostly true'\n",
      " 'mostly true' 'mostly true' 'mostly true' 'no factual content'\n",
      " 'mostly true' 'mostly true' 'mostly true' 'mostly true' 'mostly true'\n",
      " 'mostly true' 'mostly true' 'mostly true' 'mostly true' 'mostly true'\n",
      " 'mostly true' 'mostly true' 'mostly true' 'mostly true' 'mostly true'\n",
      " 'mostly true' 'mostly true' 'mostly true' 'mostly true'\n",
      " 'no factual content' 'no factual content' 'mostly true' 'mostly true'\n",
      " 'mostly true' 'mostly true' 'mostly true' 'mostly true' 'mostly true'\n",
      " 'mostly true' 'mostly true' 'mostly true' 'mostly true' 'mostly true'\n",
      " 'mostly true' 'mostly true' 'mostly true' 'mostly true' 'mostly true'\n",
      " 'mostly true' 'mostly true' 'mostly true' 'mostly true' 'mostly true'\n",
      " 'mostly true' 'mostly true' 'mostly true' 'mostly true' 'mostly true'\n",
      " 'mostly true' 'mostly true' 'mostly true' 'mostly true' 'mostly true'\n",
      " 'mostly true' 'mostly true' 'mostly true' 'mostly true' 'mostly true'\n",
      " 'mostly true' 'mostly true' 'mostly true' 'mostly true' 'mostly true'\n",
      " 'mostly true' 'mostly true' 'mostly true' 'mostly true' 'mostly true'\n",
      " 'mostly true' 'mostly true' 'mostly true' 'no factual content'\n",
      " 'mostly true' 'mostly true' 'mostly true' 'mostly true' 'mostly true'\n",
      " 'mostly true' 'mostly true' 'mostly true' 'mostly true' 'mostly true'\n",
      " 'mostly true' 'mostly true' 'mostly true' 'mostly true' 'mostly true'\n",
      " 'mostly true' 'mostly true' 'mostly true' 'mostly true' 'mostly true'\n",
      " 'mostly true' 'mostly true' 'mostly true' 'mostly true' 'mostly true'\n",
      " 'mostly true' 'mostly true' 'mostly true' 'mostly true' 'mostly true'\n",
      " 'no factual content' 'mostly true' 'mostly true' 'mostly true'\n",
      " 'mostly true' 'mostly true' 'mostly true' 'mostly true' 'mostly true'\n",
      " 'mostly true' 'mostly true' 'mostly true' 'mostly true' 'mostly true'\n",
      " 'mostly true' 'mostly true' 'mostly true' 'mostly true' 'mostly true'\n",
      " 'mostly true' 'no factual content' 'mostly true' 'mostly true'\n",
      " 'mostly true' 'mostly true' 'mostly true' 'mostly true' 'mostly true'\n",
      " 'no factual content' 'mostly true' 'mostly true' 'mostly true'\n",
      " 'mostly true' 'mostly true' 'mostly true' 'mostly true' 'mostly true'\n",
      " 'mostly true' 'mostly true' 'mostly true' 'mostly true' 'mostly true'\n",
      " 'mostly true' 'mostly true' 'mostly true' 'mostly true' 'mostly true'\n",
      " 'mostly true' 'mostly true' 'mostly true' 'mostly true' 'mostly true'\n",
      " 'mostly true' 'mostly true' 'mostly true' 'mostly true' 'mostly true'\n",
      " 'mostly true' 'mostly true' 'mostly true' 'mostly true' 'mostly true'\n",
      " 'mostly true' 'mostly true' 'mostly true' 'mostly true' 'mostly true'\n",
      " 'mostly true' 'mostly true' 'mostly true' 'mostly true' 'mostly true'\n",
      " 'mostly true' 'mostly true' 'mostly true' 'mostly true' 'mostly true'\n",
      " 'mostly true' 'mostly true' 'mostly true' 'mostly true' 'mostly true'\n",
      " 'mostly true' 'mostly true' 'mostly true' 'mostly true' 'mostly true'\n",
      " 'mostly true' 'mostly true' 'mostly true' 'mostly true' 'mostly true'\n",
      " 'no factual content' 'mostly true' 'mostly true' 'mostly true'\n",
      " 'mostly true' 'mostly true' 'mostly true' 'mostly true' 'mostly true'\n",
      " 'mostly true' 'mostly true' 'mostly true' 'mostly true' 'mostly true'\n",
      " 'mostly true' 'mostly true' 'mostly true' 'mostly true' 'mostly true'\n",
      " 'mostly true' 'mostly true' 'mostly true' 'mostly true' 'mostly true'\n",
      " 'mostly true' 'mostly true' 'mostly true' 'mostly true' 'mostly true'\n",
      " 'mostly true' 'mostly true' 'mostly true' 'mostly true' 'mostly true'\n",
      " 'mostly true' 'mostly true' 'mostly true' 'mostly true' 'mostly true'\n",
      " 'mostly true' 'mostly true' 'mostly true' 'mostly true' 'mostly true'\n",
      " 'mostly true' 'mostly true' 'mostly true' 'mostly true' 'mostly true'\n",
      " 'mostly true' 'mostly true' 'mostly true' 'mostly true' 'mostly true'\n",
      " 'mostly true' 'mostly true' 'mostly true' 'mostly true' 'mostly true'\n",
      " 'mostly true' 'mostly true' 'mostly true' 'mostly true' 'mostly true'\n",
      " 'mostly true' 'mostly true' 'mostly true' 'mostly true' 'mostly true'\n",
      " 'mostly true' 'mostly true' 'mostly true' 'mostly true' 'mostly true'\n",
      " 'mostly true' 'mostly true' 'mostly true' 'mostly true' 'mostly true'\n",
      " 'mostly true' 'mostly true' 'mostly true' 'mostly true' 'mostly true'\n",
      " 'mostly true' 'mostly true' 'mostly true' 'mostly true' 'mostly true'\n",
      " 'mostly true' 'mostly true' 'mostly true' 'mostly true' 'mostly true'\n",
      " 'mostly true' 'no factual content' 'mostly true' 'mostly true'\n",
      " 'mostly true' 'mostly true' 'no factual content' 'mostly true'\n",
      " 'mostly true' 'mostly true' 'mostly true' 'mostly true' 'mostly true'\n",
      " 'mostly true' 'mostly true' 'mostly true' 'mostly true' 'mostly true'\n",
      " 'mostly true' 'mostly true' 'mostly true' 'mostly false' 'mostly true'\n",
      " 'mostly true' 'mostly true' 'mostly true' 'mostly true' 'mostly true'\n",
      " 'mostly true' 'mostly true' 'mostly true' 'mostly true' 'mostly true'\n",
      " 'mostly true' 'mostly true' 'mostly true' 'mostly true' 'mostly true'\n",
      " 'mostly true' 'mostly true' 'mostly true' 'mostly true' 'mostly true'\n",
      " 'mostly true' 'mostly true' 'mostly true' 'mostly true' 'mostly true'\n",
      " 'mostly true' 'mostly true' 'mostly true' 'mostly true' 'mostly true'\n",
      " 'mostly true' 'mostly true' 'mostly true' 'mostly true' 'mostly true'\n",
      " 'mostly true' 'mostly false' 'mostly true' 'mostly true' 'mostly true'\n",
      " 'mostly true' 'mostly true' 'mostly true' 'mostly true' 'mostly true'\n",
      " 'mostly true' 'mostly true' 'mostly true' 'mostly true' 'mostly true'\n",
      " 'mostly true' 'mostly true' 'mostly true' 'mostly true' 'mostly true'\n",
      " 'mostly true' 'mostly true' 'mostly true' 'mostly true' 'mostly true'\n",
      " 'mostly true' 'no factual content' 'mostly true' 'mostly true'\n",
      " 'mostly true' 'mostly true' 'mostly true' 'mostly true' 'mostly true'\n",
      " 'mostly true' 'no factual content' 'mostly true' 'mostly true'\n",
      " 'no factual content' 'mostly true' 'mostly true' 'mostly true'\n",
      " 'mostly true' 'mostly true' 'mostly true' 'mostly true' 'mostly true'\n",
      " 'mostly true' 'mostly true' 'no factual content' 'mostly true'\n",
      " 'mostly true' 'mostly true' 'mostly true' 'mostly true' 'mostly true'\n",
      " 'mostly true' 'mostly true' 'mostly true' 'mostly true' 'mostly true'\n",
      " 'mostly true' 'mostly true' 'mostly true' 'mostly true' 'mostly true'\n",
      " 'mostly true' 'mostly true' 'mostly true' 'mostly true' 'mostly true'\n",
      " 'mostly true' 'mostly true' 'mostly true' 'mostly true' 'mostly true'\n",
      " 'mostly true' 'mostly true' 'mostly true' 'mostly true' 'mostly true'\n",
      " 'mostly true' 'mostly true' 'mostly true' 'mostly true' 'mostly true'\n",
      " 'mostly true' 'mostly true' 'mostly true' 'mostly true' 'mostly true'\n",
      " 'mostly true' 'mostly true' 'mostly true' 'mostly true' 'mostly true'\n",
      " 'mostly true' 'mostly true' 'mostly true' 'mostly true' 'mostly true'\n",
      " 'mostly true' 'mostly true' 'mostly true' 'mostly true' 'mostly true'\n",
      " 'mostly true' 'mostly true' 'mostly true' 'no factual content'\n",
      " 'mostly true' 'mostly true' 'mostly true' 'mostly true' 'mostly true'\n",
      " 'mostly true' 'mostly true' 'mostly true' 'mostly true' 'mostly true'\n",
      " 'mostly true' 'mostly true' 'mostly true' 'mostly true' 'mostly true'\n",
      " 'mostly true' 'mostly true' 'mostly true']\n"
     ]
    }
   ],
   "source": [
    "np.set_printoptions(threshold=np.inf)\n",
    "print('prediction_test :', predict_test_sgd )"
   ]
  },
  {
   "cell_type": "markdown",
   "metadata": {},
   "source": [
    "On affiche la prédiction pour la base de test afin de vérifier à première vue que le modèle prédit des réponses *variées*, et non systématiquement la même.\n",
    "Les résultats pour la base de train sont meilleurs que pour la base de données précédente (20% meilleure environ).\n",
    "\n",
    "Il faut cependant prendre en compte que cette base de données contient en grande majorité (73%) des articles étiquettés \"mostly true\". Ainsi pour que le modèle soit réellement efficace, c'est-à-dire plus efficace que de systèmatiquement étiquetter \"mostly true\" pour chaque article, il faut que la précision soit supérieure à 73%. C'est bien la cas ici, même si d'assez peu : les résultats sont plutôt performants.\n",
    "\n",
    "De plus les résultats de la base de test sont très mauvais : le modèle ne semble pas performant."
   ]
  },
  {
   "cell_type": "code",
   "execution_count": 338,
   "metadata": {},
   "outputs": [
    {
     "name": "stdout",
     "output_type": "stream",
     "text": [
      "                           precision    recall  f1-score   support\n",
      "\n",
      "mixture of true and false       0.40      0.02      0.04       193\n",
      "             mostly false       0.00      0.00      0.00        82\n",
      "              mostly true       0.77      0.96      0.86      1306\n",
      "       no factual content       0.57      0.37      0.45       188\n",
      "\n",
      "                 accuracy                           0.75      1769\n",
      "                macro avg       0.43      0.34      0.34      1769\n",
      "             weighted avg       0.67      0.75      0.68      1769\n",
      "\n",
      "                           precision    recall  f1-score   support\n",
      "\n",
      "mixture of true and false       0.03      0.02      0.02        48\n",
      "             mostly false       0.00      0.00      0.00        21\n",
      "              mostly true       0.60      0.01      0.02       327\n",
      "       no factual content       0.12      0.89      0.22        47\n",
      "\n",
      "                 accuracy                           0.10       443\n",
      "                macro avg       0.19      0.23      0.06       443\n",
      "             weighted avg       0.46      0.10      0.04       443\n",
      "\n"
     ]
    },
    {
     "name": "stderr",
     "output_type": "stream",
     "text": [
      "/Users/clementineabed-meraim/anaconda/lib/python3.6/site-packages/sklearn/metrics/_classification.py:1272: UndefinedMetricWarning: Precision and F-score are ill-defined and being set to 0.0 in labels with no predicted samples. Use `zero_division` parameter to control this behavior.\n",
      "  _warn_prf(average, modifier, msg_start, len(result))\n"
     ]
    }
   ],
   "source": [
    "print(classification_report(Y_train, predict_train_sgd))\n",
    "print(classification_report(Y_test, predict_test_sgd))"
   ]
  },
  {
   "cell_type": "markdown",
   "metadata": {},
   "source": [
    "On remarque également que les prédictions du modèle bien qu'elles ne soient pas sytématiquement toujours la même catégorie, tendent à se répartir dans les 2 catégories les plus importantes de la base de données ('mostly true' et 'no factual content'), et peu dans les autres, surtout *mostly false* qui n'est même pas attribué.\n",
    "\n",
    "Cependant lorsque l'algorithme attribue ces 2 catégories les plus importantes, sa précision est plutôt bonne pour la base train, et moins pour celle de test mais reste meilleure que pour l'attribution des autres catégories.\n",
    "\n",
    "Il est aussi intéressant de remarquer que pour la base de train, l'algorithme est capable de trouver 96% des \"mostly true\", mais pour la base de test, seulement 1%. Les performances de prédiction varient donc assez entre test et train."
   ]
  },
  {
   "cell_type": "markdown",
   "metadata": {},
   "source": [
    "### II. 2. Arbre de décision"
   ]
  },
  {
   "cell_type": "code",
   "execution_count": 339,
   "metadata": {},
   "outputs": [],
   "source": [
    "tree_twt = DecisionTreeClassifier()\n",
    "tree_twt = tree_twt.fit(X_train, Y_train)\n",
    "\n",
    "predict_train_tree = tree_twt.predict(X_train)\n",
    "predict_test_tree = tree_twt.predict(X_test)"
   ]
  },
  {
   "cell_type": "markdown",
   "metadata": {},
   "source": [
    "***Résultats pour la base train :***"
   ]
  },
  {
   "cell_type": "code",
   "execution_count": 342,
   "metadata": {},
   "outputs": [
    {
     "name": "stdout",
     "output_type": "stream",
     "text": [
      "[[ 193    0    0    0]\n",
      " [   0   82    0    0]\n",
      " [   0    0 1306    0]\n",
      " [   0    0    0  188]]\n",
      "précision : 1.0\n",
      "erreur : 0.0\n"
     ]
    }
   ],
   "source": [
    "print(confusion_matrix(Y_train, predict_train_tree))\n",
    "print('précision :', accuracy_score(Y_train, predict_train_tree))\n",
    "erreur = 1 - accuracy_score(Y_train, predict_train_tree)\n",
    "print('erreur :', erreur)"
   ]
  },
  {
   "cell_type": "markdown",
   "metadata": {},
   "source": [
    "***Résultats pour la base test :***"
   ]
  },
  {
   "cell_type": "code",
   "execution_count": 343,
   "metadata": {},
   "outputs": [
    {
     "name": "stdout",
     "output_type": "stream",
     "text": [
      "[[  1   0   1  46]\n",
      " [  0   0   1  20]\n",
      " [ 35  58   3 231]\n",
      " [  3   2   0  42]]\n",
      "précision : 0.1038374717832957\n",
      "erreur : 0.8961625282167043\n"
     ]
    }
   ],
   "source": [
    "print(confusion_matrix(Y_test, predict_test_sgd))\n",
    "print('précision :', accuracy_score(Y_test, predict_test_sgd))\n",
    "\n",
    "erreur = 1 - accuracy_score(Y_test, predict_test_sgd)\n",
    "print('erreur :', erreur)\n",
    "\n",
    "\n",
    "#print('prediction_test :', predict_test_sgd)"
   ]
  },
  {
   "cell_type": "markdown",
   "metadata": {},
   "source": [
    "Le modèle overfit ici puisque l'erreur est nulle pour la base de train et bien plus grande, voire immense, pour celle de test.\n",
    "Il convient d'optimiser nos paramètres."
   ]
  },
  {
   "cell_type": "markdown",
   "metadata": {},
   "source": [
    "***Optimisation***"
   ]
  },
  {
   "cell_type": "code",
   "execution_count": 355,
   "metadata": {},
   "outputs": [
    {
     "name": "stdout",
     "output_type": "stream",
     "text": [
      "Fitting 10 folds for each of 64000 candidates, totalling 640000 fits\n"
     ]
    },
    {
     "name": "stderr",
     "output_type": "stream",
     "text": [
      "[Parallel(n_jobs=-1)]: Using backend LokyBackend with 4 concurrent workers.\n",
      "[Parallel(n_jobs=-1)]: Done  56 tasks      | elapsed:    5.2s\n",
      "[Parallel(n_jobs=-1)]: Done 4368 tasks      | elapsed:   13.3s\n",
      "[Parallel(n_jobs=-1)]: Done 12368 tasks      | elapsed:   25.1s\n",
      "[Parallel(n_jobs=-1)]: Done 23568 tasks      | elapsed:   43.8s\n",
      "[Parallel(n_jobs=-1)]: Done 37968 tasks      | elapsed:  1.2min\n",
      "[Parallel(n_jobs=-1)]: Done 55568 tasks      | elapsed:  1.7min\n",
      "[Parallel(n_jobs=-1)]: Done 76368 tasks      | elapsed:  2.5min\n",
      "[Parallel(n_jobs=-1)]: Done 100368 tasks      | elapsed:  3.4min\n",
      "[Parallel(n_jobs=-1)]: Done 127568 tasks      | elapsed:  4.6min\n",
      "[Parallel(n_jobs=-1)]: Done 157968 tasks      | elapsed:  5.9min\n",
      "[Parallel(n_jobs=-1)]: Done 191568 tasks      | elapsed:  7.4min\n",
      "[Parallel(n_jobs=-1)]: Done 228368 tasks      | elapsed:  9.1min\n",
      "[Parallel(n_jobs=-1)]: Done 268368 tasks      | elapsed: 11.1min\n",
      "[Parallel(n_jobs=-1)]: Done 311568 tasks      | elapsed: 13.3min\n",
      "[Parallel(n_jobs=-1)]: Done 357968 tasks      | elapsed: 15.5min\n",
      "[Parallel(n_jobs=-1)]: Done 407568 tasks      | elapsed: 18.0min\n",
      "[Parallel(n_jobs=-1)]: Done 460368 tasks      | elapsed: 20.7min\n",
      "[Parallel(n_jobs=-1)]: Done 516368 tasks      | elapsed: 23.6min\n",
      "[Parallel(n_jobs=-1)]: Done 575568 tasks      | elapsed: 26.4min\n",
      "[Parallel(n_jobs=-1)]: Done 637968 tasks      | elapsed: 29.2min\n",
      "[Parallel(n_jobs=-1)]: Done 640000 out of 640000 | elapsed: 29.3min finished\n"
     ]
    },
    {
     "data": {
      "text/plain": [
       "GridSearchCV(cv=10, error_score=nan,\n",
       "             estimator=DecisionTreeClassifier(ccp_alpha=0.0, class_weight=None,\n",
       "                                              criterion='gini', max_depth=None,\n",
       "                                              max_features=None,\n",
       "                                              max_leaf_nodes=None,\n",
       "                                              min_impurity_decrease=0.0,\n",
       "                                              min_impurity_split=None,\n",
       "                                              min_samples_leaf=1,\n",
       "                                              min_samples_split=2,\n",
       "                                              min_weight_fraction_leaf=0.0,\n",
       "                                              presort='deprecated',\n",
       "                                              random_state=None,\n",
       "                                              splitter='best'),\n",
       "             iid='deprecated', n_jobs=-1,\n",
       "             param_grid={'max_depth': range(0, 40),\n",
       "                         'min_samples_leaf': range(0, 40),\n",
       "                         'min_samples_split': range(0, 40)},\n",
       "             pre_dispatch='2*n_jobs', refit=True, return_train_score=False,\n",
       "             scoring=None, verbose=1)"
      ]
     },
     "execution_count": 355,
     "metadata": {},
     "output_type": "execute_result"
    }
   ],
   "source": [
    "parameters = {'max_depth':range(0,40), 'min_samples_leaf':range(0,40), 'min_samples_split':range(0,40)}\n",
    "tree_twt = DecisionTreeClassifier()\n",
    "tree_search_twt = GridSearchCV(tree_twt, parameters, cv=10, n_jobs=-1, verbose=1)\n",
    "tree_search_twt.fit(X_train, Y_train)"
   ]
  },
  {
   "cell_type": "code",
   "execution_count": 360,
   "metadata": {},
   "outputs": [],
   "source": [
    "predict_train_tree_search  = tree_search_twt.predict(X_train)\n",
    "predict_test_tree_search  = tree_search_twt.predict(X_test)"
   ]
  },
  {
   "cell_type": "markdown",
   "metadata": {},
   "source": [
    "***Résultats pour la base train :***"
   ]
  },
  {
   "cell_type": "code",
   "execution_count": 361,
   "metadata": {},
   "outputs": [
    {
     "name": "stdout",
     "output_type": "stream",
     "text": [
      "[[  10    4  169   10]\n",
      " [   0    6   68    8]\n",
      " [   2    3 1246   55]\n",
      " [   1    2   80  105]]\n",
      "précision : 0.7727529677784059\n",
      "erreur : 0.22724703222159415\n"
     ]
    }
   ],
   "source": [
    "print(confusion_matrix(Y_train, predict_train_tree_search))\n",
    "print('précision :', accuracy_score(Y_train, predict_train_tree_search))\n",
    "erreur = 1 - accuracy_score(Y_train, predict_train_tree_search)\n",
    "print('erreur :', erreur)"
   ]
  },
  {
   "cell_type": "markdown",
   "metadata": {},
   "source": [
    "***Résultats pour la base test :***"
   ]
  },
  {
   "cell_type": "code",
   "execution_count": 362,
   "metadata": {},
   "outputs": [
    {
     "name": "stdout",
     "output_type": "stream",
     "text": [
      "[[  0   0  46   2]\n",
      " [  0   0  20   1]\n",
      " [  0   0 279  48]\n",
      " [  0   0  17  30]]\n",
      "précision : 0.6975169300225733\n",
      "erreur : 0.3024830699774267\n"
     ]
    }
   ],
   "source": [
    "print(confusion_matrix(Y_test, predict_test_tree_search))\n",
    "print('précision :', accuracy_score(Y_test, predict_test_tree_search))\n",
    "\n",
    "erreur = 1 - accuracy_score(Y_test, predict_test_tree_search)\n",
    "print('erreur :', erreur)\n",
    "\n"
   ]
  },
  {
   "cell_type": "markdown",
   "metadata": {},
   "source": [
    "La précision est bien meilleure que pour le premier modèle, et les résultats de la prédiction semblent plutôt encourageants.\n",
    "Même si on remarque que cette prédiction est moins précise que si on attribuait automatiquement *mostly true*, la précision reste assez proche de ces 73%.\n"
   ]
  },
  {
   "cell_type": "code",
   "execution_count": 354,
   "metadata": {},
   "outputs": [
    {
     "name": "stdout",
     "output_type": "stream",
     "text": [
      "                           precision    recall  f1-score   support\n",
      "\n",
      "mixture of true and false       0.77      0.05      0.10       193\n",
      "             mostly false       0.40      0.07      0.12        82\n",
      "              mostly true       0.80      0.95      0.87      1306\n",
      "       no factual content       0.59      0.56      0.57       188\n",
      "\n",
      "                 accuracy                           0.77      1769\n",
      "                macro avg       0.64      0.41      0.42      1769\n",
      "             weighted avg       0.75      0.77      0.72      1769\n",
      "\n",
      "                           precision    recall  f1-score   support\n",
      "\n",
      "mixture of true and false       0.00      0.00      0.00        48\n",
      "             mostly false       0.00      0.00      0.00        21\n",
      "              mostly true       0.77      0.85      0.81       327\n",
      "       no factual content       0.37      0.64      0.47        47\n",
      "\n",
      "                 accuracy                           0.70       443\n",
      "                macro avg       0.29      0.37      0.32       443\n",
      "             weighted avg       0.61      0.70      0.65       443\n",
      "\n"
     ]
    },
    {
     "name": "stderr",
     "output_type": "stream",
     "text": [
      "/Users/clementineabed-meraim/anaconda/lib/python3.6/site-packages/sklearn/metrics/_classification.py:1272: UndefinedMetricWarning: Precision and F-score are ill-defined and being set to 0.0 in labels with no predicted samples. Use `zero_division` parameter to control this behavior.\n",
      "  _warn_prf(average, modifier, msg_start, len(result))\n"
     ]
    }
   ],
   "source": [
    "print(classification_report(Y_train, predict_train_tree_search))\n",
    "print(classification_report(Y_test, predict_test_tree_search))"
   ]
  },
  {
   "cell_type": "markdown",
   "metadata": {},
   "source": [
    "La prédiction du modèle associant les articles sur cette \"échelle\" de véracité semble assez bonne pour les 2 catégories *mostly true* et *no factual content* : \n",
    "Lorsque l'algorithme attribue des catégories à des articles, sa précision plutôt performante et globalement meilleure que pour le modèle performante.\n",
    "\n",
    "Cependant sa capacité à attribuer *mixture of true and false* et *mostly false* est moindre (ils ne sont mêmes pas attribué dans la base de test).\n",
    "\n",
    "De plus les résultats sur la base de train et de set semblent assez similaire, contrairement au modèle précédent, il est plus cohérent."
   ]
  },
  {
   "cell_type": "markdown",
   "metadata": {},
   "source": [
    "### II. 3. Random Forest"
   ]
  },
  {
   "cell_type": "code",
   "execution_count": 363,
   "metadata": {},
   "outputs": [],
   "source": [
    "from sklearn.ensemble import RandomForestClassifier\n",
    "rfc_twt = RandomForestClassifier()\n",
    "rfc_twt = rfc_twt.fit(X_train, Y_train)\n",
    " \n",
    "predict_train_rfc = rfc_twt.predict(X_train)\n",
    "predict_test_rfc = rfc_twt.predict(X_test)"
   ]
  },
  {
   "cell_type": "markdown",
   "metadata": {},
   "source": [
    "***Résultats pour la base train :***"
   ]
  },
  {
   "cell_type": "code",
   "execution_count": 364,
   "metadata": {},
   "outputs": [
    {
     "name": "stdout",
     "output_type": "stream",
     "text": [
      "[[ 193    0    0    0]\n",
      " [   0   82    0    0]\n",
      " [   0    0 1306    0]\n",
      " [   0    0    0  188]]\n",
      "précision : 1.0\n",
      "erreur : 0.0\n"
     ]
    }
   ],
   "source": [
    "print(confusion_matrix(Y_train, predict_train_rfc))\n",
    "print('précision :', accuracy_score(Y_train, predict_train_rfc))\n",
    "erreur = 1 - accuracy_score(Y_train, predict_train_rfc)\n",
    "print('erreur :', erreur)"
   ]
  },
  {
   "cell_type": "markdown",
   "metadata": {},
   "source": [
    "***Résultats pour la base test :***"
   ]
  },
  {
   "cell_type": "code",
   "execution_count": 365,
   "metadata": {},
   "outputs": [
    {
     "name": "stdout",
     "output_type": "stream",
     "text": [
      "[[ 36   0   0  12]\n",
      " [ 18   0   0   3]\n",
      " [242   7  26  52]\n",
      " [ 28   1   4  14]]\n",
      "précision : 0.17155756207674944\n",
      "erreur : 0.8284424379232506\n"
     ]
    }
   ],
   "source": [
    "print(confusion_matrix(Y_test, predict_test_rfc))\n",
    "print('précision :', accuracy_score(Y_test, predict_test_rfc))\n",
    "\n",
    "erreur = 1 - accuracy_score(Y_test, predict_test_rfc)\n",
    "print('erreur :', erreur)\n",
    "\n",
    "#print('prediction_test :', predict_test_rfc)"
   ]
  },
  {
   "cell_type": "markdown",
   "metadata": {},
   "source": [
    "Le modèle overfit, comme on pouvait le prédire. On optimise donc les paramètres."
   ]
  },
  {
   "cell_type": "markdown",
   "metadata": {},
   "source": [
    "***Optimisation***"
   ]
  },
  {
   "cell_type": "code",
   "execution_count": 367,
   "metadata": {},
   "outputs": [
    {
     "name": "stdout",
     "output_type": "stream",
     "text": [
      "Fitting 10 folds for each of 6084 candidates, totalling 60840 fits\n"
     ]
    },
    {
     "name": "stderr",
     "output_type": "stream",
     "text": [
      "[Parallel(n_jobs=-1)]: Using backend LokyBackend with 4 concurrent workers.\n",
      "[Parallel(n_jobs=-1)]: Done  42 tasks      | elapsed:    6.9s\n",
      "[Parallel(n_jobs=-1)]: Done 192 tasks      | elapsed:   13.3s\n",
      "[Parallel(n_jobs=-1)]: Done 442 tasks      | elapsed:   22.9s\n",
      "[Parallel(n_jobs=-1)]: Done 792 tasks      | elapsed:   36.0s\n",
      "[Parallel(n_jobs=-1)]: Done 1242 tasks      | elapsed:   53.2s\n",
      "[Parallel(n_jobs=-1)]: Done 1792 tasks      | elapsed:  1.2min\n",
      "[Parallel(n_jobs=-1)]: Done 2442 tasks      | elapsed:  1.7min\n",
      "[Parallel(n_jobs=-1)]: Done 3192 tasks      | elapsed:  2.2min\n",
      "[Parallel(n_jobs=-1)]: Done 4042 tasks      | elapsed:  2.7min\n",
      "[Parallel(n_jobs=-1)]: Done 4992 tasks      | elapsed:  3.4min\n",
      "[Parallel(n_jobs=-1)]: Done 6042 tasks      | elapsed:  4.1min\n",
      "[Parallel(n_jobs=-1)]: Done 7192 tasks      | elapsed:  4.9min\n",
      "[Parallel(n_jobs=-1)]: Done 8442 tasks      | elapsed:  5.8min\n",
      "[Parallel(n_jobs=-1)]: Done 9792 tasks      | elapsed:  6.8min\n",
      "[Parallel(n_jobs=-1)]: Done 11242 tasks      | elapsed:  7.8min\n",
      "[Parallel(n_jobs=-1)]: Done 12792 tasks      | elapsed:  9.0min\n",
      "[Parallel(n_jobs=-1)]: Done 14442 tasks      | elapsed: 10.2min\n",
      "[Parallel(n_jobs=-1)]: Done 16192 tasks      | elapsed: 11.5min\n",
      "[Parallel(n_jobs=-1)]: Done 18042 tasks      | elapsed: 12.8min\n",
      "[Parallel(n_jobs=-1)]: Done 19992 tasks      | elapsed: 14.3min\n",
      "[Parallel(n_jobs=-1)]: Done 22042 tasks      | elapsed: 15.8min\n",
      "[Parallel(n_jobs=-1)]: Done 24192 tasks      | elapsed: 17.4min\n",
      "[Parallel(n_jobs=-1)]: Done 26442 tasks      | elapsed: 19.1min\n",
      "[Parallel(n_jobs=-1)]: Done 28792 tasks      | elapsed: 20.8min\n",
      "[Parallel(n_jobs=-1)]: Done 31242 tasks      | elapsed: 22.6min\n",
      "[Parallel(n_jobs=-1)]: Done 33792 tasks      | elapsed: 24.6min\n",
      "[Parallel(n_jobs=-1)]: Done 36442 tasks      | elapsed: 26.5min\n",
      "[Parallel(n_jobs=-1)]: Done 39192 tasks      | elapsed: 28.7min\n",
      "[Parallel(n_jobs=-1)]: Done 42042 tasks      | elapsed: 30.8min\n",
      "[Parallel(n_jobs=-1)]: Done 44992 tasks      | elapsed: 33.0min\n",
      "[Parallel(n_jobs=-1)]: Done 48042 tasks      | elapsed: 35.5min\n",
      "[Parallel(n_jobs=-1)]: Done 51192 tasks      | elapsed: 38.7min\n",
      "[Parallel(n_jobs=-1)]: Done 54442 tasks      | elapsed: 41.3min\n",
      "[Parallel(n_jobs=-1)]: Done 57792 tasks      | elapsed: 43.9min\n",
      "[Parallel(n_jobs=-1)]: Done 60840 out of 60840 | elapsed: 46.2min finished\n"
     ]
    },
    {
     "data": {
      "text/plain": [
       "RandomForestClassifier(bootstrap=True, ccp_alpha=0.0, class_weight=None,\n",
       "                       criterion='gini', max_depth=11, max_features='auto',\n",
       "                       max_leaf_nodes=None, max_samples=None,\n",
       "                       min_impurity_decrease=0.0, min_impurity_split=None,\n",
       "                       min_samples_leaf=7, min_samples_split=2,\n",
       "                       min_weight_fraction_leaf=0.0, n_estimators=30,\n",
       "                       n_jobs=None, oob_score=False, random_state=None,\n",
       "                       verbose=0, warm_start=False)"
      ]
     },
     "execution_count": 367,
     "metadata": {},
     "output_type": "execute_result"
    }
   ],
   "source": [
    "parameters = {'max_depth':range(1,40), 'min_samples_leaf':range(1,40), \n",
    "              'max_features':[\"auto\"], 'n_estimators':[20,30,40,50]}\n",
    "rfc_twt = RandomForestClassifier()\n",
    "rfc_search_twt = GridSearchCV(rfc_twt, parameters, cv=10, n_jobs=-1, verbose=1)\n",
    "rfc_search_twt.fit(X_train, Y_train)\n",
    "rfc_search_twt = rfc_search_twt.best_estimator_ \n",
    "rfc_search_twt"
   ]
  },
  {
   "cell_type": "code",
   "execution_count": 368,
   "metadata": {},
   "outputs": [],
   "source": [
    "predict_train_rfc_search_twt  = rfc_search_twt.predict(X_train)\n",
    "predict_test_rfc_search_twt  = rfc_search_twt.predict(X_test)"
   ]
  },
  {
   "cell_type": "markdown",
   "metadata": {},
   "source": [
    "***Résultats pour la base train :***"
   ]
  },
  {
   "cell_type": "code",
   "execution_count": 369,
   "metadata": {},
   "outputs": [
    {
     "name": "stdout",
     "output_type": "stream",
     "text": [
      "[[  31    0  154    8]\n",
      " [  10    1   65    6]\n",
      " [   1    0 1279   26]\n",
      " [   4    0   81  103]]\n",
      "précision : 0.7993216506500848\n",
      "erreur : 0.20067834934991524\n"
     ]
    }
   ],
   "source": [
    "print(confusion_matrix(Y_train, predict_train_rfc_search_twt))\n",
    "print('précision :', accuracy_score(Y_train, predict_train_rfc_search_twt))\n",
    "erreur = 1 - accuracy_score(Y_train, predict_train_rfc_search_twt)\n",
    "print('erreur :', erreur)"
   ]
  },
  {
   "cell_type": "markdown",
   "metadata": {},
   "source": [
    "***Résultats pour la base test :***"
   ]
  },
  {
   "cell_type": "code",
   "execution_count": 370,
   "metadata": {},
   "outputs": [
    {
     "name": "stdout",
     "output_type": "stream",
     "text": [
      "[[  0   0  46   2]\n",
      " [  0   0  20   1]\n",
      " [  0   0 300  27]\n",
      " [  0   0  17  30]]\n",
      "précision : 0.744920993227991\n",
      "erreur : 0.255079006772009\n",
      "prediction_test : ['no factual content' 'mixture of true and false' 'no factual content'\n",
      " 'no factual content' 'no factual content' 'mixture of true and false'\n",
      " 'mixture of true and false' 'mixture of true and false'\n",
      " 'mixture of true and false' 'no factual content'\n",
      " 'mixture of true and false' 'mixture of true and false'\n",
      " 'mixture of true and false' 'mixture of true and false'\n",
      " 'mixture of true and false' 'mostly false' 'mixture of true and false'\n",
      " 'mixture of true and false' 'no factual content'\n",
      " 'mixture of true and false' 'no factual content'\n",
      " 'mixture of true and false' 'mixture of true and false'\n",
      " 'mixture of true and false' 'mixture of true and false'\n",
      " 'mixture of true and false' 'no factual content'\n",
      " 'mixture of true and false' 'no factual content'\n",
      " 'mixture of true and false' 'mixture of true and false'\n",
      " 'no factual content' 'no factual content' 'no factual content'\n",
      " 'no factual content' 'mixture of true and false'\n",
      " 'mixture of true and false' 'mixture of true and false'\n",
      " 'mixture of true and false' 'mixture of true and false'\n",
      " 'mixture of true and false' 'mixture of true and false'\n",
      " 'mixture of true and false' 'mixture of true and false'\n",
      " 'mixture of true and false' 'mixture of true and false'\n",
      " 'mixture of true and false' 'mostly true' 'mixture of true and false'\n",
      " 'mixture of true and false' 'mostly true' 'mixture of true and false'\n",
      " 'no factual content' 'mixture of true and false'\n",
      " 'mixture of true and false' 'mixture of true and false'\n",
      " 'mixture of true and false' 'mixture of true and false' 'mostly true'\n",
      " 'mixture of true and false' 'no factual content'\n",
      " 'mixture of true and false' 'mixture of true and false' 'mostly true'\n",
      " 'mixture of true and false' 'mixture of true and false'\n",
      " 'mixture of true and false' 'mixture of true and false' 'mostly true'\n",
      " 'mostly false' 'mixture of true and false' 'mostly false'\n",
      " 'mixture of true and false' 'mixture of true and false'\n",
      " 'no factual content' 'no factual content' 'mixture of true and false'\n",
      " 'mixture of true and false' 'no factual content'\n",
      " 'mixture of true and false' 'mixture of true and false'\n",
      " 'mixture of true and false' 'mixture of true and false'\n",
      " 'mixture of true and false' 'mixture of true and false'\n",
      " 'mixture of true and false' 'mixture of true and false'\n",
      " 'mixture of true and false' 'mixture of true and false'\n",
      " 'mixture of true and false' 'no factual content' 'no factual content'\n",
      " 'no factual content' 'mixture of true and false'\n",
      " 'mixture of true and false' 'mixture of true and false'\n",
      " 'mixture of true and false' 'mixture of true and false'\n",
      " 'mixture of true and false' 'mixture of true and false'\n",
      " 'mixture of true and false' 'no factual content' 'mostly true'\n",
      " 'mixture of true and false' 'mixture of true and false'\n",
      " 'no factual content' 'mixture of true and false'\n",
      " 'mixture of true and false' 'mixture of true and false'\n",
      " 'no factual content' 'mostly true' 'no factual content'\n",
      " 'mixture of true and false' 'mixture of true and false'\n",
      " 'mixture of true and false' 'mixture of true and false'\n",
      " 'mixture of true and false' 'mixture of true and false'\n",
      " 'mixture of true and false' 'mixture of true and false'\n",
      " 'mixture of true and false' 'mixture of true and false'\n",
      " 'mixture of true and false' 'mixture of true and false'\n",
      " 'mixture of true and false' 'mixture of true and false'\n",
      " 'mixture of true and false' 'mixture of true and false'\n",
      " 'no factual content' 'no factual content' 'no factual content'\n",
      " 'mixture of true and false' 'no factual content' 'no factual content'\n",
      " 'no factual content' 'mixture of true and false' 'no factual content'\n",
      " 'no factual content' 'mostly true' 'mixture of true and false'\n",
      " 'mixture of true and false' 'mixture of true and false'\n",
      " 'mixture of true and false' 'no factual content'\n",
      " 'mixture of true and false' 'no factual content'\n",
      " 'mixture of true and false' 'no factual content'\n",
      " 'mixture of true and false' 'mostly true' 'mixture of true and false'\n",
      " 'no factual content' 'no factual content' 'mixture of true and false'\n",
      " 'no factual content' 'mixture of true and false'\n",
      " 'mixture of true and false' 'mixture of true and false'\n",
      " 'mixture of true and false' 'mixture of true and false'\n",
      " 'mixture of true and false' 'mixture of true and false'\n",
      " 'mixture of true and false' 'no factual content' 'mostly true'\n",
      " 'no factual content' 'mixture of true and false' 'no factual content'\n",
      " 'mixture of true and false' 'mixture of true and false'\n",
      " 'mixture of true and false' 'mixture of true and false'\n",
      " 'mixture of true and false' 'mostly true' 'mixture of true and false'\n",
      " 'mixture of true and false' 'no factual content' 'no factual content'\n",
      " 'no factual content' 'mixture of true and false'\n",
      " 'mixture of true and false' 'mostly true' 'mixture of true and false'\n",
      " 'mixture of true and false' 'no factual content'\n",
      " 'mixture of true and false' 'mixture of true and false'\n",
      " 'mixture of true and false' 'mixture of true and false'\n",
      " 'mixture of true and false' 'mostly true' 'mixture of true and false'\n",
      " 'mixture of true and false' 'mixture of true and false'\n",
      " 'mixture of true and false' 'mixture of true and false' 'mostly true'\n",
      " 'mixture of true and false' 'mixture of true and false'\n",
      " 'mixture of true and false' 'mixture of true and false'\n",
      " 'mixture of true and false' 'mostly true' 'mixture of true and false'\n",
      " 'mixture of true and false' 'mixture of true and false'\n",
      " 'mixture of true and false' 'mixture of true and false' 'mostly true'\n",
      " 'mixture of true and false' 'mixture of true and false'\n",
      " 'mixture of true and false' 'mixture of true and false'\n",
      " 'no factual content' 'mixture of true and false' 'no factual content'\n",
      " 'no factual content' 'mostly false' 'mixture of true and false'\n",
      " 'mixture of true and false' 'mostly false' 'mixture of true and false'\n",
      " 'mixture of true and false' 'mixture of true and false'\n",
      " 'mixture of true and false' 'mixture of true and false'\n",
      " 'mixture of true and false' 'mixture of true and false'\n",
      " 'mixture of true and false' 'mostly true' 'mixture of true and false'\n",
      " 'no factual content' 'no factual content' 'mixture of true and false'\n",
      " 'mostly true' 'no factual content' 'mixture of true and false'\n",
      " 'mixture of true and false' 'mixture of true and false'\n",
      " 'mixture of true and false' 'mostly false' 'mixture of true and false'\n",
      " 'mixture of true and false' 'mixture of true and false'\n",
      " 'mixture of true and false' 'mixture of true and false'\n",
      " 'mixture of true and false' 'mixture of true and false'\n",
      " 'no factual content' 'mostly false' 'no factual content'\n",
      " 'no factual content' 'mixture of true and false'\n",
      " 'mixture of true and false' 'no factual content'\n",
      " 'mixture of true and false' 'mostly true' 'mixture of true and false'\n",
      " 'mixture of true and false' 'mixture of true and false'\n",
      " 'no factual content' 'mixture of true and false'\n",
      " 'mixture of true and false' 'mixture of true and false'\n",
      " 'mixture of true and false' 'mixture of true and false'\n",
      " 'mixture of true and false' 'mixture of true and false'\n",
      " 'mixture of true and false' 'no factual content'\n",
      " 'mixture of true and false' 'mixture of true and false'\n",
      " 'no factual content' 'no factual content' 'mixture of true and false'\n",
      " 'mixture of true and false' 'mixture of true and false'\n",
      " 'mixture of true and false' 'mixture of true and false'\n",
      " 'mixture of true and false' 'mixture of true and false'\n",
      " 'mixture of true and false' 'no factual content' 'no factual content'\n",
      " 'mixture of true and false' 'mixture of true and false'\n",
      " 'mixture of true and false' 'mixture of true and false' 'mostly true'\n",
      " 'mixture of true and false' 'mixture of true and false'\n",
      " 'mixture of true and false' 'no factual content'\n",
      " 'mixture of true and false' 'mixture of true and false'\n",
      " 'mixture of true and false' 'no factual content'\n",
      " 'mixture of true and false' 'mixture of true and false'\n",
      " 'mixture of true and false' 'mixture of true and false'\n",
      " 'no factual content' 'mixture of true and false'\n",
      " 'mixture of true and false' 'mixture of true and false'\n",
      " 'mixture of true and false' 'mixture of true and false' 'mostly false'\n",
      " 'mixture of true and false' 'mixture of true and false'\n",
      " 'mixture of true and false' 'no factual content'\n",
      " 'mixture of true and false' 'mixture of true and false'\n",
      " 'mixture of true and false' 'no factual content' 'no factual content'\n",
      " 'mixture of true and false' 'mixture of true and false'\n",
      " 'mixture of true and false' 'mixture of true and false'\n",
      " 'mixture of true and false' 'mixture of true and false'\n",
      " 'mixture of true and false' 'mixture of true and false'\n",
      " 'mixture of true and false' 'mixture of true and false'\n",
      " 'mixture of true and false' 'mixture of true and false'\n",
      " 'mixture of true and false' 'no factual content'\n",
      " 'mixture of true and false' 'mixture of true and false'\n",
      " 'mixture of true and false' 'no factual content'\n",
      " 'mixture of true and false' 'mostly true' 'mixture of true and false'\n",
      " 'mixture of true and false' 'no factual content'\n",
      " 'mixture of true and false' 'mixture of true and false' 'mostly true'\n",
      " 'mixture of true and false' 'mostly true' 'no factual content'\n",
      " 'mixture of true and false' 'mixture of true and false'\n",
      " 'mixture of true and false' 'mixture of true and false'\n",
      " 'mixture of true and false' 'mixture of true and false'\n",
      " 'mixture of true and false' 'mixture of true and false'\n",
      " 'mixture of true and false' 'no factual content'\n",
      " 'mixture of true and false' 'mixture of true and false'\n",
      " 'mixture of true and false' 'mixture of true and false'\n",
      " 'mixture of true and false' 'mixture of true and false'\n",
      " 'mixture of true and false' 'mixture of true and false'\n",
      " 'mixture of true and false' 'mostly true' 'no factual content'\n",
      " 'mixture of true and false' 'mixture of true and false'\n",
      " 'mixture of true and false' 'mixture of true and false'\n",
      " 'mixture of true and false' 'mixture of true and false'\n",
      " 'mixture of true and false' 'mixture of true and false'\n",
      " 'mixture of true and false' 'mixture of true and false'\n",
      " 'mixture of true and false' 'mixture of true and false'\n",
      " 'mixture of true and false' 'mixture of true and false'\n",
      " 'mixture of true and false' 'mixture of true and false'\n",
      " 'mixture of true and false' 'mostly true' 'mostly true'\n",
      " 'mixture of true and false' 'mixture of true and false'\n",
      " 'mixture of true and false' 'mixture of true and false'\n",
      " 'mixture of true and false' 'mixture of true and false'\n",
      " 'mixture of true and false' 'mixture of true and false'\n",
      " 'mixture of true and false' 'mixture of true and false'\n",
      " 'mixture of true and false' 'mixture of true and false'\n",
      " 'mixture of true and false' 'no factual content'\n",
      " 'mixture of true and false' 'mixture of true and false' 'mostly true'\n",
      " 'mixture of true and false' 'mixture of true and false'\n",
      " 'mixture of true and false' 'mixture of true and false'\n",
      " 'mixture of true and false' 'no factual content'\n",
      " 'mixture of true and false' 'mixture of true and false'\n",
      " 'mixture of true and false' 'no factual content'\n",
      " 'mixture of true and false' 'mixture of true and false'\n",
      " 'mixture of true and false' 'mixture of true and false'\n",
      " 'mixture of true and false' 'no factual content'\n",
      " 'mixture of true and false' 'mixture of true and false' 'mostly true'\n",
      " 'no factual content' 'mixture of true and false'\n",
      " 'mixture of true and false' 'mixture of true and false'\n",
      " 'mixture of true and false' 'mixture of true and false'\n",
      " 'mixture of true and false' 'no factual content'\n",
      " 'mixture of true and false' 'mixture of true and false'\n",
      " 'no factual content' 'mixture of true and false' 'mostly true'\n",
      " 'mixture of true and false' 'mixture of true and false'\n",
      " 'mixture of true and false' 'mixture of true and false' 'mostly true'\n",
      " 'mixture of true and false' 'mixture of true and false'\n",
      " 'mixture of true and false']\n"
     ]
    }
   ],
   "source": [
    "print(confusion_matrix(Y_test, predict_test_rfc_search_twt))\n",
    "print('précision :', accuracy_score(Y_test, predict_test_rfc_search_twt))\n",
    "\n",
    "erreur = 1 - accuracy_score(Y_test, predict_test_rfc_search_twt)\n",
    "print('erreur :', erreur)\n",
    "\n",
    "print('prediction_test :', predict_test_rfc)"
   ]
  },
  {
   "cell_type": "markdown",
   "metadata": {},
   "source": [
    "On peut remarquer que les résultats de ce modèle ressemblent beaucoup à celui du modèle précedent, en plus performant.\n",
    "Ses performances sont semblables au premier modèle, bien que comme précédemment qu'il ne semble toujours pas prédire les valeurs de *mixture of true and false* et *mostly false* dans la base de test."
   ]
  },
  {
   "cell_type": "code",
   "execution_count": 372,
   "metadata": {},
   "outputs": [
    {
     "name": "stdout",
     "output_type": "stream",
     "text": [
      "                           precision    recall  f1-score   support\n",
      "\n",
      "mixture of true and false       0.67      0.16      0.26       193\n",
      "             mostly false       1.00      0.01      0.02        82\n",
      "              mostly true       0.81      0.98      0.89      1306\n",
      "       no factual content       0.72      0.55      0.62       188\n",
      "\n",
      "                 accuracy                           0.80      1769\n",
      "                macro avg       0.80      0.43      0.45      1769\n",
      "             weighted avg       0.79      0.80      0.75      1769\n",
      "\n",
      "                           precision    recall  f1-score   support\n",
      "\n",
      "mixture of true and false       0.00      0.00      0.00        48\n",
      "             mostly false       0.00      0.00      0.00        21\n",
      "              mostly true       0.78      0.92      0.85       327\n",
      "       no factual content       0.50      0.64      0.56        47\n",
      "\n",
      "                 accuracy                           0.74       443\n",
      "                macro avg       0.32      0.39      0.35       443\n",
      "             weighted avg       0.63      0.74      0.68       443\n",
      "\n"
     ]
    }
   ],
   "source": [
    "print(classification_report(Y_train, predict_train_rfc_search_twt))\n",
    "print(classification_report(Y_test, predict_test_rfc_search_twt))"
   ]
  },
  {
   "cell_type": "markdown",
   "metadata": {},
   "source": [
    "On remarque que la précision est encore meilleure en tout point pour la prédiction des catégories *mostly true* et     *no factual content*. Cependant le problème de l'attribution des autres catégories reste le même.\n",
    "\n",
    "Ce modèle est bien sûr le plus performant, ceci étant prévisible puisque c'est le plus élaboré.\n",
    "\n",
    "Dans ce cas précis où la base de données contient une \"échelle\" de véracité, il aurait été pertinant de considérer des modèles de régression linéaire, qui auraient pu offrir des résultats performants. \n",
    "Cependant ici le but était de tester et comparer notre démarche sur une nouvelle base de données, donc nous avons considéré les mêmes modèles."
   ]
  },
  {
   "cell_type": "markdown",
   "metadata": {},
   "source": [
    "# Conclusion :"
   ]
  },
  {
   "cell_type": "markdown",
   "metadata": {},
   "source": [
    "Malgré les limites posées par les bases de données que nous avions à disposition (nous avons en effet passé un certain de temps à rechercher des bases de données adaptées), les différentes étapes que nous avons implémenté nous ont permis de réaliser en autonomie un projet complet de Machine Learning : de la manipulation d'une base de données à l'exploitation de différents modèles. \n",
    "\n",
    "Le but de notre projet n'est évidemment pas d'offir une perspective novatrice et performante sur ces modèles, mais simplement de comprendre les enjeux de l'apprentissage automatique sur un modèle simple, posant une problématique intéressante et actuelle, et accessible à un étudiant de 1A découvrant ces notions.\n",
    "\n",
    "La compréhension profonde de chacune de nos démarches et une prise de recul critique nous a permis d'avancer, d'exploiter nos résultats et de motiver chacun de nos choix (par exemple celui de réaliser une démarche similaire pour une base de données plus grande). Nous avons également découvert et appris à utiliser de nombreux outils (matrice de confusion, classification report, etc).\n",
    "\n",
    "Finalement, certains de nos résultats sont encourageants et montrent la pertinence de notre approche, même si celle-ci reste encore bien perfectible, et que le NLP est souvent bien plus efficace.\n",
    "\n"
   ]
  },
  {
   "cell_type": "code",
   "execution_count": null,
   "metadata": {},
   "outputs": [],
   "source": []
  }
 ],
 "metadata": {
  "kernelspec": {
   "display_name": "Python 3",
   "language": "python",
   "name": "python3"
  },
  "language_info": {
   "codemirror_mode": {
    "name": "ipython",
    "version": 3
   },
   "file_extension": ".py",
   "mimetype": "text/x-python",
   "name": "python",
   "nbconvert_exporter": "python",
   "pygments_lexer": "ipython3",
   "version": "3.7.6"
  }
 },
 "nbformat": 4,
 "nbformat_minor": 4
}
